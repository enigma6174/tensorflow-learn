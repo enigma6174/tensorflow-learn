{
  "nbformat": 4,
  "nbformat_minor": 0,
  "metadata": {
    "colab": {
      "provenance": [],
      "authorship_tag": "ABX9TyN13c123wORADH5Qx/4TIP6",
      "include_colab_link": true
    },
    "kernelspec": {
      "name": "python3",
      "display_name": "Python 3"
    },
    "language_info": {
      "name": "python"
    }
  },
  "cells": [
    {
      "cell_type": "markdown",
      "metadata": {
        "id": "view-in-github",
        "colab_type": "text"
      },
      "source": [
        "<a href=\"https://colab.research.google.com/github/enigma6174/tensorflow-learn/blob/develop/regression/introduction_to_regression.ipynb\" target=\"_parent\"><img src=\"https://colab.research.google.com/assets/colab-badge.svg\" alt=\"Open In Colab\"/></a>"
      ]
    },
    {
      "cell_type": "markdown",
      "source": [
        "# Regression With Neural Networks\n",
        "\n",
        "**Regression** is set of statistical processes for estimating the relationships between a dependent variable and one or more independent variables. The most common form of regression is **linear regression** which basically means to find a line that most closely fits the data according to a specific mathematical equation. "
      ],
      "metadata": {
        "id": "Z-xbMT__OWdZ"
      }
    },
    {
      "cell_type": "code",
      "execution_count": 1,
      "metadata": {
        "id": "_0TGBdZ93Jvs"
      },
      "outputs": [],
      "source": [
        "import numpy as np\n",
        "import tensorflow as tf\n",
        "import matplotlib.pyplot as plt"
      ]
    },
    {
      "cell_type": "code",
      "source": [
        "# create features\n",
        "X = np.random.randint(0, 15, size=(50))\n",
        "X"
      ],
      "metadata": {
        "colab": {
          "base_uri": "https://localhost:8080/"
        },
        "id": "SWBTPSnEQJrt",
        "outputId": "66904221-99e1-40dc-beef-efee43f2f8b8"
      },
      "execution_count": 2,
      "outputs": [
        {
          "output_type": "execute_result",
          "data": {
            "text/plain": [
              "array([13, 11,  0,  3, 14, 13,  7,  3,  3,  1,  9,  9, 13, 12,  5, 10,  2,\n",
              "        3,  8,  2,  5,  9, 10,  4,  4,  9, 10,  0,  1,  8,  2, 11,  9, 14,\n",
              "        7, 11,  5,  7,  5,  0, 12,  1,  3, 11,  5,  9,  5, 13,  4,  6])"
            ]
          },
          "metadata": {},
          "execution_count": 2
        }
      ]
    },
    {
      "cell_type": "code",
      "source": [
        "# create labels where y = 3x + 1\n",
        "y = np.array([((x * 3) + 1) for x in X])\n",
        "y"
      ],
      "metadata": {
        "colab": {
          "base_uri": "https://localhost:8080/"
        },
        "id": "hMP_m8H6QtH0",
        "outputId": "1f788832-2c44-4561-f14a-c52f54668ab0"
      },
      "execution_count": 3,
      "outputs": [
        {
          "output_type": "execute_result",
          "data": {
            "text/plain": [
              "array([40, 34,  1, 10, 43, 40, 22, 10, 10,  4, 28, 28, 40, 37, 16, 31,  7,\n",
              "       10, 25,  7, 16, 28, 31, 13, 13, 28, 31,  1,  4, 25,  7, 34, 28, 43,\n",
              "       22, 34, 16, 22, 16,  1, 37,  4, 10, 34, 16, 28, 16, 40, 13, 19])"
            ]
          },
          "metadata": {},
          "execution_count": 3
        }
      ]
    },
    {
      "cell_type": "code",
      "source": [
        "# plot the data\n",
        "plt.scatter(X, y)\n",
        "plt.xlabel('independent')\n",
        "plt.ylabel('dependent')\n",
        "plt.show()"
      ],
      "metadata": {
        "colab": {
          "base_uri": "https://localhost:8080/",
          "height": 279
        },
        "id": "GKv2pDs3Q9Fa",
        "outputId": "1577a520-e3e9-44e9-a9a8-485a241d08af"
      },
      "execution_count": 4,
      "outputs": [
        {
          "output_type": "display_data",
          "data": {
            "text/plain": [
              "<Figure size 432x288 with 1 Axes>"
            ],
            "image/png": "[encoded data removed]"
          },
          "metadata": {
            "needs_background": "light"
          }
        }
      ]
    },
    {
      "cell_type": "code",
      "source": [
        "# verify the relationship\n",
        "y == 3*X + 1"
      ],
      "metadata": {
        "colab": {
          "base_uri": "https://localhost:8080/"
        },
        "id": "UISWEybPRGQ2",
        "outputId": "7cc50ed2-22cc-47e1-e06d-5941374e47c9"
      },
      "execution_count": 5,
      "outputs": [
        {
          "output_type": "execute_result",
          "data": {
            "text/plain": [
              "array([ True,  True,  True,  True,  True,  True,  True,  True,  True,\n",
              "        True,  True,  True,  True,  True,  True,  True,  True,  True,\n",
              "        True,  True,  True,  True,  True,  True,  True,  True,  True,\n",
              "        True,  True,  True,  True,  True,  True,  True,  True,  True,\n",
              "        True,  True,  True,  True,  True,  True,  True,  True,  True,\n",
              "        True,  True,  True,  True,  True])"
            ]
          },
          "metadata": {},
          "execution_count": 5
        }
      ]
    },
    {
      "cell_type": "code",
      "source": [
        "# create a tensor from the numpy arrays\n",
        "t_x = tf.constant(X)\n",
        "t_y = tf.constant(y)"
      ],
      "metadata": {
        "id": "NVTGP7SMRusf"
      },
      "execution_count": 6,
      "outputs": []
    },
    {
      "cell_type": "code",
      "source": [
        "t_x.shape, t_y.shape"
      ],
      "metadata": {
        "colab": {
          "base_uri": "https://localhost:8080/"
        },
        "id": "mOP0uaOQXPFu",
        "outputId": "53cf728f-0e37-446b-8684-21e7e823bcf8"
      },
      "execution_count": 7,
      "outputs": [
        {
          "output_type": "execute_result",
          "data": {
            "text/plain": [
              "(TensorShape([50]), TensorShape([50]))"
            ]
          },
          "metadata": {},
          "execution_count": 7
        }
      ]
    },
    {
      "cell_type": "code",
      "source": [
        "t_x[0].shape, t_y[0].shape"
      ],
      "metadata": {
        "colab": {
          "base_uri": "https://localhost:8080/"
        },
        "id": "GcynKmGeXT2_",
        "outputId": "ec6bfe28-e6f4-495b-ecaf-13fa53ee03b9"
      },
      "execution_count": 8,
      "outputs": [
        {
          "output_type": "execute_result",
          "data": {
            "text/plain": [
              "(TensorShape([]), TensorShape([]))"
            ]
          },
          "metadata": {},
          "execution_count": 8
        }
      ]
    },
    {
      "cell_type": "code",
      "source": [
        "# reshape the tensors to prepare for neural networks\n",
        "t_x = tf.reshape(t_x, shape=[t_x.shape[0], 1])\n",
        "t_y = tf.reshape(t_y, shape=[t_y.shape[0], 1])"
      ],
      "metadata": {
        "id": "HZDXYS_keIA_"
      },
      "execution_count": 9,
      "outputs": []
    },
    {
      "cell_type": "code",
      "source": [
        "# check the shapes\n",
        "t_x.shape, t_y.shape"
      ],
      "metadata": {
        "colab": {
          "base_uri": "https://localhost:8080/"
        },
        "id": "mTl2GsvifLqn",
        "outputId": "a7384bcd-14d2-4d46-82f1-bf5cc4891bd3"
      },
      "execution_count": 10,
      "outputs": [
        {
          "output_type": "execute_result",
          "data": {
            "text/plain": [
              "(TensorShape([50, 1]), TensorShape([50, 1]))"
            ]
          },
          "metadata": {},
          "execution_count": 10
        }
      ]
    },
    {
      "cell_type": "markdown",
      "source": [
        "## Steps In Creating A Neural Network Model\n",
        "\n",
        "1. **Creating The Model:** Define the input and output layers as well as the hidden layers of the deep learning model. \n",
        "\n",
        "2. **Compile The Model:**\n",
        "  - *Loss Function* tells the model how it is doing (ie. how wrong it is)\n",
        "  - *Optimizer* tells us how to improve the parameters the model is learning\n",
        "  - *Evaluation Metrics* tell us what we can use to interpret the performance of our model\n",
        "\n",
        "3. **Fitting The Model:** Letting the model find patterns between **input features** and **output labels**. This phase is called as training a model\n",
        "\n",
        "4. **Evaluating The Model:** How reliable are our model's predictions? \n"
      ],
      "metadata": {
        "id": "PjUumu-ZYUEB"
      }
    },
    {
      "cell_type": "code",
      "source": [
        "# set the seed for reproducibility\n",
        "tf.random.set_seed(42)\n",
        "\n",
        "# create a model using the Sequential API\n",
        "model = tf.keras.Sequential([\n",
        "    tf.keras.layers.Dense(1)\n",
        "])\n",
        "\n",
        "# compile the model\n",
        "model.compile(loss=tf.keras.losses.mae,\n",
        "              optimizer=tf.keras.optimizers.SGD(),\n",
        "              metrics=['mae'])\n",
        "\n",
        "# fit the model\n",
        "model.fit(t_x, t_y, epochs=5)"
      ],
      "metadata": {
        "colab": {
          "base_uri": "https://localhost:8080/"
        },
        "id": "7xyObtKAYGSN",
        "outputId": "4914fe69-a23d-4164-9301-aea0ee6a470b"
      },
      "execution_count": 11,
      "outputs": [
        {
          "output_type": "stream",
          "name": "stdout",
          "text": [
            "Epoch 1/5\n",
            "2/2 [==============================] - 0s 8ms/step - loss: 17.4113 - mae: 17.4113\n",
            "Epoch 2/5\n",
            "2/2 [==============================] - 0s 5ms/step - loss: 16.4724 - mae: 16.4724\n",
            "Epoch 3/5\n",
            "2/2 [==============================] - 0s 5ms/step - loss: 15.5369 - mae: 15.5369\n",
            "Epoch 4/5\n",
            "2/2 [==============================] - 0s 5ms/step - loss: 14.6076 - mae: 14.6076\n",
            "Epoch 5/5\n",
            "2/2 [==============================] - 0s 5ms/step - loss: 13.6471 - mae: 13.6471\n"
          ]
        },
        {
          "output_type": "execute_result",
          "data": {
            "text/plain": [
              "<keras.callbacks.History at 0x7fa5d74d9070>"
            ]
          },
          "metadata": {},
          "execution_count": 11
        }
      ]
    },
    {
      "cell_type": "code",
      "source": [
        "x_pred = tf.constant([20, 5, 10, 11])"
      ],
      "metadata": {
        "id": "-6rNHfnXmdbb"
      },
      "execution_count": 12,
      "outputs": []
    },
    {
      "cell_type": "code",
      "source": [
        "# use model for prediction - ideally prediction should be close to 3*x + 1\n",
        "y_pred = model.predict(x_pred) # ideally the predictions should be close to [61, 16, 31, 34]\n",
        "y_pred"
      ],
      "metadata": {
        "colab": {
          "base_uri": "https://localhost:8080/"
        },
        "id": "pttwVzjcfVdK",
        "outputId": "e15df00e-cefd-4428-8c2d-bf0fc00b7e47"
      },
      "execution_count": 13,
      "outputs": [
        {
          "output_type": "stream",
          "name": "stdout",
          "text": [
            "1/1 [==============================] - 0s 72ms/step\n"
          ]
        },
        {
          "output_type": "execute_result",
          "data": {
            "text/plain": [
              "array([[25.030363 ],\n",
              "       [ 6.3325906],\n",
              "       [12.565182 ],\n",
              "       [13.8117   ]], dtype=float32)"
            ]
          },
          "metadata": {},
          "execution_count": 13
        }
      ]
    },
    {
      "cell_type": "markdown",
      "source": [
        "## Improving A Neural Network Model\n",
        "\n",
        "1. **Creating The Model:** Add more layers to the model, increase the number of hidden units (also called neurons) within each of the hidden layers, change the activation function etc.\n",
        "\n",
        "2. **Compiling The Model:** Change the optimization function or perhaps the *learning rate* of the optimization function \n",
        "\n",
        "3. **Fitting The Model:** Train the model for more number of *epochs* or on more data (give it more examples to learn from)"
      ],
      "metadata": {
        "id": "E62iv7Mah_Sn"
      }
    },
    {
      "cell_type": "code",
      "source": [
        "# create the model\n",
        "model = tf.keras.Sequential([\n",
        "    tf.keras.layers.Dense(1)\n",
        "])\n",
        "\n",
        "# compile the model\n",
        "model.compile(\n",
        "    loss=tf.keras.losses.mae,\n",
        "    optimizer=tf.keras.optimizers.SGD(),\n",
        "    metrics=['mae']\n",
        ")\n",
        "\n",
        "# train the model - update for 100 epochs\n",
        "model.fit(t_x, t_y, epochs=100)"
      ],
      "metadata": {
        "colab": {
          "base_uri": "https://localhost:8080/"
        },
        "id": "WRqnmPqzhuWU",
        "outputId": "a08f9c0c-eb11-4480-9e57-b5960c814855"
      },
      "execution_count": 14,
      "outputs": [
        {
          "output_type": "stream",
          "name": "stdout",
          "text": [
            "Epoch 1/100\n",
            "2/2 [==============================] - 0s 5ms/step - loss: 16.8602 - mae: 16.8602\n",
            "Epoch 2/100\n",
            "2/2 [==============================] - 0s 4ms/step - loss: 15.9213 - mae: 15.9213\n",
            "Epoch 3/100\n",
            "2/2 [==============================] - 0s 6ms/step - loss: 14.9857 - mae: 14.9857\n",
            "Epoch 4/100\n",
            "2/2 [==============================] - 0s 6ms/step - loss: 14.0564 - mae: 14.0564\n",
            "Epoch 5/100\n",
            "2/2 [==============================] - 0s 4ms/step - loss: 13.0960 - mae: 13.0960\n",
            "Epoch 6/100\n",
            "2/2 [==============================] - 0s 4ms/step - loss: 12.1376 - mae: 12.1376\n",
            "Epoch 7/100\n",
            "2/2 [==============================] - 0s 3ms/step - loss: 11.1824 - mae: 11.1824\n",
            "Epoch 8/100\n",
            "2/2 [==============================] - 0s 5ms/step - loss: 10.2181 - mae: 10.2181\n",
            "Epoch 9/100\n",
            "2/2 [==============================] - 0s 8ms/step - loss: 9.2662 - mae: 9.2662\n",
            "Epoch 10/100\n",
            "2/2 [==============================] - 0s 5ms/step - loss: 8.2964 - mae: 8.2964\n",
            "Epoch 11/100\n",
            "2/2 [==============================] - 0s 5ms/step - loss: 7.3156 - mae: 7.3156\n",
            "Epoch 12/100\n",
            "2/2 [==============================] - 0s 4ms/step - loss: 6.3890 - mae: 6.3890\n",
            "Epoch 13/100\n",
            "2/2 [==============================] - 0s 6ms/step - loss: 5.4454 - mae: 5.4454\n",
            "Epoch 14/100\n",
            "2/2 [==============================] - 0s 5ms/step - loss: 4.4805 - mae: 4.4805\n",
            "Epoch 15/100\n",
            "2/2 [==============================] - 0s 4ms/step - loss: 3.5265 - mae: 3.5265\n",
            "Epoch 16/100\n",
            "2/2 [==============================] - 0s 4ms/step - loss: 2.5658 - mae: 2.5658\n",
            "Epoch 17/100\n",
            "2/2 [==============================] - 0s 4ms/step - loss: 1.6136 - mae: 1.6136\n",
            "Epoch 18/100\n",
            "2/2 [==============================] - 0s 4ms/step - loss: 0.6509 - mae: 0.6509\n",
            "Epoch 19/100\n",
            "2/2 [==============================] - 0s 4ms/step - loss: 0.3891 - mae: 0.3891\n",
            "Epoch 20/100\n",
            "2/2 [==============================] - 0s 9ms/step - loss: 0.2760 - mae: 0.2760\n",
            "Epoch 21/100\n",
            "2/2 [==============================] - 0s 4ms/step - loss: 0.2753 - mae: 0.2753\n",
            "Epoch 22/100\n",
            "2/2 [==============================] - 0s 5ms/step - loss: 0.2884 - mae: 0.2884\n",
            "Epoch 23/100\n",
            "2/2 [==============================] - 0s 4ms/step - loss: 0.3485 - mae: 0.3485\n",
            "Epoch 24/100\n",
            "2/2 [==============================] - 0s 5ms/step - loss: 0.2931 - mae: 0.2931\n",
            "Epoch 25/100\n",
            "2/2 [==============================] - 0s 7ms/step - loss: 0.3055 - mae: 0.3055\n",
            "Epoch 26/100\n",
            "2/2 [==============================] - 0s 5ms/step - loss: 0.3942 - mae: 0.3942\n",
            "Epoch 27/100\n",
            "2/2 [==============================] - 0s 6ms/step - loss: 0.2714 - mae: 0.2714\n",
            "Epoch 28/100\n",
            "2/2 [==============================] - 0s 29ms/step - loss: 0.2847 - mae: 0.2847\n",
            "Epoch 29/100\n",
            "2/2 [==============================] - 0s 6ms/step - loss: 0.2616 - mae: 0.2616\n",
            "Epoch 30/100\n",
            "2/2 [==============================] - 0s 4ms/step - loss: 0.2840 - mae: 0.2840\n",
            "Epoch 31/100\n",
            "2/2 [==============================] - 0s 4ms/step - loss: 0.3031 - mae: 0.3031\n",
            "Epoch 32/100\n",
            "2/2 [==============================] - 0s 5ms/step - loss: 0.3427 - mae: 0.3427\n",
            "Epoch 33/100\n",
            "2/2 [==============================] - 0s 7ms/step - loss: 0.2407 - mae: 0.2407\n",
            "Epoch 34/100\n",
            "2/2 [==============================] - 0s 5ms/step - loss: 0.2485 - mae: 0.2485\n",
            "Epoch 35/100\n",
            "2/2 [==============================] - 0s 5ms/step - loss: 0.2817 - mae: 0.2817\n",
            "Epoch 36/100\n",
            "2/2 [==============================] - 0s 4ms/step - loss: 0.3035 - mae: 0.3035\n",
            "Epoch 37/100\n",
            "2/2 [==============================] - 0s 10ms/step - loss: 0.3212 - mae: 0.3212\n",
            "Epoch 38/100\n",
            "2/2 [==============================] - 0s 7ms/step - loss: 0.3114 - mae: 0.3114\n",
            "Epoch 39/100\n",
            "2/2 [==============================] - 0s 3ms/step - loss: 0.2477 - mae: 0.2477\n",
            "Epoch 40/100\n",
            "2/2 [==============================] - 0s 3ms/step - loss: 0.3620 - mae: 0.3620\n",
            "Epoch 41/100\n",
            "2/2 [==============================] - 0s 4ms/step - loss: 0.3184 - mae: 0.3184\n",
            "Epoch 42/100\n",
            "2/2 [==============================] - 0s 4ms/step - loss: 0.2893 - mae: 0.2893\n",
            "Epoch 43/100\n",
            "2/2 [==============================] - 0s 3ms/step - loss: 0.2722 - mae: 0.2722\n",
            "Epoch 44/100\n",
            "2/2 [==============================] - 0s 3ms/step - loss: 0.2480 - mae: 0.2480\n",
            "Epoch 45/100\n",
            "2/2 [==============================] - 0s 3ms/step - loss: 0.2681 - mae: 0.2681\n",
            "Epoch 46/100\n",
            "2/2 [==============================] - 0s 3ms/step - loss: 0.3693 - mae: 0.3693\n",
            "Epoch 47/100\n",
            "2/2 [==============================] - 0s 3ms/step - loss: 0.2044 - mae: 0.2044\n",
            "Epoch 48/100\n",
            "2/2 [==============================] - 0s 3ms/step - loss: 0.2155 - mae: 0.2155\n",
            "Epoch 49/100\n",
            "2/2 [==============================] - 0s 4ms/step - loss: 0.3181 - mae: 0.3181\n",
            "Epoch 50/100\n",
            "2/2 [==============================] - 0s 3ms/step - loss: 0.3133 - mae: 0.3133\n",
            "Epoch 51/100\n",
            "2/2 [==============================] - 0s 3ms/step - loss: 0.2145 - mae: 0.2145\n",
            "Epoch 52/100\n",
            "2/2 [==============================] - 0s 3ms/step - loss: 0.2605 - mae: 0.2605\n",
            "Epoch 53/100\n",
            "2/2 [==============================] - 0s 3ms/step - loss: 0.1735 - mae: 0.1735\n",
            "Epoch 54/100\n",
            "2/2 [==============================] - 0s 3ms/step - loss: 0.2257 - mae: 0.2257\n",
            "Epoch 55/100\n",
            "2/2 [==============================] - 0s 4ms/step - loss: 0.3158 - mae: 0.3158\n",
            "Epoch 56/100\n",
            "2/2 [==============================] - 0s 4ms/step - loss: 0.1608 - mae: 0.1608\n",
            "Epoch 57/100\n",
            "2/2 [==============================] - 0s 4ms/step - loss: 0.2018 - mae: 0.2018\n",
            "Epoch 58/100\n",
            "2/2 [==============================] - 0s 11ms/step - loss: 0.2870 - mae: 0.2870\n",
            "Epoch 59/100\n",
            "2/2 [==============================] - 0s 4ms/step - loss: 0.2298 - mae: 0.2298\n",
            "Epoch 60/100\n",
            "2/2 [==============================] - 0s 4ms/step - loss: 0.2254 - mae: 0.2254\n",
            "Epoch 61/100\n",
            "2/2 [==============================] - 0s 4ms/step - loss: 0.2698 - mae: 0.2698\n",
            "Epoch 62/100\n",
            "2/2 [==============================] - 0s 4ms/step - loss: 0.3001 - mae: 0.3001\n",
            "Epoch 63/100\n",
            "2/2 [==============================] - 0s 5ms/step - loss: 0.2145 - mae: 0.2145\n",
            "Epoch 64/100\n",
            "2/2 [==============================] - 0s 4ms/step - loss: 0.2676 - mae: 0.2676\n",
            "Epoch 65/100\n",
            "2/2 [==============================] - 0s 4ms/step - loss: 0.3141 - mae: 0.3141\n",
            "Epoch 66/100\n",
            "2/2 [==============================] - 0s 4ms/step - loss: 0.1823 - mae: 0.1823\n",
            "Epoch 67/100\n",
            "2/2 [==============================] - 0s 8ms/step - loss: 0.3117 - mae: 0.3117\n",
            "Epoch 68/100\n",
            "2/2 [==============================] - 0s 4ms/step - loss: 0.3012 - mae: 0.3012\n",
            "Epoch 69/100\n",
            "2/2 [==============================] - 0s 12ms/step - loss: 0.2494 - mae: 0.2494\n",
            "Epoch 70/100\n",
            "2/2 [==============================] - 0s 7ms/step - loss: 0.2192 - mae: 0.2192\n",
            "Epoch 71/100\n",
            "2/2 [==============================] - 0s 8ms/step - loss: 0.1369 - mae: 0.1369\n",
            "Epoch 72/100\n",
            "2/2 [==============================] - 0s 5ms/step - loss: 0.3082 - mae: 0.3082\n",
            "Epoch 73/100\n",
            "2/2 [==============================] - 0s 4ms/step - loss: 0.2568 - mae: 0.2568\n",
            "Epoch 74/100\n",
            "2/2 [==============================] - 0s 4ms/step - loss: 0.2060 - mae: 0.2060\n",
            "Epoch 75/100\n",
            "2/2 [==============================] - 0s 5ms/step - loss: 0.2798 - mae: 0.2798\n",
            "Epoch 76/100\n",
            "2/2 [==============================] - 0s 4ms/step - loss: 0.2598 - mae: 0.2598\n",
            "Epoch 77/100\n",
            "2/2 [==============================] - 0s 4ms/step - loss: 0.2800 - mae: 0.2800\n",
            "Epoch 78/100\n",
            "2/2 [==============================] - 0s 4ms/step - loss: 0.3153 - mae: 0.3153\n",
            "Epoch 79/100\n",
            "2/2 [==============================] - 0s 4ms/step - loss: 0.2519 - mae: 0.2519\n",
            "Epoch 80/100\n",
            "2/2 [==============================] - 0s 4ms/step - loss: 0.2500 - mae: 0.2500\n",
            "Epoch 81/100\n",
            "2/2 [==============================] - 0s 4ms/step - loss: 0.2431 - mae: 0.2431\n",
            "Epoch 82/100\n",
            "2/2 [==============================] - 0s 4ms/step - loss: 0.1237 - mae: 0.1237\n",
            "Epoch 83/100\n",
            "2/2 [==============================] - 0s 4ms/step - loss: 0.2629 - mae: 0.2629\n",
            "Epoch 84/100\n",
            "2/2 [==============================] - 0s 4ms/step - loss: 0.2887 - mae: 0.2887\n",
            "Epoch 85/100\n",
            "2/2 [==============================] - 0s 4ms/step - loss: 0.2503 - mae: 0.2503\n",
            "Epoch 86/100\n",
            "2/2 [==============================] - 0s 4ms/step - loss: 0.2336 - mae: 0.2336\n",
            "Epoch 87/100\n",
            "2/2 [==============================] - 0s 4ms/step - loss: 0.2495 - mae: 0.2495\n",
            "Epoch 88/100\n",
            "2/2 [==============================] - 0s 4ms/step - loss: 0.2261 - mae: 0.2261\n",
            "Epoch 89/100\n",
            "2/2 [==============================] - 0s 4ms/step - loss: 0.1585 - mae: 0.1585\n",
            "Epoch 90/100\n",
            "2/2 [==============================] - 0s 4ms/step - loss: 0.2348 - mae: 0.2348\n",
            "Epoch 91/100\n",
            "2/2 [==============================] - 0s 4ms/step - loss: 0.2460 - mae: 0.2460\n",
            "Epoch 92/100\n",
            "2/2 [==============================] - 0s 4ms/step - loss: 0.2291 - mae: 0.2291\n",
            "Epoch 93/100\n",
            "2/2 [==============================] - 0s 4ms/step - loss: 0.2119 - mae: 0.2119\n",
            "Epoch 94/100\n",
            "2/2 [==============================] - 0s 4ms/step - loss: 0.2746 - mae: 0.2746\n",
            "Epoch 95/100\n",
            "2/2 [==============================] - 0s 4ms/step - loss: 0.2200 - mae: 0.2200\n",
            "Epoch 96/100\n",
            "2/2 [==============================] - 0s 4ms/step - loss: 0.3334 - mae: 0.3334\n",
            "Epoch 97/100\n",
            "2/2 [==============================] - 0s 4ms/step - loss: 0.2605 - mae: 0.2605\n",
            "Epoch 98/100\n",
            "2/2 [==============================] - 0s 4ms/step - loss: 0.2083 - mae: 0.2083\n",
            "Epoch 99/100\n",
            "2/2 [==============================] - 0s 4ms/step - loss: 0.1289 - mae: 0.1289\n",
            "Epoch 100/100\n",
            "2/2 [==============================] - 0s 10ms/step - loss: 0.3107 - mae: 0.3107\n"
          ]
        },
        {
          "output_type": "execute_result",
          "data": {
            "text/plain": [
              "<keras.callbacks.History at 0x7fa5d742df70>"
            ]
          },
          "metadata": {},
          "execution_count": 14
        }
      ]
    },
    {
      "cell_type": "code",
      "source": [
        "# predictions - predicted values should be closer to [61, 16, 31, 34]\n",
        "y_pred = model.predict(x_pred)\n",
        "y_pred"
      ],
      "metadata": {
        "colab": {
          "base_uri": "https://localhost:8080/"
        },
        "id": "VvrYeUvsmsos",
        "outputId": "934b5917-608a-42f6-a3d7-a3f88c7652a6"
      },
      "execution_count": 15,
      "outputs": [
        {
          "output_type": "stream",
          "name": "stdout",
          "text": [
            "1/1 [==============================] - 0s 44ms/step\n"
          ]
        },
        {
          "output_type": "execute_result",
          "data": {
            "text/plain": [
              "array([[61.838543],\n",
              "       [16.104063],\n",
              "       [31.34889 ],\n",
              "       [34.397854]], dtype=float32)"
            ]
          },
          "metadata": {},
          "execution_count": 15
        }
      ]
    },
    {
      "cell_type": "code",
      "source": [
        "# create the model - add more layers with activation\n",
        "model = tf.keras.Sequential([\n",
        "    tf.keras.layers.Dense(100, activation='relu'),\n",
        "    tf.keras.layers.Dense(1)\n",
        "])\n",
        "\n",
        "# compile the model - use adam optimizer\n",
        "model.compile(loss=tf.keras.losses.MeanAbsoluteError(),\n",
        "              optimizer=tf.keras.optimizers.Adam(lr=0.1),\n",
        "              metrics=['mae'])\n",
        "\n",
        "# train the model - use 25 epochs\n",
        "model.fit(t_x, t_y, epochs=25)"
      ],
      "metadata": {
        "colab": {
          "base_uri": "https://localhost:8080/"
        },
        "id": "C3K9dv0QnAS_",
        "outputId": "09565dc1-34b8-440d-943e-6422d7c8fd49"
      },
      "execution_count": 20,
      "outputs": [
        {
          "output_type": "stream",
          "name": "stderr",
          "text": [
            "/usr/local/lib/python3.8/dist-packages/keras/optimizers/optimizer_v2/adam.py:110: UserWarning: The `lr` argument is deprecated, use `learning_rate` instead.\n",
            "  super(Adam, self).__init__(name, **kwargs)\n"
          ]
        },
        {
          "output_type": "stream",
          "name": "stdout",
          "text": [
            "Epoch 1/25\n",
            "2/2 [==============================] - 1s 17ms/step - loss: 16.7459 - mae: 16.7459\n",
            "Epoch 2/25\n",
            "2/2 [==============================] - 0s 8ms/step - loss: 4.0233 - mae: 4.0233\n",
            "Epoch 3/25\n",
            "2/2 [==============================] - 0s 8ms/step - loss: 2.9052 - mae: 2.9052\n",
            "Epoch 4/25\n",
            "2/2 [==============================] - 0s 14ms/step - loss: 2.0410 - mae: 2.0410\n",
            "Epoch 5/25\n",
            "2/2 [==============================] - 0s 7ms/step - loss: 2.9078 - mae: 2.9078\n",
            "Epoch 6/25\n",
            "2/2 [==============================] - 0s 17ms/step - loss: 3.5150 - mae: 3.5150\n",
            "Epoch 7/25\n",
            "2/2 [==============================] - 0s 9ms/step - loss: 3.5498 - mae: 3.5498\n",
            "Epoch 8/25\n",
            "2/2 [==============================] - 0s 6ms/step - loss: 1.4777 - mae: 1.4777\n",
            "Epoch 9/25\n",
            "2/2 [==============================] - 0s 6ms/step - loss: 1.2780 - mae: 1.2780\n",
            "Epoch 10/25\n",
            "2/2 [==============================] - 0s 10ms/step - loss: 0.8293 - mae: 0.8293\n",
            "Epoch 11/25\n",
            "2/2 [==============================] - 0s 5ms/step - loss: 2.7168 - mae: 2.7168\n",
            "Epoch 12/25\n",
            "2/2 [==============================] - 0s 22ms/step - loss: 1.6160 - mae: 1.6160\n",
            "Epoch 13/25\n",
            "2/2 [==============================] - 0s 12ms/step - loss: 0.6623 - mae: 0.6623\n",
            "Epoch 14/25\n",
            "2/2 [==============================] - 0s 13ms/step - loss: 1.9760 - mae: 1.9760\n",
            "Epoch 15/25\n",
            "2/2 [==============================] - 0s 12ms/step - loss: 1.1386 - mae: 1.1386\n",
            "Epoch 16/25\n",
            "2/2 [==============================] - 0s 13ms/step - loss: 1.6689 - mae: 1.6689\n",
            "Epoch 17/25\n",
            "2/2 [==============================] - 0s 10ms/step - loss: 0.8140 - mae: 0.8140\n",
            "Epoch 18/25\n",
            "2/2 [==============================] - 0s 9ms/step - loss: 0.6211 - mae: 0.6211\n",
            "Epoch 19/25\n",
            "2/2 [==============================] - 0s 15ms/step - loss: 0.8357 - mae: 0.8357\n",
            "Epoch 20/25\n",
            "2/2 [==============================] - 0s 12ms/step - loss: 0.9341 - mae: 0.9341\n",
            "Epoch 21/25\n",
            "2/2 [==============================] - 0s 16ms/step - loss: 2.2375 - mae: 2.2375\n",
            "Epoch 22/25\n",
            "2/2 [==============================] - 0s 7ms/step - loss: 1.6181 - mae: 1.6181\n",
            "Epoch 23/25\n",
            "2/2 [==============================] - 0s 9ms/step - loss: 2.6535 - mae: 2.6535\n",
            "Epoch 24/25\n",
            "2/2 [==============================] - 0s 8ms/step - loss: 2.5373 - mae: 2.5373\n",
            "Epoch 25/25\n",
            "2/2 [==============================] - 0s 7ms/step - loss: 1.9109 - mae: 1.9109\n"
          ]
        },
        {
          "output_type": "execute_result",
          "data": {
            "text/plain": [
              "<keras.callbacks.History at 0x7fa5d00ba6a0>"
            ]
          },
          "metadata": {},
          "execution_count": 20
        }
      ]
    },
    {
      "cell_type": "code",
      "source": [
        "# predictions using the trained model\n",
        "y_pred = model.predict(x_pred) # predicted values should be near [61, 16, 31, 34]\n",
        "y_pred"
      ],
      "metadata": {
        "colab": {
          "base_uri": "https://localhost:8080/"
        },
        "id": "_hwbwhqKsulx",
        "outputId": "1e8a78e9-4f10-4b6a-f637-ed45b01faab1"
      },
      "execution_count": 21,
      "outputs": [
        {
          "output_type": "stream",
          "name": "stderr",
          "text": [
            "WARNING:tensorflow:5 out of the last 5 calls to <function Model.make_predict_function.<locals>.predict_function at 0x7fa5d740c8b0> triggered tf.function retracing. Tracing is expensive and the excessive number of tracings could be due to (1) creating @tf.function repeatedly in a loop, (2) passing tensors with different shapes, (3) passing Python objects instead of tensors. For (1), please define your @tf.function outside of the loop. For (2), @tf.function has reduce_retracing=True option that can avoid unnecessary retracing. For (3), please refer to https://www.tensorflow.org/guide/function#controlling_retracing and https://www.tensorflow.org/api_docs/python/tf/function for  more details.\n"
          ]
        },
        {
          "output_type": "stream",
          "name": "stdout",
          "text": [
            "1/1 [==============================] - 0s 60ms/step\n"
          ]
        },
        {
          "output_type": "execute_result",
          "data": {
            "text/plain": [
              "array([[54.0207  ],\n",
              "       [14.119275],\n",
              "       [27.41957 ],\n",
              "       [30.079706]], dtype=float32)"
            ]
          },
          "metadata": {},
          "execution_count": 21
        }
      ]
    },
    {
      "cell_type": "code",
      "source": [
        "# observation - adam optimizer does not work well on this data - very slow\n",
        "# experiment - use SGD optimizer for the last model\n",
        "\n",
        "# create the model\n",
        "model = tf.keras.Sequential([\n",
        "    tf.keras.layers.Dense(7, activation='relu'),\n",
        "    tf.keras.layers.Dense(3, activation='relu'),\n",
        "    tf.keras.layers.Dense(1)\n",
        "])\n",
        "\n",
        "# compile the model - use SGD optimizer\n",
        "model.compile(loss=tf.keras.losses.mae,\n",
        "              optimizer=tf.keras.optimizers.SGD(),\n",
        "              metrics=['mae'])\n",
        "\n",
        "# train the model - use 25 epochs\n",
        "model.fit(t_x, t_y, epochs=25)"
      ],
      "metadata": {
        "colab": {
          "base_uri": "https://localhost:8080/"
        },
        "id": "Mq7RRk4go9qm",
        "outputId": "f4ad8624-5c72-4933-c899-6c45a1901a86"
      },
      "execution_count": 18,
      "outputs": [
        {
          "output_type": "stream",
          "name": "stdout",
          "text": [
            "Epoch 1/25\n",
            "2/2 [==============================] - 1s 8ms/step - loss: 21.8563 - mae: 21.8563\n",
            "Epoch 2/25\n",
            "2/2 [==============================] - 0s 11ms/step - loss: 21.4577 - mae: 21.4577\n",
            "Epoch 3/25\n",
            "2/2 [==============================] - 0s 7ms/step - loss: 21.0781 - mae: 21.0781\n",
            "Epoch 4/25\n",
            "2/2 [==============================] - 0s 7ms/step - loss: 20.6737 - mae: 20.6737\n",
            "Epoch 5/25\n",
            "2/2 [==============================] - 0s 6ms/step - loss: 20.1767 - mae: 20.1767\n",
            "Epoch 6/25\n",
            "2/2 [==============================] - 0s 7ms/step - loss: 19.5319 - mae: 19.5319\n",
            "Epoch 7/25\n",
            "2/2 [==============================] - 0s 10ms/step - loss: 18.6375 - mae: 18.6375\n",
            "Epoch 8/25\n",
            "2/2 [==============================] - 0s 7ms/step - loss: 17.3058 - mae: 17.3058\n",
            "Epoch 9/25\n",
            "2/2 [==============================] - 0s 5ms/step - loss: 15.2549 - mae: 15.2549\n",
            "Epoch 10/25\n",
            "2/2 [==============================] - 0s 5ms/step - loss: 11.7956 - mae: 11.7956\n",
            "Epoch 11/25\n",
            "2/2 [==============================] - 0s 9ms/step - loss: 5.5173 - mae: 5.5173\n",
            "Epoch 12/25\n",
            "2/2 [==============================] - 0s 5ms/step - loss: 3.5885 - mae: 3.5885\n",
            "Epoch 13/25\n",
            "2/2 [==============================] - 0s 7ms/step - loss: 2.0241 - mae: 2.0241\n",
            "Epoch 14/25\n",
            "2/2 [==============================] - 0s 4ms/step - loss: 2.8025 - mae: 2.8025\n",
            "Epoch 15/25\n",
            "2/2 [==============================] - 0s 5ms/step - loss: 1.8171 - mae: 1.8171\n",
            "Epoch 16/25\n",
            "2/2 [==============================] - 0s 4ms/step - loss: 2.7963 - mae: 2.7963\n",
            "Epoch 17/25\n",
            "2/2 [==============================] - 0s 4ms/step - loss: 2.2749 - mae: 2.2749\n",
            "Epoch 18/25\n",
            "2/2 [==============================] - 0s 7ms/step - loss: 2.8120 - mae: 2.8120\n",
            "Epoch 19/25\n",
            "2/2 [==============================] - 0s 8ms/step - loss: 3.2656 - mae: 3.2656\n",
            "Epoch 20/25\n",
            "2/2 [==============================] - 0s 5ms/step - loss: 3.2455 - mae: 3.2455\n",
            "Epoch 21/25\n",
            "2/2 [==============================] - 0s 6ms/step - loss: 3.6981 - mae: 3.6981\n",
            "Epoch 22/25\n",
            "2/2 [==============================] - 0s 4ms/step - loss: 4.5919 - mae: 4.5919\n",
            "Epoch 23/25\n",
            "2/2 [==============================] - 0s 4ms/step - loss: 4.3590 - mae: 4.3590\n",
            "Epoch 24/25\n",
            "2/2 [==============================] - 0s 4ms/step - loss: 3.5178 - mae: 3.5178\n",
            "Epoch 25/25\n",
            "2/2 [==============================] - 0s 4ms/step - loss: 2.6993 - mae: 2.6993\n"
          ]
        },
        {
          "output_type": "execute_result",
          "data": {
            "text/plain": [
              "<keras.callbacks.History at 0x7fa5d6df7220>"
            ]
          },
          "metadata": {},
          "execution_count": 18
        }
      ]
    },
    {
      "cell_type": "code",
      "source": [
        "# make predictions \n",
        "y_pred = model.predict(x_pred) # should be close to [61, 16, 31, 34]\n",
        "y_pred"
      ],
      "metadata": {
        "colab": {
          "base_uri": "https://localhost:8080/"
        },
        "id": "q76QuY2OrKBq",
        "outputId": "b746aa17-6a2e-4c07-9215-dc49cf2eb913"
      },
      "execution_count": 19,
      "outputs": [
        {
          "output_type": "stream",
          "name": "stdout",
          "text": [
            "1/1 [==============================] - 0s 57ms/step\n"
          ]
        },
        {
          "output_type": "execute_result",
          "data": {
            "text/plain": [
              "array([[54.06441 ],\n",
              "       [14.097735],\n",
              "       [27.41996 ],\n",
              "       [30.084404]], dtype=float32)"
            ]
          },
          "metadata": {},
          "execution_count": 19
        }
      ]
    },
    {
      "cell_type": "markdown",
      "source": [
        "### Recap: Common Steps To Improve A Model\n",
        "\n",
        "- Adding More Layers\n",
        "- Increase The Number Of Hidden Units\n",
        "- Change The Activation Function\n",
        "- Change The Optimization Function\n",
        "- Change The Learning Rate\n",
        "- Train For More Epochs\n",
        "- Use More Data"
      ],
      "metadata": {
        "id": "_FiigqtZuvNq"
      }
    },
    {
      "cell_type": "code",
      "source": [],
      "metadata": {
        "id": "kUbMKl3AsTOS"
      },
      "execution_count": null,
      "outputs": []
    }
  ]
}