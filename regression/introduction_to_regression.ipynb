{
  "nbformat": 4,
  "nbformat_minor": 0,
  "metadata": {
    "colab": {
      "provenance": [],
      "authorship_tag": "ABX9TyOlpoDW3y/v6vX7eKQ1zwuZ",
      "include_colab_link": true
    },
    "kernelspec": {
      "name": "python3",
      "display_name": "Python 3"
    },
    "language_info": {
      "name": "python"
    }
  },
  "cells": [
    {
      "cell_type": "markdown",
      "metadata": {
        "id": "view-in-github",
        "colab_type": "text"
      },
      "source": [
        "<a href=\"https://colab.research.google.com/github/enigma6174/tensorflow-learn/blob/develop/regression/introduction_to_regression.ipynb\" target=\"_parent\"><img src=\"https://colab.research.google.com/assets/colab-badge.svg\" alt=\"Open In Colab\"/></a>"
      ]
    },
    {
      "cell_type": "markdown",
      "source": [
        "# Regression With Neural Networks\n",
        "\n",
        "**Regression** is set of statistical processes for estimating the relationships between a dependent variable and one or more independent variables. The most common form of regression is **linear regression** which basically means to find a line that most closely fits the data according to a specific mathematical equation. "
      ],
      "metadata": {
        "id": "Z-xbMT__OWdZ"
      }
    },
    {
      "cell_type": "code",
      "execution_count": 286,
      "metadata": {
        "id": "_0TGBdZ93Jvs"
      },
      "outputs": [],
      "source": [
        "import numpy as np\n",
        "import pandas as pd\n",
        "import tensorflow as tf\n",
        "import matplotlib.pyplot as plt"
      ]
    },
    {
      "cell_type": "code",
      "source": [
        "# create the trai data\n",
        "X_train = np.random.randint(0, 50, size=(20))\n",
        "y_train = np.array([((x * 3) + 1) for x in X_train]) # y = 3x + 1"
      ],
      "metadata": {
        "id": "SWBTPSnEQJrt"
      },
      "execution_count": 11,
      "outputs": []
    },
    {
      "cell_type": "code",
      "source": [
        "# create the test data\n",
        "X_test = np.random.randint(0, 50, size=(5))\n",
        "y_test = np.array([((x * 3) + 1) for x in X_test])"
      ],
      "metadata": {
        "id": "hMP_m8H6QtH0"
      },
      "execution_count": 12,
      "outputs": []
    },
    {
      "cell_type": "code",
      "source": [
        "# plot the data\n",
        "plt.scatter(X_train, y_train)\n",
        "plt.xlabel('independent')\n",
        "plt.ylabel('dependent')\n",
        "plt.show()"
      ],
      "metadata": {
        "colab": {
          "base_uri": "https://localhost:8080/",
          "height": 279
        },
        "id": "GKv2pDs3Q9Fa",
        "outputId": "529c5b0d-ca30-4e72-aba7-7a7c16e927d3"
      },
      "execution_count": 13,
      "outputs": [
        {
          "output_type": "display_data",
          "data": {
            "text/plain": [
              "<Figure size 432x288 with 1 Axes>"
            ],
            "image/png": "[encoded data removed]"
          },
          "metadata": {
            "needs_background": "light"
          }
        }
      ]
    },
    {
      "cell_type": "code",
      "source": [
        "# reshape the train data into tensors for neural networks\n",
        "xt_train = tf.reshape(tf.constant(X_train), shape=[X_train.shape[0], 1])\n",
        "yt_train = tf.reshape(tf.constant(y_train), shape=[y_train.shape[0], 1])"
      ],
      "metadata": {
        "id": "GcynKmGeXT2_"
      },
      "execution_count": 14,
      "outputs": []
    },
    {
      "cell_type": "code",
      "source": [
        "xt_train.shape, yt_train.shape"
      ],
      "metadata": {
        "colab": {
          "base_uri": "https://localhost:8080/"
        },
        "id": "OwXBStKoBCUS",
        "outputId": "7a25c99d-e53e-47c5-8b10-c00fbc8c1dc1"
      },
      "execution_count": 15,
      "outputs": [
        {
          "output_type": "execute_result",
          "data": {
            "text/plain": [
              "(TensorShape([20, 1]), TensorShape([20, 1]))"
            ]
          },
          "metadata": {},
          "execution_count": 15
        }
      ]
    },
    {
      "cell_type": "code",
      "source": [
        "# reshape the test data into tensors for neural networks\n",
        "xt_test = tf.reshape(tf.constant(X_test), shape=[X_test.shape[0], 1])\n",
        "yt_test = tf.reshape(tf.constant(y_test), shape=[y_test.shape[0], 1])"
      ],
      "metadata": {
        "id": "HZDXYS_keIA_"
      },
      "execution_count": 16,
      "outputs": []
    },
    {
      "cell_type": "code",
      "source": [
        "xt_test.shape, yt_test.shape"
      ],
      "metadata": {
        "colab": {
          "base_uri": "https://localhost:8080/"
        },
        "id": "mTl2GsvifLqn",
        "outputId": "61f88ece-34ac-4977-db0c-2acf4f3c8a39"
      },
      "execution_count": 17,
      "outputs": [
        {
          "output_type": "execute_result",
          "data": {
            "text/plain": [
              "(TensorShape([5, 1]), TensorShape([5, 1]))"
            ]
          },
          "metadata": {},
          "execution_count": 17
        }
      ]
    },
    {
      "cell_type": "markdown",
      "source": [
        "## Steps In Creating A Neural Network Model\n",
        "\n",
        "1. **Creating The Model:** Define the input and output layers as well as the hidden layers of the deep learning model. \n",
        "\n",
        "2. **Compile The Model:**\n",
        "  - *Loss Function* tells the model how it is doing (ie. how wrong it is)\n",
        "  - *Optimizer* tells us how to improve the parameters the model is learning\n",
        "  - *Evaluation Metrics* tell us what we can use to interpret the performance of our model\n",
        "\n",
        "3. **Fitting The Model:** Letting the model find patterns between **input features** and **output labels**. This phase is called as training a model\n",
        "\n",
        "4. **Evaluating The Model:** How reliable are our model's predictions? \n"
      ],
      "metadata": {
        "id": "PjUumu-ZYUEB"
      }
    },
    {
      "cell_type": "code",
      "source": [
        "# set the seed for reproducibility\n",
        "tf.random.set_seed(42)\n",
        "\n",
        "# create a model using the Sequential API\n",
        "model = tf.keras.Sequential([\n",
        "    tf.keras.layers.Dense(1)\n",
        "])\n",
        "\n",
        "# compile the model\n",
        "model.compile(loss=tf.keras.losses.mae,\n",
        "              optimizer=tf.keras.optimizers.SGD(),\n",
        "              metrics=['mae'])\n",
        "\n",
        "# fit the model\n",
        "model.fit(xt_train, yt_train, epochs=5)"
      ],
      "metadata": {
        "colab": {
          "base_uri": "https://localhost:8080/"
        },
        "id": "7xyObtKAYGSN",
        "outputId": "fd062c79-a7fd-4e79-e488-fc00400f906a"
      },
      "execution_count": 18,
      "outputs": [
        {
          "output_type": "stream",
          "name": "stdout",
          "text": [
            "Epoch 1/5\n",
            "1/1 [==============================] - 0s 309ms/step - loss: 68.1878 - mae: 68.1878\n",
            "Epoch 2/5\n",
            "1/1 [==============================] - 0s 9ms/step - loss: 60.5326 - mae: 60.5326\n",
            "Epoch 3/5\n",
            "1/1 [==============================] - 0s 10ms/step - loss: 52.8774 - mae: 52.8774\n",
            "Epoch 4/5\n",
            "1/1 [==============================] - 0s 7ms/step - loss: 45.2222 - mae: 45.2222\n",
            "Epoch 5/5\n",
            "1/1 [==============================] - 0s 9ms/step - loss: 37.5669 - mae: 37.5669\n"
          ]
        },
        {
          "output_type": "execute_result",
          "data": {
            "text/plain": [
              "<keras.callbacks.History at 0x7fd26a9105b0>"
            ]
          },
          "metadata": {},
          "execution_count": 18
        }
      ]
    },
    {
      "cell_type": "code",
      "source": [
        "x_pred = tf.constant([20, 5, 10, 11])"
      ],
      "metadata": {
        "id": "-6rNHfnXmdbb"
      },
      "execution_count": 19,
      "outputs": []
    },
    {
      "cell_type": "code",
      "source": [
        "# use model for prediction - ideally prediction should be close to 3*x + 1\n",
        "y_pred = model.predict(x_pred) # ideally the predictions should be close to [61, 16, 31, 34]\n",
        "y_pred"
      ],
      "metadata": {
        "colab": {
          "base_uri": "https://localhost:8080/"
        },
        "id": "pttwVzjcfVdK",
        "outputId": "923f49e9-5cf0-4bd5-dd32-d6b3c75129db"
      },
      "execution_count": 20,
      "outputs": [
        {
          "output_type": "stream",
          "name": "stdout",
          "text": [
            "1/1 [==============================] - 0s 86ms/step\n"
          ]
        },
        {
          "output_type": "execute_result",
          "data": {
            "text/plain": [
              "array([[39.101196],\n",
              "       [ 9.812799],\n",
              "       [19.575598],\n",
              "       [21.528158]], dtype=float32)"
            ]
          },
          "metadata": {},
          "execution_count": 20
        }
      ]
    },
    {
      "cell_type": "markdown",
      "source": [
        "## Improving A Neural Network Model\n",
        "\n",
        "1. **Creating The Model:** Add more layers to the model, increase the number of hidden units (also called neurons) within each of the hidden layers, change the activation function etc.\n",
        "\n",
        "2. **Compiling The Model:** Change the optimization function or perhaps the *learning rate* of the optimization function \n",
        "\n",
        "3. **Fitting The Model:** Train the model for more number of *epochs* or on more data (give it more examples to learn from)"
      ],
      "metadata": {
        "id": "E62iv7Mah_Sn"
      }
    },
    {
      "cell_type": "code",
      "source": [
        "# create the model\n",
        "model = tf.keras.Sequential([\n",
        "    tf.keras.layers.Dense(1)\n",
        "])\n",
        "\n",
        "# compile the model\n",
        "model.compile(\n",
        "    loss=tf.keras.losses.mae,\n",
        "    optimizer=tf.keras.optimizers.SGD(),\n",
        "    metrics=['mae']\n",
        ")\n",
        "\n",
        "# train the model - update for 100 epochs\n",
        "model.fit(xt_train, yt_train, epochs=100)"
      ],
      "metadata": {
        "colab": {
          "base_uri": "https://localhost:8080/"
        },
        "id": "WRqnmPqzhuWU",
        "outputId": "72e9ced3-a13c-4edb-c336-cc0e1bd886b6"
      },
      "execution_count": 21,
      "outputs": [
        {
          "output_type": "stream",
          "name": "stdout",
          "text": [
            "Epoch 1/100\n",
            "1/1 [==============================] - 1s 562ms/step - loss: 65.9533 - mae: 65.9533\n",
            "Epoch 2/100\n",
            "1/1 [==============================] - 0s 12ms/step - loss: 58.2981 - mae: 58.2981\n",
            "Epoch 3/100\n",
            "1/1 [==============================] - 0s 15ms/step - loss: 50.6429 - mae: 50.6429\n",
            "Epoch 4/100\n",
            "1/1 [==============================] - 0s 10ms/step - loss: 42.9877 - mae: 42.9877\n",
            "Epoch 5/100\n",
            "1/1 [==============================] - 0s 8ms/step - loss: 35.3324 - mae: 35.3324\n",
            "Epoch 6/100\n",
            "1/1 [==============================] - 0s 18ms/step - loss: 27.6772 - mae: 27.6772\n",
            "Epoch 7/100\n",
            "1/1 [==============================] - 0s 9ms/step - loss: 20.0220 - mae: 20.0220\n",
            "Epoch 8/100\n",
            "1/1 [==============================] - 0s 8ms/step - loss: 12.3668 - mae: 12.3668\n",
            "Epoch 9/100\n",
            "1/1 [==============================] - 0s 9ms/step - loss: 4.7115 - mae: 4.7115\n",
            "Epoch 10/100\n",
            "1/1 [==============================] - 0s 8ms/step - loss: 3.0281 - mae: 3.0281\n",
            "Epoch 11/100\n",
            "1/1 [==============================] - 0s 6ms/step - loss: 4.5160 - mae: 4.5160\n",
            "Epoch 12/100\n",
            "1/1 [==============================] - 0s 14ms/step - loss: 3.2184 - mae: 3.2184\n",
            "Epoch 13/100\n",
            "1/1 [==============================] - 0s 8ms/step - loss: 4.3204 - mae: 4.3204\n",
            "Epoch 14/100\n",
            "1/1 [==============================] - 0s 6ms/step - loss: 3.4086 - mae: 3.4086\n",
            "Epoch 15/100\n",
            "1/1 [==============================] - 0s 6ms/step - loss: 4.1249 - mae: 4.1249\n",
            "Epoch 16/100\n",
            "1/1 [==============================] - 0s 7ms/step - loss: 3.5989 - mae: 3.5989\n",
            "Epoch 17/100\n",
            "1/1 [==============================] - 0s 7ms/step - loss: 3.9293 - mae: 3.9293\n",
            "Epoch 18/100\n",
            "1/1 [==============================] - 0s 8ms/step - loss: 3.7891 - mae: 3.7891\n",
            "Epoch 19/100\n",
            "1/1 [==============================] - 0s 7ms/step - loss: 3.7338 - mae: 3.7338\n",
            "Epoch 20/100\n",
            "1/1 [==============================] - 0s 8ms/step - loss: 3.9794 - mae: 3.9794\n",
            "Epoch 21/100\n",
            "1/1 [==============================] - 0s 7ms/step - loss: 3.5382 - mae: 3.5382\n",
            "Epoch 22/100\n",
            "1/1 [==============================] - 0s 7ms/step - loss: 4.1696 - mae: 4.1696\n",
            "Epoch 23/100\n",
            "1/1 [==============================] - 0s 9ms/step - loss: 3.3427 - mae: 3.3427\n",
            "Epoch 24/100\n",
            "1/1 [==============================] - 0s 10ms/step - loss: 4.3599 - mae: 4.3599\n",
            "Epoch 25/100\n",
            "1/1 [==============================] - 0s 7ms/step - loss: 3.1471 - mae: 3.1471\n",
            "Epoch 26/100\n",
            "1/1 [==============================] - 0s 6ms/step - loss: 4.5501 - mae: 4.5501\n",
            "Epoch 27/100\n",
            "1/1 [==============================] - 0s 6ms/step - loss: 2.9516 - mae: 2.9516\n",
            "Epoch 28/100\n",
            "1/1 [==============================] - 0s 6ms/step - loss: 4.7404 - mae: 4.7404\n",
            "Epoch 29/100\n",
            "1/1 [==============================] - 0s 6ms/step - loss: 2.7560 - mae: 2.7560\n",
            "Epoch 30/100\n",
            "1/1 [==============================] - 0s 7ms/step - loss: 4.9306 - mae: 4.9306\n",
            "Epoch 31/100\n",
            "1/1 [==============================] - 0s 8ms/step - loss: 2.5605 - mae: 2.5605\n",
            "Epoch 32/100\n",
            "1/1 [==============================] - 0s 6ms/step - loss: 5.1209 - mae: 5.1209\n",
            "Epoch 33/100\n",
            "1/1 [==============================] - 0s 6ms/step - loss: 2.3649 - mae: 2.3649\n",
            "Epoch 34/100\n",
            "1/1 [==============================] - 0s 6ms/step - loss: 5.3119 - mae: 5.3119\n",
            "Epoch 35/100\n",
            "1/1 [==============================] - 0s 7ms/step - loss: 2.2810 - mae: 2.2810\n",
            "Epoch 36/100\n",
            "1/1 [==============================] - 0s 8ms/step - loss: 5.3948 - mae: 5.3948\n",
            "Epoch 37/100\n",
            "1/1 [==============================] - 0s 6ms/step - loss: 2.1970 - mae: 2.1970\n",
            "Epoch 38/100\n",
            "1/1 [==============================] - 0s 7ms/step - loss: 5.4778 - mae: 5.4778\n",
            "Epoch 39/100\n",
            "1/1 [==============================] - 0s 7ms/step - loss: 2.1131 - mae: 2.1131\n",
            "Epoch 40/100\n",
            "1/1 [==============================] - 0s 8ms/step - loss: 5.5607 - mae: 5.5607\n",
            "Epoch 41/100\n",
            "1/1 [==============================] - 0s 7ms/step - loss: 2.0291 - mae: 2.0291\n",
            "Epoch 42/100\n",
            "1/1 [==============================] - 0s 7ms/step - loss: 5.6437 - mae: 5.6437\n",
            "Epoch 43/100\n",
            "1/1 [==============================] - 0s 8ms/step - loss: 1.9452 - mae: 1.9452\n",
            "Epoch 44/100\n",
            "1/1 [==============================] - 0s 6ms/step - loss: 5.7266 - mae: 5.7266\n",
            "Epoch 45/100\n",
            "1/1 [==============================] - 0s 7ms/step - loss: 1.8612 - mae: 1.8612\n",
            "Epoch 46/100\n",
            "1/1 [==============================] - 0s 9ms/step - loss: 5.8096 - mae: 5.8096\n",
            "Epoch 47/100\n",
            "1/1 [==============================] - 0s 7ms/step - loss: 1.7773 - mae: 1.7773\n",
            "Epoch 48/100\n",
            "1/1 [==============================] - 0s 6ms/step - loss: 5.8925 - mae: 5.8925\n",
            "Epoch 49/100\n",
            "1/1 [==============================] - 0s 13ms/step - loss: 1.6933 - mae: 1.6933\n",
            "Epoch 50/100\n",
            "1/1 [==============================] - 0s 6ms/step - loss: 5.9755 - mae: 5.9755\n",
            "Epoch 51/100\n",
            "1/1 [==============================] - 0s 6ms/step - loss: 1.6094 - mae: 1.6094\n",
            "Epoch 52/100\n",
            "1/1 [==============================] - 0s 6ms/step - loss: 6.0584 - mae: 6.0584\n",
            "Epoch 53/100\n",
            "1/1 [==============================] - 0s 6ms/step - loss: 1.5254 - mae: 1.5254\n",
            "Epoch 54/100\n",
            "1/1 [==============================] - 0s 7ms/step - loss: 6.1414 - mae: 6.1414\n",
            "Epoch 55/100\n",
            "1/1 [==============================] - 0s 7ms/step - loss: 1.4415 - mae: 1.4415\n",
            "Epoch 56/100\n",
            "1/1 [==============================] - 0s 6ms/step - loss: 6.2243 - mae: 6.2243\n",
            "Epoch 57/100\n",
            "1/1 [==============================] - 0s 7ms/step - loss: 1.3575 - mae: 1.3575\n",
            "Epoch 58/100\n",
            "1/1 [==============================] - 0s 7ms/step - loss: 6.3073 - mae: 6.3073\n",
            "Epoch 59/100\n",
            "1/1 [==============================] - 0s 10ms/step - loss: 1.2736 - mae: 1.2736\n",
            "Epoch 60/100\n",
            "1/1 [==============================] - 0s 6ms/step - loss: 6.3902 - mae: 6.3902\n",
            "Epoch 61/100\n",
            "1/1 [==============================] - 0s 6ms/step - loss: 1.1896 - mae: 1.1896\n",
            "Epoch 62/100\n",
            "1/1 [==============================] - 0s 6ms/step - loss: 6.4732 - mae: 6.4732\n",
            "Epoch 63/100\n",
            "1/1 [==============================] - 0s 6ms/step - loss: 1.1057 - mae: 1.1057\n",
            "Epoch 64/100\n",
            "1/1 [==============================] - 0s 7ms/step - loss: 6.5561 - mae: 6.5561\n",
            "Epoch 65/100\n",
            "1/1 [==============================] - 0s 7ms/step - loss: 1.0217 - mae: 1.0217\n",
            "Epoch 66/100\n",
            "1/1 [==============================] - 0s 7ms/step - loss: 6.6391 - mae: 6.6391\n",
            "Epoch 67/100\n",
            "1/1 [==============================] - 0s 8ms/step - loss: 0.9378 - mae: 0.9378\n",
            "Epoch 68/100\n",
            "1/1 [==============================] - 0s 7ms/step - loss: 6.7220 - mae: 6.7220\n",
            "Epoch 69/100\n",
            "1/1 [==============================] - 0s 9ms/step - loss: 0.8538 - mae: 0.8538\n",
            "Epoch 70/100\n",
            "1/1 [==============================] - 0s 6ms/step - loss: 6.8050 - mae: 6.8050\n",
            "Epoch 71/100\n",
            "1/1 [==============================] - 0s 9ms/step - loss: 0.7699 - mae: 0.7699\n",
            "Epoch 72/100\n",
            "1/1 [==============================] - 0s 6ms/step - loss: 6.8879 - mae: 6.8879\n",
            "Epoch 73/100\n",
            "1/1 [==============================] - 0s 12ms/step - loss: 0.6859 - mae: 0.6859\n",
            "Epoch 74/100\n",
            "1/1 [==============================] - 0s 7ms/step - loss: 6.9709 - mae: 6.9709\n",
            "Epoch 75/100\n",
            "1/1 [==============================] - 0s 7ms/step - loss: 0.6020 - mae: 0.6020\n",
            "Epoch 76/100\n",
            "1/1 [==============================] - 0s 6ms/step - loss: 7.0538 - mae: 7.0538\n",
            "Epoch 77/100\n",
            "1/1 [==============================] - 0s 12ms/step - loss: 0.5180 - mae: 0.5180\n",
            "Epoch 78/100\n",
            "1/1 [==============================] - 0s 12ms/step - loss: 7.1372 - mae: 7.1372\n",
            "Epoch 79/100\n",
            "1/1 [==============================] - 0s 6ms/step - loss: 0.5180 - mae: 0.5180\n",
            "Epoch 80/100\n",
            "1/1 [==============================] - 0s 6ms/step - loss: 7.1372 - mae: 7.1372\n",
            "Epoch 81/100\n",
            "1/1 [==============================] - 0s 6ms/step - loss: 0.5180 - mae: 0.5180\n",
            "Epoch 82/100\n",
            "1/1 [==============================] - 0s 6ms/step - loss: 7.1372 - mae: 7.1372\n",
            "Epoch 83/100\n",
            "1/1 [==============================] - 0s 6ms/step - loss: 0.5180 - mae: 0.5180\n",
            "Epoch 84/100\n",
            "1/1 [==============================] - 0s 6ms/step - loss: 7.1372 - mae: 7.1372\n",
            "Epoch 85/100\n",
            "1/1 [==============================] - 0s 6ms/step - loss: 0.5180 - mae: 0.5180\n",
            "Epoch 86/100\n",
            "1/1 [==============================] - 0s 7ms/step - loss: 7.1372 - mae: 7.1372\n",
            "Epoch 87/100\n",
            "1/1 [==============================] - 0s 8ms/step - loss: 0.5180 - mae: 0.5180\n",
            "Epoch 88/100\n",
            "1/1 [==============================] - 0s 7ms/step - loss: 7.1372 - mae: 7.1372\n",
            "Epoch 89/100\n",
            "1/1 [==============================] - 0s 7ms/step - loss: 0.5180 - mae: 0.5180\n",
            "Epoch 90/100\n",
            "1/1 [==============================] - 0s 7ms/step - loss: 7.1372 - mae: 7.1372\n",
            "Epoch 91/100\n",
            "1/1 [==============================] - 0s 9ms/step - loss: 0.5180 - mae: 0.5180\n",
            "Epoch 92/100\n",
            "1/1 [==============================] - 0s 6ms/step - loss: 7.1372 - mae: 7.1372\n",
            "Epoch 93/100\n",
            "1/1 [==============================] - 0s 6ms/step - loss: 0.5180 - mae: 0.5180\n",
            "Epoch 94/100\n",
            "1/1 [==============================] - 0s 6ms/step - loss: 7.1372 - mae: 7.1372\n",
            "Epoch 95/100\n",
            "1/1 [==============================] - 0s 6ms/step - loss: 0.5180 - mae: 0.5180\n",
            "Epoch 96/100\n",
            "1/1 [==============================] - 0s 7ms/step - loss: 7.1372 - mae: 7.1372\n",
            "Epoch 97/100\n",
            "1/1 [==============================] - 0s 8ms/step - loss: 0.5180 - mae: 0.5180\n",
            "Epoch 98/100\n",
            "1/1 [==============================] - 0s 6ms/step - loss: 7.1372 - mae: 7.1372\n",
            "Epoch 99/100\n",
            "1/1 [==============================] - 0s 6ms/step - loss: 0.5180 - mae: 0.5180\n",
            "Epoch 100/100\n",
            "1/1 [==============================] - 0s 6ms/step - loss: 7.1372 - mae: 7.1372\n"
          ]
        },
        {
          "output_type": "execute_result",
          "data": {
            "text/plain": [
              "<keras.callbacks.History at 0x7fd26a99faf0>"
            ]
          },
          "metadata": {},
          "execution_count": 21
        }
      ]
    },
    {
      "cell_type": "code",
      "source": [
        "# predictions - predicted values should be closer to [61, 16, 31, 34]\n",
        "y_pred = model.predict(x_pred)\n",
        "y_pred"
      ],
      "metadata": {
        "colab": {
          "base_uri": "https://localhost:8080/"
        },
        "id": "VvrYeUvsmsos",
        "outputId": "2b4306ea-f712-46db-d9b4-a60628f5969a"
      },
      "execution_count": 22,
      "outputs": [
        {
          "output_type": "stream",
          "name": "stdout",
          "text": [
            "1/1 [==============================] - 0s 47ms/step\n"
          ]
        },
        {
          "output_type": "execute_result",
          "data": {
            "text/plain": [
              "array([[60.383488 ],\n",
              "       [15.1903715],\n",
              "       [30.254744 ],\n",
              "       [33.267616 ]], dtype=float32)"
            ]
          },
          "metadata": {},
          "execution_count": 22
        }
      ]
    },
    {
      "cell_type": "code",
      "source": [
        "# create the model - add more layers with activation\n",
        "model = tf.keras.Sequential([\n",
        "    tf.keras.layers.Dense(100, activation='relu'),\n",
        "    tf.keras.layers.Dense(1)\n",
        "])\n",
        "\n",
        "# compile the model - use adam optimizer\n",
        "model.compile(loss=tf.keras.losses.MeanAbsoluteError(),\n",
        "              optimizer=tf.keras.optimizers.Adam(lr=0.1),\n",
        "              metrics=['mae'])\n",
        "\n",
        "# train the model - use 25 epochs\n",
        "model.fit(xt_train, yt_train, epochs=25)"
      ],
      "metadata": {
        "colab": {
          "base_uri": "https://localhost:8080/"
        },
        "id": "C3K9dv0QnAS_",
        "outputId": "dc1b0dab-0b47-473c-ec14-b0ce69fef8a7"
      },
      "execution_count": 23,
      "outputs": [
        {
          "output_type": "stream",
          "name": "stdout",
          "text": [
            "Epoch 1/25\n"
          ]
        },
        {
          "output_type": "stream",
          "name": "stderr",
          "text": [
            "/usr/local/lib/python3.8/dist-packages/keras/optimizers/optimizer_v2/adam.py:110: UserWarning: The `lr` argument is deprecated, use `learning_rate` instead.\n",
            "  super(Adam, self).__init__(name, **kwargs)\n"
          ]
        },
        {
          "output_type": "stream",
          "name": "stdout",
          "text": [
            "1/1 [==============================] - 0s 493ms/step - loss: 76.2129 - mae: 76.2129\n",
            "Epoch 2/25\n",
            "1/1 [==============================] - 0s 10ms/step - loss: 40.6362 - mae: 40.6362\n",
            "Epoch 3/25\n",
            "1/1 [==============================] - 0s 14ms/step - loss: 6.9411 - mae: 6.9411\n",
            "Epoch 4/25\n",
            "1/1 [==============================] - 0s 9ms/step - loss: 3.8820 - mae: 3.8820\n",
            "Epoch 5/25\n",
            "1/1 [==============================] - 0s 10ms/step - loss: 16.5300 - mae: 16.5300\n",
            "Epoch 6/25\n",
            "1/1 [==============================] - 0s 8ms/step - loss: 17.5750 - mae: 17.5750\n",
            "Epoch 7/25\n",
            "1/1 [==============================] - 0s 8ms/step - loss: 7.4924 - mae: 7.4924\n",
            "Epoch 8/25\n",
            "1/1 [==============================] - 0s 7ms/step - loss: 12.6581 - mae: 12.6581\n",
            "Epoch 9/25\n",
            "1/1 [==============================] - 0s 10ms/step - loss: 17.7363 - mae: 17.7363\n",
            "Epoch 10/25\n",
            "1/1 [==============================] - 0s 11ms/step - loss: 10.6458 - mae: 10.6458\n",
            "Epoch 11/25\n",
            "1/1 [==============================] - 0s 8ms/step - loss: 4.2598 - mae: 4.2598\n",
            "Epoch 12/25\n",
            "1/1 [==============================] - 0s 7ms/step - loss: 8.7307 - mae: 8.7307\n",
            "Epoch 13/25\n",
            "1/1 [==============================] - 0s 8ms/step - loss: 5.6014 - mae: 5.6014\n",
            "Epoch 14/25\n",
            "1/1 [==============================] - 0s 7ms/step - loss: 4.2490 - mae: 4.2490\n",
            "Epoch 15/25\n",
            "1/1 [==============================] - 0s 9ms/step - loss: 5.5339 - mae: 5.5339\n",
            "Epoch 16/25\n",
            "1/1 [==============================] - 0s 11ms/step - loss: 0.7058 - mae: 0.7058\n",
            "Epoch 17/25\n",
            "1/1 [==============================] - 0s 10ms/step - loss: 0.6027 - mae: 0.6027\n",
            "Epoch 18/25\n",
            "1/1 [==============================] - 0s 8ms/step - loss: 4.6195 - mae: 4.6195\n",
            "Epoch 19/25\n",
            "1/1 [==============================] - 0s 9ms/step - loss: 2.3290 - mae: 2.3290\n",
            "Epoch 20/25\n",
            "1/1 [==============================] - 0s 8ms/step - loss: 5.8862 - mae: 5.8862\n",
            "Epoch 21/25\n",
            "1/1 [==============================] - 0s 8ms/step - loss: 7.2586 - mae: 7.2586\n",
            "Epoch 22/25\n",
            "1/1 [==============================] - 0s 7ms/step - loss: 2.9269 - mae: 2.9269\n",
            "Epoch 23/25\n",
            "1/1 [==============================] - 0s 7ms/step - loss: 6.9255 - mae: 6.9255\n",
            "Epoch 24/25\n",
            "1/1 [==============================] - 0s 7ms/step - loss: 9.5709 - mae: 9.5709\n",
            "Epoch 25/25\n",
            "1/1 [==============================] - 0s 7ms/step - loss: 5.5408 - mae: 5.5408\n"
          ]
        },
        {
          "output_type": "execute_result",
          "data": {
            "text/plain": [
              "<keras.callbacks.History at 0x7fd26973ce80>"
            ]
          },
          "metadata": {},
          "execution_count": 23
        }
      ]
    },
    {
      "cell_type": "code",
      "source": [
        "# predictions using the trained model\n",
        "y_pred = model.predict(x_pred) # predicted values should be near [61, 16, 31, 34]\n",
        "y_pred"
      ],
      "metadata": {
        "colab": {
          "base_uri": "https://localhost:8080/"
        },
        "id": "_hwbwhqKsulx",
        "outputId": "459da804-1af5-4b88-f333-f91504ead05b"
      },
      "execution_count": 24,
      "outputs": [
        {
          "output_type": "stream",
          "name": "stdout",
          "text": [
            "1/1 [==============================] - 0s 55ms/step\n"
          ]
        },
        {
          "output_type": "execute_result",
          "data": {
            "text/plain": [
              "array([[58.32923 ],\n",
              "       [15.502793],\n",
              "       [29.776628],\n",
              "       [32.63189 ]], dtype=float32)"
            ]
          },
          "metadata": {},
          "execution_count": 24
        }
      ]
    },
    {
      "cell_type": "code",
      "source": [
        "# create the model\n",
        "model = tf.keras.Sequential([\n",
        "    tf.keras.layers.Dense(7, activation='relu'),\n",
        "    tf.keras.layers.Dense(3, activation='relu'),\n",
        "    tf.keras.layers.Dense(1)\n",
        "])\n",
        "\n",
        "# compile the model - use SGD optimizer\n",
        "model.compile(loss=tf.keras.losses.mae,\n",
        "              optimizer=tf.keras.optimizers.SGD(),\n",
        "              metrics=['mae'])\n",
        "\n",
        "# train the model - use 25 epochs\n",
        "model.fit(xt_train, yt_train, epochs=25)"
      ],
      "metadata": {
        "colab": {
          "base_uri": "https://localhost:8080/"
        },
        "id": "Mq7RRk4go9qm",
        "outputId": "78fc3bac-a487-4ce3-b16f-9abd9fa161fe"
      },
      "execution_count": 25,
      "outputs": [
        {
          "output_type": "stream",
          "name": "stdout",
          "text": [
            "Epoch 1/25\n",
            "1/1 [==============================] - 0s 362ms/step - loss: 85.8467 - mae: 85.8467\n",
            "Epoch 2/25\n",
            "1/1 [==============================] - 0s 12ms/step - loss: 82.7374 - mae: 82.7374\n",
            "Epoch 3/25\n",
            "1/1 [==============================] - 0s 14ms/step - loss: 79.8309 - mae: 79.8309\n",
            "Epoch 4/25\n",
            "1/1 [==============================] - 0s 11ms/step - loss: 75.6168 - mae: 75.6168\n",
            "Epoch 5/25\n",
            "1/1 [==============================] - 0s 10ms/step - loss: 67.8950 - mae: 67.8950\n",
            "Epoch 6/25\n",
            "1/1 [==============================] - 0s 9ms/step - loss: 51.4927 - mae: 51.4927\n",
            "Epoch 7/25\n",
            "1/1 [==============================] - 0s 9ms/step - loss: 10.8941 - mae: 10.8941\n",
            "Epoch 8/25\n",
            "1/1 [==============================] - 0s 9ms/step - loss: 112.8197 - mae: 112.8197\n",
            "Epoch 9/25\n",
            "1/1 [==============================] - 0s 10ms/step - loss: 64.7658 - mae: 64.7658\n",
            "Epoch 10/25\n",
            "1/1 [==============================] - 0s 9ms/step - loss: 45.9462 - mae: 45.9462\n",
            "Epoch 11/25\n",
            "1/1 [==============================] - 0s 7ms/step - loss: 2.2688 - mae: 2.2688\n",
            "Epoch 12/25\n",
            "1/1 [==============================] - 0s 8ms/step - loss: 65.2116 - mae: 65.2116\n",
            "Epoch 13/25\n",
            "1/1 [==============================] - 0s 8ms/step - loss: 47.4127 - mae: 47.4127\n",
            "Epoch 14/25\n",
            "1/1 [==============================] - 0s 8ms/step - loss: 2.3880 - mae: 2.3880\n",
            "Epoch 15/25\n",
            "1/1 [==============================] - 0s 8ms/step - loss: 138.9786 - mae: 138.9786\n",
            "Epoch 16/25\n",
            "1/1 [==============================] - 0s 6ms/step - loss: 64.3768 - mae: 64.3768\n",
            "Epoch 17/25\n",
            "1/1 [==============================] - 0s 8ms/step - loss: 45.9478 - mae: 45.9478\n",
            "Epoch 18/25\n",
            "1/1 [==============================] - 0s 10ms/step - loss: 1.1752 - mae: 1.1752\n",
            "Epoch 19/25\n",
            "1/1 [==============================] - 0s 7ms/step - loss: 64.8340 - mae: 64.8340\n",
            "Epoch 20/25\n",
            "1/1 [==============================] - 0s 6ms/step - loss: 47.1128 - mae: 47.1128\n",
            "Epoch 21/25\n",
            "1/1 [==============================] - 0s 8ms/step - loss: 2.2642 - mae: 2.2642\n",
            "Epoch 22/25\n",
            "1/1 [==============================] - 0s 9ms/step - loss: 138.5385 - mae: 138.5385\n",
            "Epoch 23/25\n",
            "1/1 [==============================] - 0s 8ms/step - loss: 64.1395 - mae: 64.1395\n",
            "Epoch 24/25\n",
            "1/1 [==============================] - 0s 6ms/step - loss: 45.6248 - mae: 45.6248\n",
            "Epoch 25/25\n",
            "1/1 [==============================] - 0s 6ms/step - loss: 1.7525 - mae: 1.7525\n"
          ]
        },
        {
          "output_type": "execute_result",
          "data": {
            "text/plain": [
              "<keras.callbacks.History at 0x7fd2691995b0>"
            ]
          },
          "metadata": {},
          "execution_count": 25
        }
      ]
    },
    {
      "cell_type": "code",
      "source": [
        "# make predictions \n",
        "y_pred = model.predict(x_pred) # should be close to [61, 16, 31, 34]\n",
        "y_pred"
      ],
      "metadata": {
        "colab": {
          "base_uri": "https://localhost:8080/"
        },
        "id": "q76QuY2OrKBq",
        "outputId": "ec05cd4a-41f0-48c3-bfec-c842027c8922"
      },
      "execution_count": 26,
      "outputs": [
        {
          "output_type": "stream",
          "name": "stdout",
          "text": [
            "1/1 [==============================] - 0s 60ms/step\n"
          ]
        },
        {
          "output_type": "execute_result",
          "data": {
            "text/plain": [
              "array([[14.0109215],\n",
              "       [ 3.6537876],\n",
              "       [ 7.1061654],\n",
              "       [ 7.796642 ]], dtype=float32)"
            ]
          },
          "metadata": {},
          "execution_count": 26
        }
      ]
    },
    {
      "cell_type": "markdown",
      "source": [
        "### Recap: Common Steps To Improve A Model\n",
        "\n",
        "- Adding More Layers\n",
        "- Increase The Number Of Hidden Units\n",
        "- Change The Activation Function\n",
        "- Change The Optimization Function\n",
        "- Change The Learning Rate\n",
        "- Train For More Epochs\n",
        "- Use More Data\n",
        "\n",
        "> Since all the above values can be altered by the user to modify the outcome of the neural network they are referred to as **hyperparameters**. The values that the neural network learns on it's own are called as **parameters** and these are not coded by the user"
      ],
      "metadata": {
        "id": "_FiigqtZuvNq"
      }
    },
    {
      "cell_type": "markdown",
      "source": [
        "## Evaluating A Neural Network\n",
        "\n",
        "Before evaluating a neural network model, it is a good idea to visualize a model. The following points can be considered for visualizing a model:  \n",
        "\n",
        "- **Data:** What data are we working with? What does it look like?\n",
        "- **Model:** What does our model look like?\n",
        "- **Training:** How does the model perform when it learns?\n",
        "- **Predictions:** How the predictions of our model line up against the ground truth?\n",
        "\n",
        "\n",
        "### The Three-Set Principle\n",
        "After loading the dataset and before getting started with the neural network model, the data needs to be split into 3 sets as mentioned:\n",
        "\n",
        "- **Training Set:** The dataset used for training the model - typically covers around 70% of the total data available\n",
        "- **Validation Set:** The model gets tuned on this data - typically covers around 15% of the total data available\n",
        "- **Test Set:** The model gets evaluated on this data to test what and how well it has learned - typically covers around 15% of the total data available  \n",
        "\n",
        "**Note**  \n",
        "If the model automatically splits the train data into train and validation data internally, then all we need to do is split the original dataset as per the 80-20 ratio: 80% for training and 20% for testing."
      ],
      "metadata": {
        "id": "lIfMChNCKwsD"
      }
    },
    {
      "cell_type": "code",
      "source": [
        "# create the dataset\n",
        "X = tf.range(-500, 500, 4)\n",
        "y = 3 * X + 5"
      ],
      "metadata": {
        "id": "kUbMKl3AsTOS"
      },
      "execution_count": 62,
      "outputs": []
    },
    {
      "cell_type": "code",
      "source": [
        "X.shape, y.shape"
      ],
      "metadata": {
        "colab": {
          "base_uri": "https://localhost:8080/"
        },
        "id": "Dqu7tdsXPIFQ",
        "outputId": "709a93c7-d3ec-4cbc-8cea-2b54ab1a5e52"
      },
      "execution_count": 63,
      "outputs": [
        {
          "output_type": "execute_result",
          "data": {
            "text/plain": [
              "(TensorShape([250]), TensorShape([250]))"
            ]
          },
          "metadata": {},
          "execution_count": 63
        }
      ]
    },
    {
      "cell_type": "code",
      "source": [
        "# create the train set (80%)\n",
        "x_train = X[:200]\n",
        "y_train = y[:200]\n",
        "\n",
        "# create the test set (20%)\n",
        "x_test = X[200:]\n",
        "y_test = y[200:]"
      ],
      "metadata": {
        "id": "0lZxhHMUPbdU"
      },
      "execution_count": 64,
      "outputs": []
    },
    {
      "cell_type": "code",
      "source": [
        "# reshape the train set for neural networks\n",
        "x_train = tf.expand_dims(x_train, axis=-1)\n",
        "y_train = tf.expand_dims(y_train, axis=-1)\n",
        "\n",
        "x_train.shape, y_train.shape"
      ],
      "metadata": {
        "colab": {
          "base_uri": "https://localhost:8080/"
        },
        "id": "QXFU0XczJJww",
        "outputId": "e89b96d7-6438-4976-8e93-ff1418792231"
      },
      "execution_count": 65,
      "outputs": [
        {
          "output_type": "execute_result",
          "data": {
            "text/plain": [
              "(TensorShape([200, 1]), TensorShape([200, 1]))"
            ]
          },
          "metadata": {},
          "execution_count": 65
        }
      ]
    },
    {
      "cell_type": "code",
      "source": [
        "# reshape the test set for neural networks\n",
        "x_test = tf.expand_dims(x_test, axis=-1)\n",
        "y_test = tf.expand_dims(y_test, axis=-1)\n",
        "\n",
        "x_test.shape, y_test.shape"
      ],
      "metadata": {
        "colab": {
          "base_uri": "https://localhost:8080/"
        },
        "id": "uJLtu7flQM_m",
        "outputId": "db3fb331-48dd-4ac1-8925-cb02c8298350"
      },
      "execution_count": 66,
      "outputs": [
        {
          "output_type": "execute_result",
          "data": {
            "text/plain": [
              "(TensorShape([50, 1]), TensorShape([50, 1]))"
            ]
          },
          "metadata": {},
          "execution_count": 66
        }
      ]
    },
    {
      "cell_type": "code",
      "source": [
        "# plot the data\n",
        "plt.figure(figsize=(10, 8))\n",
        "plt.scatter(x_train, y_train, c='blue', label='train_data')\n",
        "plt.scatter(x_test, y_test, c='red', label='test_data')\n",
        "plt.legend()\n",
        "plt.show()"
      ],
      "metadata": {
        "colab": {
          "base_uri": "https://localhost:8080/",
          "height": 483
        },
        "id": "moF3xwqAKNO5",
        "outputId": "ad813cd8-b69a-4763-c5cb-26464ba36db4"
      },
      "execution_count": 68,
      "outputs": [
        {
          "output_type": "display_data",
          "data": {
            "text/plain": [
              "<Figure size 720x576 with 1 Axes>"
            ],
            "image/png": "[encoded data removed]"
          },
          "metadata": {
            "needs_background": "light"
          }
        }
      ]
    },
    {
      "cell_type": "markdown",
      "source": [
        "### Visualizing The Neural Network Model"
      ],
      "metadata": {
        "id": "MWubCDGBhxKI"
      }
    },
    {
      "cell_type": "code",
      "source": [
        "model = tf.keras.Sequential([\n",
        "    tf.keras.layers.Dense(100, input_shape=[1], activation='relu', name='hidden_1'),\n",
        "    tf.keras.layers.Dense(1, input_shape=[100], name='output')\n",
        "], name='practice_model_1')\n",
        "\n",
        "model.compile(loss=tf.keras.losses.mae,\n",
        "              optimizer=tf.keras.optimizers.Adam(learning_rate=1e-3),\n",
        "              metrics=['mae'])"
      ],
      "metadata": {
        "id": "8NzBJJ5rKXvO"
      },
      "execution_count": 216,
      "outputs": []
    },
    {
      "cell_type": "code",
      "source": [
        "model.summary()"
      ],
      "metadata": {
        "colab": {
          "base_uri": "https://localhost:8080/"
        },
        "id": "vEi21VVfio7Q",
        "outputId": "d211795d-7705-49eb-8f25-e8bbdc472116"
      },
      "execution_count": 213,
      "outputs": [
        {
          "output_type": "stream",
          "name": "stdout",
          "text": [
            "Model: \"practice_model_1\"\n",
            "_________________________________________________________________\n",
            " Layer (type)                Output Shape              Param #   \n",
            "=================================================================\n",
            " hidden_1 (Dense)            (None, 100)               200       \n",
            "                                                                 \n",
            " output (Dense)              (None, 1)                 101       \n",
            "                                                                 \n",
            "=================================================================\n",
            "Total params: 301\n",
            "Trainable params: 301\n",
            "Non-trainable params: 0\n",
            "_________________________________________________________________\n"
          ]
        }
      ]
    },
    {
      "cell_type": "code",
      "source": [
        "tf.keras.utils.plot_model(model=model, show_shapes=True)"
      ],
      "metadata": {
        "colab": {
          "base_uri": "https://localhost:8080/",
          "height": 312
        },
        "id": "yY9rS8YQtkFd",
        "outputId": "8fb56bd4-4ea6-4439-c28d-5f6bad2abfa8"
      },
      "execution_count": 214,
      "outputs": [
        {
          "output_type": "execute_result",
          "data": {
            "image/png": "[encoded data removed]",
            "text/plain": [
              "<IPython.core.display.Image object>"
            ]
          },
          "metadata": {},
          "execution_count": 214
        }
      ]
    },
    {
      "cell_type": "code",
      "source": [
        "model.fit(x_train, y_train, epochs=25)"
      ],
      "metadata": {
        "colab": {
          "base_uri": "https://localhost:8080/"
        },
        "id": "bHz_v9R4iqaA",
        "outputId": "fddc1c35-36e1-4f3f-bb4b-f1369aa33ade"
      },
      "execution_count": 217,
      "outputs": [
        {
          "output_type": "stream",
          "name": "stdout",
          "text": [
            "Epoch 1/25\n",
            "7/7 [==============================] - 0s 3ms/step - loss: 649.5697 - mae: 649.5697\n",
            "Epoch 2/25\n",
            "7/7 [==============================] - 0s 3ms/step - loss: 629.4219 - mae: 629.4219\n",
            "Epoch 3/25\n",
            "7/7 [==============================] - 0s 3ms/step - loss: 609.2116 - mae: 609.2116\n",
            "Epoch 4/25\n",
            "7/7 [==============================] - 0s 3ms/step - loss: 588.8792 - mae: 588.8792\n",
            "Epoch 5/25\n",
            "7/7 [==============================] - 0s 2ms/step - loss: 568.1895 - mae: 568.1895\n",
            "Epoch 6/25\n",
            "7/7 [==============================] - 0s 3ms/step - loss: 547.6375 - mae: 547.6375\n",
            "Epoch 7/25\n",
            "7/7 [==============================] - 0s 3ms/step - loss: 525.6747 - mae: 525.6747\n",
            "Epoch 8/25\n",
            "7/7 [==============================] - 0s 4ms/step - loss: 503.2773 - mae: 503.2773\n",
            "Epoch 9/25\n",
            "7/7 [==============================] - 0s 5ms/step - loss: 478.9355 - mae: 478.9355\n",
            "Epoch 10/25\n",
            "7/7 [==============================] - 0s 5ms/step - loss: 454.4638 - mae: 454.4638\n",
            "Epoch 11/25\n",
            "7/7 [==============================] - 0s 3ms/step - loss: 428.4389 - mae: 428.4389\n",
            "Epoch 12/25\n",
            "7/7 [==============================] - 0s 4ms/step - loss: 400.7567 - mae: 400.7567\n",
            "Epoch 13/25\n",
            "7/7 [==============================] - 0s 3ms/step - loss: 372.5617 - mae: 372.5617\n",
            "Epoch 14/25\n",
            "7/7 [==============================] - 0s 3ms/step - loss: 342.3647 - mae: 342.3647\n",
            "Epoch 15/25\n",
            "7/7 [==============================] - 0s 3ms/step - loss: 310.1396 - mae: 310.1396\n",
            "Epoch 16/25\n",
            "7/7 [==============================] - 0s 3ms/step - loss: 276.7254 - mae: 276.7254\n",
            "Epoch 17/25\n",
            "7/7 [==============================] - 0s 3ms/step - loss: 241.0074 - mae: 241.0074\n",
            "Epoch 18/25\n",
            "7/7 [==============================] - 0s 3ms/step - loss: 204.2107 - mae: 204.2107\n",
            "Epoch 19/25\n",
            "7/7 [==============================] - 0s 3ms/step - loss: 164.0140 - mae: 164.0140\n",
            "Epoch 20/25\n",
            "7/7 [==============================] - 0s 3ms/step - loss: 123.0914 - mae: 123.0914\n",
            "Epoch 21/25\n",
            "7/7 [==============================] - 0s 3ms/step - loss: 82.4165 - mae: 82.4165\n",
            "Epoch 22/25\n",
            "7/7 [==============================] - 0s 3ms/step - loss: 78.4846 - mae: 78.4846\n",
            "Epoch 23/25\n",
            "7/7 [==============================] - 0s 3ms/step - loss: 63.7057 - mae: 63.7057\n",
            "Epoch 24/25\n",
            "7/7 [==============================] - 0s 3ms/step - loss: 54.6271 - mae: 54.6271\n",
            "Epoch 25/25\n",
            "7/7 [==============================] - 0s 4ms/step - loss: 43.7963 - mae: 43.7963\n"
          ]
        },
        {
          "output_type": "execute_result",
          "data": {
            "text/plain": [
              "<keras.callbacks.History at 0x7fd25724e3a0>"
            ]
          },
          "metadata": {},
          "execution_count": 217
        }
      ]
    },
    {
      "cell_type": "markdown",
      "source": [
        "### Visualizing The Model's Predictions\n",
        "\n",
        "Plot the predictions against the ground truth labels to get a good idea of the model's predictions"
      ],
      "metadata": {
        "id": "zqaMGfe_zNPJ"
      }
    },
    {
      "cell_type": "code",
      "source": [
        "# get the predictions\n",
        "y_pred = model.predict(x_test)"
      ],
      "metadata": {
        "colab": {
          "base_uri": "https://localhost:8080/"
        },
        "id": "2erg8D4cr8og",
        "outputId": "1ba19d9c-9b58-452f-bdb7-f600c01b91de"
      },
      "execution_count": 218,
      "outputs": [
        {
          "output_type": "stream",
          "name": "stdout",
          "text": [
            "2/2 [==============================] - 0s 6ms/step\n"
          ]
        }
      ]
    },
    {
      "cell_type": "code",
      "source": [
        "plt.figure(figsize=(10, 8))\n",
        "\n",
        "# plot the training data\n",
        "plt.scatter(x_train, y_train, c=\"blue\", label=\"train_data\")\n",
        "\n",
        "# plot the testing data\n",
        "plt.scatter(x_test, y_test, c=\"green\", label=\"test_data\")\n",
        "\n",
        "# plot the predictions\n",
        "plt.scatter(x_test, y_pred, c=\"red\", label=\"predictions\")\n",
        "\n",
        "plt.legend()\n",
        "plt.show()"
      ],
      "metadata": {
        "colab": {
          "base_uri": "https://localhost:8080/",
          "height": 483
        },
        "id": "HanO4ttDEB71",
        "outputId": "e82b1372-f448-4d24-bff4-4fe2eb31f4bc"
      },
      "execution_count": 219,
      "outputs": [
        {
          "output_type": "display_data",
          "data": {
            "text/plain": [
              "<Figure size 720x576 with 1 Axes>"
            ],
            "image/png": "[encoded data removed]"
          },
          "metadata": {
            "needs_background": "light"
          }
        }
      ]
    },
    {
      "cell_type": "markdown",
      "source": [
        "### Evaluating The Model's Predictions With Metrics\n",
        "\n",
        "Some of the most popular metrics for evaluating the predictions of a regression model are:\n",
        "\n",
        "- **Mean Absolute Error (MAE):** Measure of the predictions errors on an average\n",
        "- **Mean Squared Error (MSE):** Square of the mean of the errors\n",
        "- **Huber:** - A combination of MAE and MSE and much less sensitive to outliers"
      ],
      "metadata": {
        "id": "NGPtHJfdI3Xv"
      }
    },
    {
      "cell_type": "code",
      "source": [
        "# evaluate the model on the test set\n",
        "model.evaluate(x_test, y_test)"
      ],
      "metadata": {
        "colab": {
          "base_uri": "https://localhost:8080/"
        },
        "id": "HLhF6GpuGmj0",
        "outputId": "c2fe4563-7c1f-4d9b-a9ae-d2df3af25a38"
      },
      "execution_count": 220,
      "outputs": [
        {
          "output_type": "stream",
          "name": "stdout",
          "text": [
            "2/2 [==============================] - 0s 5ms/step - loss: 245.5639 - mae: 245.5639\n"
          ]
        },
        {
          "output_type": "execute_result",
          "data": {
            "text/plain": [
              "[245.56390380859375, 245.56390380859375]"
            ]
          },
          "metadata": {},
          "execution_count": 220
        }
      ]
    },
    {
      "cell_type": "code",
      "source": [
        "# calculate the mae by hand\n",
        "# need to remove the extra dimensions otherwise we will only get a tensor of absolute differences\n",
        "tf.metrics.mean_absolute_error(tf.squeeze(y_test), np.squeeze(y_pred))"
      ],
      "metadata": {
        "colab": {
          "base_uri": "https://localhost:8080/"
        },
        "id": "SQBznt9FLm6l",
        "outputId": "630f97d7-ddd8-4deb-b965-c51afbd6541a"
      },
      "execution_count": 249,
      "outputs": [
        {
          "output_type": "execute_result",
          "data": {
            "text/plain": [
              "<tf.Tensor: shape=(), dtype=float32, numpy=245.5639>"
            ]
          },
          "metadata": {},
          "execution_count": 249
        }
      ]
    },
    {
      "cell_type": "code",
      "source": [
        "# calculate the mse by hand\n",
        "tf.metrics.mean_squared_error(tf.squeeze(y_test), np.squeeze(y_pred))"
      ],
      "metadata": {
        "colab": {
          "base_uri": "https://localhost:8080/"
        },
        "id": "1BOEnh8SOFJw",
        "outputId": "a5fb6d68-b66d-4d2c-cf1b-5f1dd8f30538"
      },
      "execution_count": 250,
      "outputs": [
        {
          "output_type": "execute_result",
          "data": {
            "text/plain": [
              "<tf.Tensor: shape=(), dtype=float32, numpy=61534.816>"
            ]
          },
          "metadata": {},
          "execution_count": 250
        }
      ]
    },
    {
      "cell_type": "markdown",
      "source": [
        "## Comparing The Results Of Different Experiments"
      ],
      "metadata": {
        "id": "YuEIwR7wbqBa"
      }
    },
    {
      "cell_type": "code",
      "source": [
        "model_1 = tf.keras.Sequential([\n",
        "    tf.keras.layers.Dense(1, input_shape=[1])\n",
        "], \"first_model\")\n",
        "\n",
        "model_1.compile(loss=tf.keras.losses.mae,\n",
        "              optimizer=tf.keras.optimizers.SGD(),\n",
        "              metrics=[\"mae\"])\n",
        "\n",
        "model_1.fit(x_train, y_train, epochs=50)"
      ],
      "metadata": {
        "colab": {
          "base_uri": "https://localhost:8080/"
        },
        "id": "qFqTUY2DQeFX",
        "outputId": "10231e92-7b43-4440-f0f2-8b27dda3da38"
      },
      "execution_count": 263,
      "outputs": [
        {
          "output_type": "stream",
          "name": "stdout",
          "text": [
            "Epoch 1/50\n",
            "7/7 [==============================] - 1s 3ms/step - loss: 292.5819 - mae: 292.5819\n",
            "Epoch 2/50\n",
            "7/7 [==============================] - 0s 6ms/step - loss: 257.6765 - mae: 257.6765\n",
            "Epoch 3/50\n",
            "7/7 [==============================] - 0s 4ms/step - loss: 237.7995 - mae: 237.7995\n",
            "Epoch 4/50\n",
            "7/7 [==============================] - 0s 3ms/step - loss: 229.7576 - mae: 229.7576\n",
            "Epoch 5/50\n",
            "7/7 [==============================] - 0s 4ms/step - loss: 208.2012 - mae: 208.2012\n",
            "Epoch 6/50\n",
            "7/7 [==============================] - 0s 3ms/step - loss: 221.8671 - mae: 221.8671\n",
            "Epoch 7/50\n",
            "7/7 [==============================] - 0s 4ms/step - loss: 228.9819 - mae: 228.9819\n",
            "Epoch 8/50\n",
            "7/7 [==============================] - 0s 10ms/step - loss: 221.7848 - mae: 221.7848\n",
            "Epoch 9/50\n",
            "7/7 [==============================] - 0s 4ms/step - loss: 233.0079 - mae: 233.0079\n",
            "Epoch 10/50\n",
            "7/7 [==============================] - 0s 3ms/step - loss: 221.3228 - mae: 221.3228\n",
            "Epoch 11/50\n",
            "7/7 [==============================] - 0s 5ms/step - loss: 202.6335 - mae: 202.6335\n",
            "Epoch 12/50\n",
            "7/7 [==============================] - 0s 4ms/step - loss: 239.5528 - mae: 239.5528\n",
            "Epoch 13/50\n",
            "7/7 [==============================] - 0s 4ms/step - loss: 228.4020 - mae: 228.4020\n",
            "Epoch 14/50\n",
            "7/7 [==============================] - 0s 3ms/step - loss: 233.4346 - mae: 233.4346\n",
            "Epoch 15/50\n",
            "7/7 [==============================] - 0s 2ms/step - loss: 216.0169 - mae: 216.0169\n",
            "Epoch 16/50\n",
            "7/7 [==============================] - 0s 2ms/step - loss: 229.0765 - mae: 229.0765\n",
            "Epoch 17/50\n",
            "7/7 [==============================] - 0s 2ms/step - loss: 218.6745 - mae: 218.6745\n",
            "Epoch 18/50\n",
            "7/7 [==============================] - 0s 3ms/step - loss: 229.7366 - mae: 229.7366\n",
            "Epoch 19/50\n",
            "7/7 [==============================] - 0s 3ms/step - loss: 248.7547 - mae: 248.7547\n",
            "Epoch 20/50\n",
            "7/7 [==============================] - 0s 3ms/step - loss: 224.9648 - mae: 224.9648\n",
            "Epoch 21/50\n",
            "7/7 [==============================] - 0s 3ms/step - loss: 239.3276 - mae: 239.3276\n",
            "Epoch 22/50\n",
            "7/7 [==============================] - 0s 2ms/step - loss: 219.2979 - mae: 219.2979\n",
            "Epoch 23/50\n",
            "7/7 [==============================] - 0s 2ms/step - loss: 204.8810 - mae: 204.8810\n",
            "Epoch 24/50\n",
            "7/7 [==============================] - 0s 2ms/step - loss: 221.4241 - mae: 221.4241\n",
            "Epoch 25/50\n",
            "7/7 [==============================] - 0s 2ms/step - loss: 256.2541 - mae: 256.2541\n",
            "Epoch 26/50\n",
            "7/7 [==============================] - 0s 2ms/step - loss: 222.3552 - mae: 222.3552\n",
            "Epoch 27/50\n",
            "7/7 [==============================] - 0s 2ms/step - loss: 223.7550 - mae: 223.7550\n",
            "Epoch 28/50\n",
            "7/7 [==============================] - 0s 3ms/step - loss: 222.7496 - mae: 222.7496\n",
            "Epoch 29/50\n",
            "7/7 [==============================] - 0s 2ms/step - loss: 228.3680 - mae: 228.3680\n",
            "Epoch 30/50\n",
            "7/7 [==============================] - 0s 3ms/step - loss: 233.0377 - mae: 233.0377\n",
            "Epoch 31/50\n",
            "7/7 [==============================] - 0s 2ms/step - loss: 247.5880 - mae: 247.5880\n",
            "Epoch 32/50\n",
            "7/7 [==============================] - 0s 2ms/step - loss: 217.7323 - mae: 217.7323\n",
            "Epoch 33/50\n",
            "7/7 [==============================] - 0s 2ms/step - loss: 180.5683 - mae: 180.5683\n",
            "Epoch 34/50\n",
            "7/7 [==============================] - 0s 3ms/step - loss: 219.9023 - mae: 219.9023\n",
            "Epoch 35/50\n",
            "7/7 [==============================] - 0s 2ms/step - loss: 244.1728 - mae: 244.1728\n",
            "Epoch 36/50\n",
            "7/7 [==============================] - 0s 2ms/step - loss: 226.6644 - mae: 226.6644\n",
            "Epoch 37/50\n",
            "7/7 [==============================] - 0s 2ms/step - loss: 211.2886 - mae: 211.2886\n",
            "Epoch 38/50\n",
            "7/7 [==============================] - 0s 2ms/step - loss: 213.9210 - mae: 213.9210\n",
            "Epoch 39/50\n",
            "7/7 [==============================] - 0s 3ms/step - loss: 230.4321 - mae: 230.4321\n",
            "Epoch 40/50\n",
            "7/7 [==============================] - 0s 2ms/step - loss: 238.1405 - mae: 238.1405\n",
            "Epoch 41/50\n",
            "7/7 [==============================] - 0s 2ms/step - loss: 225.5683 - mae: 225.5683\n",
            "Epoch 42/50\n",
            "7/7 [==============================] - 0s 2ms/step - loss: 248.4483 - mae: 248.4483\n",
            "Epoch 43/50\n",
            "7/7 [==============================] - 0s 2ms/step - loss: 221.5624 - mae: 221.5624\n",
            "Epoch 44/50\n",
            "7/7 [==============================] - 0s 2ms/step - loss: 224.9590 - mae: 224.9590\n",
            "Epoch 45/50\n",
            "7/7 [==============================] - 0s 3ms/step - loss: 231.2441 - mae: 231.2441\n",
            "Epoch 46/50\n",
            "7/7 [==============================] - 0s 2ms/step - loss: 232.5922 - mae: 232.5922\n",
            "Epoch 47/50\n",
            "7/7 [==============================] - 0s 2ms/step - loss: 225.4393 - mae: 225.4393\n",
            "Epoch 48/50\n",
            "7/7 [==============================] - 0s 3ms/step - loss: 245.4124 - mae: 245.4124\n",
            "Epoch 49/50\n",
            "7/7 [==============================] - 0s 2ms/step - loss: 224.4057 - mae: 224.4057\n",
            "Epoch 50/50\n",
            "7/7 [==============================] - 0s 2ms/step - loss: 230.2683 - mae: 230.2683\n"
          ]
        },
        {
          "output_type": "execute_result",
          "data": {
            "text/plain": [
              "<keras.callbacks.History at 0x7fd2696ee610>"
            ]
          },
          "metadata": {},
          "execution_count": 263
        }
      ]
    },
    {
      "cell_type": "code",
      "source": [
        "# evaluate the model\n",
        "_, mae_1 = model_1.evaluate(x_test, y_test)\n",
        "mae_1"
      ],
      "metadata": {
        "colab": {
          "base_uri": "https://localhost:8080/"
        },
        "id": "jWgaj7jLcKT-",
        "outputId": "881180b6-c8ed-4efe-96c5-def766e8d10a"
      },
      "execution_count": 267,
      "outputs": [
        {
          "output_type": "stream",
          "name": "stdout",
          "text": [
            "2/2 [==============================] - 0s 7ms/step - loss: 373.8235 - mae: 373.8235\n"
          ]
        },
        {
          "output_type": "execute_result",
          "data": {
            "text/plain": [
              "373.82354736328125"
            ]
          },
          "metadata": {},
          "execution_count": 267
        }
      ]
    },
    {
      "cell_type": "code",
      "source": [
        "# get the predictions\n",
        "yhat_1 = model_1.predict(x_test)"
      ],
      "metadata": {
        "colab": {
          "base_uri": "https://localhost:8080/"
        },
        "id": "i0RUGyyvcs_i",
        "outputId": "0a35562a-cb60-49eb-8615-700596b40abd"
      },
      "execution_count": 266,
      "outputs": [
        {
          "output_type": "stream",
          "name": "stdout",
          "text": [
            "2/2 [==============================] - 0s 7ms/step\n"
          ]
        }
      ]
    },
    {
      "cell_type": "code",
      "source": [
        "model_2 = tf.keras.Sequential([\n",
        "    tf.keras.layers.Dense(10, input_shape=[1], activation='relu'),\n",
        "    tf.keras.layers.Dense(3, input_shape=[10], activation='relu'),\n",
        "    tf.keras.layers.Dense(1, input_shape=[3])\n",
        "], 'second_model')\n",
        "\n",
        "model_2.compile(loss=tf.keras.losses.mae,\n",
        "              optimizer=tf.keras.optimizers.Adam(1e-2),\n",
        "              metrics=['mae'])\n",
        "\n",
        "model_2.fit(x_train, y_train, epochs=25)"
      ],
      "metadata": {
        "colab": {
          "base_uri": "https://localhost:8080/"
        },
        "id": "pDLV_nKkc6O3",
        "outputId": "22b77047-16c5-4ad7-d009-1583d6b823ad"
      },
      "execution_count": 268,
      "outputs": [
        {
          "output_type": "stream",
          "name": "stdout",
          "text": [
            "Epoch 1/25\n",
            "7/7 [==============================] - 0s 3ms/step - loss: 637.2764 - mae: 637.2764\n",
            "Epoch 2/25\n",
            "7/7 [==============================] - 0s 2ms/step - loss: 584.8748 - mae: 584.8748\n",
            "Epoch 3/25\n",
            "7/7 [==============================] - 0s 3ms/step - loss: 545.6316 - mae: 545.6316\n",
            "Epoch 4/25\n",
            "7/7 [==============================] - 0s 3ms/step - loss: 491.6005 - mae: 491.6005\n",
            "Epoch 5/25\n",
            "7/7 [==============================] - 0s 3ms/step - loss: 416.1142 - mae: 416.1142\n",
            "Epoch 6/25\n",
            "7/7 [==============================] - 0s 3ms/step - loss: 316.8138 - mae: 316.8138\n",
            "Epoch 7/25\n",
            "7/7 [==============================] - 0s 3ms/step - loss: 177.3956 - mae: 177.3956\n",
            "Epoch 8/25\n",
            "7/7 [==============================] - 0s 3ms/step - loss: 53.5369 - mae: 53.5369\n",
            "Epoch 9/25\n",
            "7/7 [==============================] - 0s 3ms/step - loss: 55.5738 - mae: 55.5738\n",
            "Epoch 10/25\n",
            "7/7 [==============================] - 0s 3ms/step - loss: 31.3512 - mae: 31.3512\n",
            "Epoch 11/25\n",
            "7/7 [==============================] - 0s 3ms/step - loss: 17.9703 - mae: 17.9703\n",
            "Epoch 12/25\n",
            "7/7 [==============================] - 0s 3ms/step - loss: 9.6265 - mae: 9.6265\n",
            "Epoch 13/25\n",
            "7/7 [==============================] - 0s 3ms/step - loss: 5.7433 - mae: 5.7433\n",
            "Epoch 14/25\n",
            "7/7 [==============================] - 0s 5ms/step - loss: 6.2453 - mae: 6.2453\n",
            "Epoch 15/25\n",
            "7/7 [==============================] - 0s 2ms/step - loss: 4.6876 - mae: 4.6876\n",
            "Epoch 16/25\n",
            "7/7 [==============================] - 0s 3ms/step - loss: 3.5818 - mae: 3.5818\n",
            "Epoch 17/25\n",
            "7/7 [==============================] - 0s 2ms/step - loss: 4.0518 - mae: 4.0518\n",
            "Epoch 18/25\n",
            "7/7 [==============================] - 0s 2ms/step - loss: 4.1552 - mae: 4.1552\n",
            "Epoch 19/25\n",
            "7/7 [==============================] - 0s 2ms/step - loss: 3.3486 - mae: 3.3486\n",
            "Epoch 20/25\n",
            "7/7 [==============================] - 0s 3ms/step - loss: 3.2321 - mae: 3.2321\n",
            "Epoch 21/25\n",
            "7/7 [==============================] - 0s 3ms/step - loss: 2.6054 - mae: 2.6054\n",
            "Epoch 22/25\n",
            "7/7 [==============================] - 0s 4ms/step - loss: 3.1228 - mae: 3.1228\n",
            "Epoch 23/25\n",
            "7/7 [==============================] - 0s 3ms/step - loss: 1.9319 - mae: 1.9319\n",
            "Epoch 24/25\n",
            "7/7 [==============================] - 0s 3ms/step - loss: 2.4902 - mae: 2.4902\n",
            "Epoch 25/25\n",
            "7/7 [==============================] - 0s 2ms/step - loss: 2.1137 - mae: 2.1137\n"
          ]
        },
        {
          "output_type": "execute_result",
          "data": {
            "text/plain": [
              "<keras.callbacks.History at 0x7fd257188a60>"
            ]
          },
          "metadata": {},
          "execution_count": 268
        }
      ]
    },
    {
      "cell_type": "code",
      "source": [
        "# evaluate the model\n",
        "_, mae_2 = model_2.evaluate(x_test, y_test)\n",
        "mae_2"
      ],
      "metadata": {
        "colab": {
          "base_uri": "https://localhost:8080/"
        },
        "id": "Xc17--Ixc9Oc",
        "outputId": "e3e6243b-62af-43bd-a355-6866ef389519"
      },
      "execution_count": 269,
      "outputs": [
        {
          "output_type": "stream",
          "name": "stdout",
          "text": [
            "2/2 [==============================] - 0s 8ms/step - loss: 0.7537 - mae: 0.7537\n"
          ]
        },
        {
          "output_type": "execute_result",
          "data": {
            "text/plain": [
              "0.7536852955818176"
            ]
          },
          "metadata": {},
          "execution_count": 269
        }
      ]
    },
    {
      "cell_type": "code",
      "source": [
        "# calculate the predictions\n",
        "yhat_2 = model_2.predict(x_test)"
      ],
      "metadata": {
        "colab": {
          "base_uri": "https://localhost:8080/"
        },
        "id": "s1Pg2ucydyzZ",
        "outputId": "0980b61c-0e58-4515-e783-f2b695e0b6af"
      },
      "execution_count": 270,
      "outputs": [
        {
          "output_type": "stream",
          "name": "stdout",
          "text": [
            "2/2 [==============================] - 0s 7ms/step\n"
          ]
        }
      ]
    },
    {
      "cell_type": "code",
      "source": [
        "model_3 = tf.keras.Sequential([\n",
        "    tf.keras.layers.Dense(50, input_shape=[1], activation='relu'),\n",
        "    tf.keras.layers.Dense(1)\n",
        "], 'third_model')\n",
        "\n",
        "model_3.compile(loss=tf.keras.losses.mae,\n",
        "                optimizer=tf.keras.optimizers.SGD(),\n",
        "                metrics=['mae'])\n",
        "\n",
        "model_3.fit(x_train, y_train, epochs=50)"
      ],
      "metadata": {
        "colab": {
          "base_uri": "https://localhost:8080/"
        },
        "id": "69dPvL1ud-Xl",
        "outputId": "8936fe8b-8476-42b9-dff9-c9439122f357"
      },
      "execution_count": 273,
      "outputs": [
        {
          "output_type": "stream",
          "name": "stdout",
          "text": [
            "Epoch 1/50\n",
            "7/7 [==============================] - 0s 2ms/step - loss: 781.5139 - mae: 781.5139\n",
            "Epoch 2/50\n",
            "7/7 [==============================] - 0s 2ms/step - loss: 702.4202 - mae: 702.4202\n",
            "Epoch 3/50\n",
            "7/7 [==============================] - 0s 2ms/step - loss: 500.6060 - mae: 500.6060\n",
            "Epoch 4/50\n",
            "7/7 [==============================] - 0s 2ms/step - loss: 598.5281 - mae: 598.5281\n",
            "Epoch 5/50\n",
            "7/7 [==============================] - 0s 3ms/step - loss: 553.4388 - mae: 553.4388\n",
            "Epoch 6/50\n",
            "7/7 [==============================] - 0s 3ms/step - loss: 580.1119 - mae: 580.1119\n",
            "Epoch 7/50\n",
            "7/7 [==============================] - 0s 3ms/step - loss: 581.8093 - mae: 581.8093\n",
            "Epoch 8/50\n",
            "7/7 [==============================] - 0s 4ms/step - loss: 568.3437 - mae: 568.3437\n",
            "Epoch 9/50\n",
            "7/7 [==============================] - 0s 3ms/step - loss: 556.6159 - mae: 556.6159\n",
            "Epoch 10/50\n",
            "7/7 [==============================] - 0s 4ms/step - loss: 554.7073 - mae: 554.7073\n",
            "Epoch 11/50\n",
            "7/7 [==============================] - 0s 3ms/step - loss: 647.5981 - mae: 647.5981\n",
            "Epoch 12/50\n",
            "7/7 [==============================] - 0s 3ms/step - loss: 571.1326 - mae: 571.1326\n",
            "Epoch 13/50\n",
            "7/7 [==============================] - 0s 3ms/step - loss: 552.4249 - mae: 552.4249\n",
            "Epoch 14/50\n",
            "7/7 [==============================] - 0s 3ms/step - loss: 591.1093 - mae: 591.1093\n",
            "Epoch 15/50\n",
            "7/7 [==============================] - 0s 3ms/step - loss: 556.1561 - mae: 556.1561\n",
            "Epoch 16/50\n",
            "7/7 [==============================] - 0s 3ms/step - loss: 848.3058 - mae: 848.3058\n",
            "Epoch 17/50\n",
            "7/7 [==============================] - 0s 2ms/step - loss: 548.6868 - mae: 548.6868\n",
            "Epoch 18/50\n",
            "7/7 [==============================] - 0s 3ms/step - loss: 564.6345 - mae: 564.6345\n",
            "Epoch 19/50\n",
            "7/7 [==============================] - 0s 3ms/step - loss: 576.0217 - mae: 576.0217\n",
            "Epoch 20/50\n",
            "7/7 [==============================] - 0s 3ms/step - loss: 561.7810 - mae: 561.7810\n",
            "Epoch 21/50\n",
            "7/7 [==============================] - 0s 2ms/step - loss: 561.0075 - mae: 561.0075\n",
            "Epoch 22/50\n",
            "7/7 [==============================] - 0s 4ms/step - loss: 570.7739 - mae: 570.7739\n",
            "Epoch 23/50\n",
            "7/7 [==============================] - 0s 3ms/step - loss: 553.8755 - mae: 553.8755\n",
            "Epoch 24/50\n",
            "7/7 [==============================] - 0s 3ms/step - loss: 549.5669 - mae: 549.5669\n",
            "Epoch 25/50\n",
            "7/7 [==============================] - 0s 2ms/step - loss: 592.1815 - mae: 592.1815\n",
            "Epoch 26/50\n",
            "7/7 [==============================] - 0s 2ms/step - loss: 579.2311 - mae: 579.2311\n",
            "Epoch 27/50\n",
            "7/7 [==============================] - 0s 3ms/step - loss: 590.5977 - mae: 590.5977\n",
            "Epoch 28/50\n",
            "7/7 [==============================] - 0s 4ms/step - loss: 529.4608 - mae: 529.4608\n",
            "Epoch 29/50\n",
            "7/7 [==============================] - 0s 3ms/step - loss: 568.2623 - mae: 568.2623\n",
            "Epoch 30/50\n",
            "7/7 [==============================] - 0s 3ms/step - loss: 566.6792 - mae: 566.6792\n",
            "Epoch 31/50\n",
            "7/7 [==============================] - 0s 3ms/step - loss: 601.7527 - mae: 601.7527\n",
            "Epoch 32/50\n",
            "7/7 [==============================] - 0s 3ms/step - loss: 577.6988 - mae: 577.6988\n",
            "Epoch 33/50\n",
            "7/7 [==============================] - 0s 3ms/step - loss: 561.4006 - mae: 561.4006\n",
            "Epoch 34/50\n",
            "7/7 [==============================] - 0s 3ms/step - loss: 548.3690 - mae: 548.3690\n",
            "Epoch 35/50\n",
            "7/7 [==============================] - 0s 2ms/step - loss: 567.4232 - mae: 567.4232\n",
            "Epoch 36/50\n",
            "7/7 [==============================] - 0s 2ms/step - loss: 556.8638 - mae: 556.8638\n",
            "Epoch 37/50\n",
            "7/7 [==============================] - 0s 3ms/step - loss: 588.7492 - mae: 588.7492\n",
            "Epoch 38/50\n",
            "7/7 [==============================] - 0s 2ms/step - loss: 563.5601 - mae: 563.5601\n",
            "Epoch 39/50\n",
            "7/7 [==============================] - 0s 3ms/step - loss: 569.4507 - mae: 569.4507\n",
            "Epoch 40/50\n",
            "7/7 [==============================] - 0s 3ms/step - loss: 572.5419 - mae: 572.5419\n",
            "Epoch 41/50\n",
            "7/7 [==============================] - 0s 3ms/step - loss: 578.4132 - mae: 578.4132\n",
            "Epoch 42/50\n",
            "7/7 [==============================] - 0s 3ms/step - loss: 610.9710 - mae: 610.9710\n",
            "Epoch 43/50\n",
            "7/7 [==============================] - 0s 3ms/step - loss: 564.3414 - mae: 564.3414\n",
            "Epoch 44/50\n",
            "7/7 [==============================] - 0s 3ms/step - loss: 598.2863 - mae: 598.2863\n",
            "Epoch 45/50\n",
            "7/7 [==============================] - 0s 4ms/step - loss: 561.1345 - mae: 561.1345\n",
            "Epoch 46/50\n",
            "7/7 [==============================] - 0s 3ms/step - loss: 549.0503 - mae: 549.0503\n",
            "Epoch 47/50\n",
            "7/7 [==============================] - 0s 3ms/step - loss: 574.1329 - mae: 574.1329\n",
            "Epoch 48/50\n",
            "7/7 [==============================] - 0s 3ms/step - loss: 553.3773 - mae: 553.3773\n",
            "Epoch 49/50\n",
            "7/7 [==============================] - 0s 4ms/step - loss: 560.5381 - mae: 560.5381\n",
            "Epoch 50/50\n",
            "7/7 [==============================] - 0s 3ms/step - loss: 582.4236 - mae: 582.4236\n"
          ]
        },
        {
          "output_type": "execute_result",
          "data": {
            "text/plain": [
              "<keras.callbacks.History at 0x7fd25066eb50>"
            ]
          },
          "metadata": {},
          "execution_count": 273
        }
      ]
    },
    {
      "cell_type": "code",
      "source": [
        "# evaluate the model\n",
        "_, mae_3 = model_3.evaluate(x_test, y_test)\n",
        "mae_3"
      ],
      "metadata": {
        "colab": {
          "base_uri": "https://localhost:8080/"
        },
        "id": "rRr1JgUxfNp7",
        "outputId": "ffd16862-b7d0-4f49-903a-b186b95c15e3"
      },
      "execution_count": 274,
      "outputs": [
        {
          "output_type": "stream",
          "name": "stdout",
          "text": [
            "2/2 [==============================] - 0s 11ms/step - loss: 154.2794 - mae: 154.2794\n"
          ]
        },
        {
          "output_type": "execute_result",
          "data": {
            "text/plain": [
              "154.27938842773438"
            ]
          },
          "metadata": {},
          "execution_count": 274
        }
      ]
    },
    {
      "cell_type": "code",
      "source": [
        "# get the predictions\n",
        "yhat_3 = model_3.predict(x_test)"
      ],
      "metadata": {
        "colab": {
          "base_uri": "https://localhost:8080/"
        },
        "id": "_ULaok0dfmvT",
        "outputId": "37c122c6-5257-4376-d26f-b8670658b64b"
      },
      "execution_count": 275,
      "outputs": [
        {
          "output_type": "stream",
          "name": "stdout",
          "text": [
            "2/2 [==============================] - 0s 9ms/step\n"
          ]
        }
      ]
    },
    {
      "cell_type": "code",
      "source": [
        "model_4 = tf.keras.Sequential([\n",
        "    tf.keras.layers.Dense(50, input_shape=[1], activation='relu'),\n",
        "    tf.keras.layers.Dense(10, input_shape=[50], activation='relu'),\n",
        "    tf.keras.layers.Dense(1)\n",
        "], 'fourth_model')\n",
        "\n",
        "model_4.compile(loss=tf.keras.losses.mae,\n",
        "                optimizer=tf.keras.optimizers.Adam(learning_rate=1e-2),\n",
        "                metrics=['mae'])\n",
        "\n",
        "model_4.fit(x_train, y_train, epochs=20)"
      ],
      "metadata": {
        "colab": {
          "base_uri": "https://localhost:8080/"
        },
        "id": "CTUuVVX4fr1X",
        "outputId": "149c2fcb-99ee-4efa-ca56-97bb3832fe46"
      },
      "execution_count": 282,
      "outputs": [
        {
          "output_type": "stream",
          "name": "stdout",
          "text": [
            "Epoch 1/20\n",
            "7/7 [==============================] - 1s 4ms/step - loss: 539.5998 - mae: 539.5998\n",
            "Epoch 2/20\n",
            "7/7 [==============================] - 0s 3ms/step - loss: 345.6013 - mae: 345.6013\n",
            "Epoch 3/20\n",
            "7/7 [==============================] - 0s 4ms/step - loss: 95.9543 - mae: 95.9543\n",
            "Epoch 4/20\n",
            "7/7 [==============================] - 0s 4ms/step - loss: 98.1368 - mae: 98.1368\n",
            "Epoch 5/20\n",
            "7/7 [==============================] - 0s 4ms/step - loss: 52.8226 - mae: 52.8226\n",
            "Epoch 6/20\n",
            "7/7 [==============================] - 0s 4ms/step - loss: 35.6476 - mae: 35.6476\n",
            "Epoch 7/20\n",
            "7/7 [==============================] - 0s 4ms/step - loss: 26.3314 - mae: 26.3314\n",
            "Epoch 8/20\n",
            "7/7 [==============================] - 0s 4ms/step - loss: 24.6561 - mae: 24.6561\n",
            "Epoch 9/20\n",
            "7/7 [==============================] - 0s 4ms/step - loss: 20.2337 - mae: 20.2337\n",
            "Epoch 10/20\n",
            "7/7 [==============================] - 0s 4ms/step - loss: 21.6059 - mae: 21.6059\n",
            "Epoch 11/20\n",
            "7/7 [==============================] - 0s 4ms/step - loss: 18.0116 - mae: 18.0116\n",
            "Epoch 12/20\n",
            "7/7 [==============================] - 0s 4ms/step - loss: 8.6375 - mae: 8.6375\n",
            "Epoch 13/20\n",
            "7/7 [==============================] - 0s 4ms/step - loss: 10.6679 - mae: 10.6679\n",
            "Epoch 14/20\n",
            "7/7 [==============================] - 0s 6ms/step - loss: 3.3823 - mae: 3.3823\n",
            "Epoch 15/20\n",
            "7/7 [==============================] - 0s 9ms/step - loss: 4.9848 - mae: 4.9848\n",
            "Epoch 16/20\n",
            "7/7 [==============================] - 0s 4ms/step - loss: 9.8849 - mae: 9.8849\n",
            "Epoch 17/20\n",
            "7/7 [==============================] - 0s 4ms/step - loss: 8.5724 - mae: 8.5724\n",
            "Epoch 18/20\n",
            "7/7 [==============================] - 0s 4ms/step - loss: 7.4268 - mae: 7.4268\n",
            "Epoch 19/20\n",
            "7/7 [==============================] - 0s 4ms/step - loss: 10.7117 - mae: 10.7117\n",
            "Epoch 20/20\n",
            "7/7 [==============================] - 0s 4ms/step - loss: 6.6559 - mae: 6.6559\n"
          ]
        },
        {
          "output_type": "execute_result",
          "data": {
            "text/plain": [
              "<keras.callbacks.History at 0x7fd25023d700>"
            ]
          },
          "metadata": {},
          "execution_count": 282
        }
      ]
    },
    {
      "cell_type": "code",
      "source": [
        "# evaluate the model\n",
        "_, mae_4 = model_4.evaluate(x_test, y_test)\n",
        "mae_4"
      ],
      "metadata": {
        "colab": {
          "base_uri": "https://localhost:8080/"
        },
        "id": "kB9isY3hf47b",
        "outputId": "324b7bd0-5f3e-4931-e116-b6f9ac07dfa7"
      },
      "execution_count": 284,
      "outputs": [
        {
          "output_type": "stream",
          "name": "stdout",
          "text": [
            "2/2 [==============================] - 0s 6ms/step - loss: 17.9982 - mae: 17.9982\n"
          ]
        },
        {
          "output_type": "execute_result",
          "data": {
            "text/plain": [
              "17.9981632232666"
            ]
          },
          "metadata": {},
          "execution_count": 284
        }
      ]
    },
    {
      "cell_type": "code",
      "source": [
        "# calculate the predictions\n",
        "yhat_4 = model_4.predict(x_test)"
      ],
      "metadata": {
        "colab": {
          "base_uri": "https://localhost:8080/"
        },
        "id": "f7j8Nr8VgSGt",
        "outputId": "cb215266-b02a-48b6-b94d-364bd9215830"
      },
      "execution_count": 285,
      "outputs": [
        {
          "output_type": "stream",
          "name": "stdout",
          "text": [
            "2/2 [==============================] - 0s 7ms/step\n"
          ]
        }
      ]
    },
    {
      "cell_type": "code",
      "source": [
        "d = [\n",
        "      [model_1.name, mae_1], \n",
        "      [model_2.name, mae_2],\n",
        "      [model_3.name, mae_3], \n",
        "      [model_4.name, mae_4]\n",
        "    ]\n",
        "d"
      ],
      "metadata": {
        "colab": {
          "base_uri": "https://localhost:8080/"
        },
        "id": "RsGXyfOrgZ3A",
        "outputId": "86f9aa3a-1caf-4bbf-9d3e-4eb415bc6a85"
      },
      "execution_count": 295,
      "outputs": [
        {
          "output_type": "execute_result",
          "data": {
            "text/plain": [
              "[['first_model', 373.82354736328125],\n",
              " ['second_model', 0.7536852955818176],\n",
              " ['third_model', 154.27938842773438],\n",
              " ['fourth_model', 17.9981632232666]]"
            ]
          },
          "metadata": {},
          "execution_count": 295
        }
      ]
    },
    {
      "cell_type": "code",
      "source": [
        "df = pd.DataFrame(d, columns=['model_name', 'mean_absolute_error'])\n",
        "df"
      ],
      "metadata": {
        "colab": {
          "base_uri": "https://localhost:8080/",
          "height": 175
        },
        "id": "C93j1gyMhQ9s",
        "outputId": "65cff321-14b9-424b-e928-ffce2b4ae568"
      },
      "execution_count": 296,
      "outputs": [
        {
          "output_type": "execute_result",
          "data": {
            "text/plain": [
              "     model_name  mean_absolute_error\n",
              "0   first_model           373.823547\n",
              "1  second_model             0.753685\n",
              "2   third_model           154.279388\n",
              "3  fourth_model            17.998163"
            ],
            "text/html": [
              "\n",
              "  <div id=\"df-c1821e08-50ac-49b6-af21-9e1b7a63fa15\">\n",
              "    <div class=\"colab-df-container\">\n",
              "      <div>\n",
              "<style scoped>\n",
              "    .dataframe tbody tr th:only-of-type {\n",
              "        vertical-align: middle;\n",
              "    }\n",
              "\n",
              "    .dataframe tbody tr th {\n",
              "        vertical-align: top;\n",
              "    }\n",
              "\n",
              "    .dataframe thead th {\n",
              "        text-align: right;\n",
              "    }\n",
              "</style>\n",
              "<table border=\"1\" class=\"dataframe\">\n",
              "  <thead>\n",
              "    <tr style=\"text-align: right;\">\n",
              "      <th></th>\n",
              "      <th>model_name</th>\n",
              "      <th>mean_absolute_error</th>\n",
              "    </tr>\n",
              "  </thead>\n",
              "  <tbody>\n",
              "    <tr>\n",
              "      <th>0</th>\n",
              "      <td>first_model</td>\n",
              "      <td>373.823547</td>\n",
              "    </tr>\n",
              "    <tr>\n",
              "      <th>1</th>\n",
              "      <td>second_model</td>\n",
              "      <td>0.753685</td>\n",
              "    </tr>\n",
              "    <tr>\n",
              "      <th>2</th>\n",
              "      <td>third_model</td>\n",
              "      <td>154.279388</td>\n",
              "    </tr>\n",
              "    <tr>\n",
              "      <th>3</th>\n",
              "      <td>fourth_model</td>\n",
              "      <td>17.998163</td>\n",
              "    </tr>\n",
              "  </tbody>\n",
              "</table>\n",
              "</div>\n",
              "      <button class=\"colab-df-convert\" onclick=\"convertToInteractive('df-c1821e08-50ac-49b6-af21-9e1b7a63fa15')\"\n",
              "              title=\"Convert this dataframe to an interactive table.\"\n",
              "              style=\"display:none;\">\n",
              "        \n",
              "  <svg xmlns=\"http://www.w3.org/2000/svg\" height=\"24px\"viewBox=\"0 0 24 24\"\n",
              "       width=\"24px\">\n",
              "    <path d=\"M0 0h24v24H0V0z\" fill=\"none\"/>\n",
              "    <path d=\"M18.56 5.44l.94 2.06.94-2.06 2.06-.94-2.06-.94-.94-2.06-.94 2.06-2.06.94zm-11 1L8.5 8.5l.94-2.06 2.06-.94-2.06-.94L8.5 2.5l-.94 2.06-2.06.94zm10 10l.94 2.06.94-2.06 2.06-.94-2.06-.94-.94-2.06-.94 2.06-2.06.94z\"/><path d=\"M17.41 7.96l-1.37-1.37c-.4-.4-.92-.59-1.43-.59-.52 0-1.04.2-1.43.59L10.3 9.45l-7.72 7.72c-.78.78-.78 2.05 0 2.83L4 21.41c.39.39.9.59 1.41.59.51 0 1.02-.2 1.41-.59l7.78-7.78 2.81-2.81c.8-.78.8-2.07 0-2.86zM5.41 20L4 18.59l7.72-7.72 1.47 1.35L5.41 20z\"/>\n",
              "  </svg>\n",
              "      </button>\n",
              "      \n",
              "  <style>\n",
              "    .colab-df-container {\n",
              "      display:flex;\n",
              "      flex-wrap:wrap;\n",
              "      gap: 12px;\n",
              "    }\n",
              "\n",
              "    .colab-df-convert {\n",
              "      background-color: #E8F0FE;\n",
              "      border: none;\n",
              "      border-radius: 50%;\n",
              "      cursor: pointer;\n",
              "      display: none;\n",
              "      fill: #1967D2;\n",
              "      height: 32px;\n",
              "      padding: 0 0 0 0;\n",
              "      width: 32px;\n",
              "    }\n",
              "\n",
              "    .colab-df-convert:hover {\n",
              "      background-color: #E2EBFA;\n",
              "      box-shadow: 0px 1px 2px rgba(60, 64, 67, 0.3), 0px 1px 3px 1px rgba(60, 64, 67, 0.15);\n",
              "      fill: #174EA6;\n",
              "    }\n",
              "\n",
              "    [theme=dark] .colab-df-convert {\n",
              "      background-color: #3B4455;\n",
              "      fill: #D2E3FC;\n",
              "    }\n",
              "\n",
              "    [theme=dark] .colab-df-convert:hover {\n",
              "      background-color: #434B5C;\n",
              "      box-shadow: 0px 1px 3px 1px rgba(0, 0, 0, 0.15);\n",
              "      filter: drop-shadow(0px 1px 2px rgba(0, 0, 0, 0.3));\n",
              "      fill: #FFFFFF;\n",
              "    }\n",
              "  </style>\n",
              "\n",
              "      <script>\n",
              "        const buttonEl =\n",
              "          document.querySelector('#df-c1821e08-50ac-49b6-af21-9e1b7a63fa15 button.colab-df-convert');\n",
              "        buttonEl.style.display =\n",
              "          google.colab.kernel.accessAllowed ? 'block' : 'none';\n",
              "\n",
              "        async function convertToInteractive(key) {\n",
              "          const element = document.querySelector('#df-c1821e08-50ac-49b6-af21-9e1b7a63fa15');\n",
              "          const dataTable =\n",
              "            await google.colab.kernel.invokeFunction('convertToInteractive',\n",
              "                                                     [key], {});\n",
              "          if (!dataTable) return;\n",
              "\n",
              "          const docLinkHtml = 'Like what you see? Visit the ' +\n",
              "            '<a target=\"_blank\" href=https://colab.research.google.com/notebooks/data_table.ipynb>data table notebook</a>'\n",
              "            + ' to learn more about interactive tables.';\n",
              "          element.innerHTML = '';\n",
              "          dataTable['output_type'] = 'display_data';\n",
              "          await google.colab.output.renderOutput(dataTable, element);\n",
              "          const docLink = document.createElement('div');\n",
              "          docLink.innerHTML = docLinkHtml;\n",
              "          element.appendChild(docLink);\n",
              "        }\n",
              "      </script>\n",
              "    </div>\n",
              "  </div>\n",
              "  "
            ]
          },
          "metadata": {},
          "execution_count": 296
        }
      ]
    },
    {
      "cell_type": "markdown",
      "source": [
        "## Saving And Loading Models\n",
        "\n",
        "Saving a model allows us to use them outside the environment where they were trained"
      ],
      "metadata": {
        "id": "UkgyLA96kVv7"
      }
    },
    {
      "cell_type": "code",
      "source": [
        "# save the model with tensorflow standard (saved_models format)\n",
        "model_2.save(\"saved_models/regression_model\")"
      ],
      "metadata": {
        "id": "2o7lf5sdhcIB"
      },
      "execution_count": 297,
      "outputs": []
    },
    {
      "cell_type": "code",
      "source": [
        "# save the model with global HDF5 format\n",
        "model_2.save('saved_models/regression_model_HDF5.h5')"
      ],
      "metadata": {
        "id": "56FXsjWolHFl"
      },
      "execution_count": 298,
      "outputs": []
    },
    {
      "cell_type": "code",
      "source": [
        "# summarize the model\n",
        "model_2.summary()"
      ],
      "metadata": {
        "colab": {
          "base_uri": "https://localhost:8080/"
        },
        "id": "8Wpnd79Yljyx",
        "outputId": "67eb3e85-862c-4925-cb86-dbc18d24544a"
      },
      "execution_count": 299,
      "outputs": [
        {
          "output_type": "stream",
          "name": "stdout",
          "text": [
            "Model: \"second_model\"\n",
            "_________________________________________________________________\n",
            " Layer (type)                Output Shape              Param #   \n",
            "=================================================================\n",
            " dense_40 (Dense)            (None, 10)                20        \n",
            "                                                                 \n",
            " dense_41 (Dense)            (None, 3)                 33        \n",
            "                                                                 \n",
            " dense_42 (Dense)            (None, 1)                 4         \n",
            "                                                                 \n",
            "=================================================================\n",
            "Total params: 57\n",
            "Trainable params: 57\n",
            "Non-trainable params: 0\n",
            "_________________________________________________________________\n"
          ]
        }
      ]
    },
    {
      "cell_type": "code",
      "source": [
        "# load the saved model\n",
        "model = tf.keras.models.load_model(\"saved_models/regression_model\")\n",
        "model.summary()"
      ],
      "metadata": {
        "colab": {
          "base_uri": "https://localhost:8080/"
        },
        "id": "IZ5ZuLt9rPfj",
        "outputId": "aaa4debd-a22a-4a3a-f177-a07936e71669"
      },
      "execution_count": 302,
      "outputs": [
        {
          "output_type": "stream",
          "name": "stdout",
          "text": [
            "Model: \"second_model\"\n",
            "_________________________________________________________________\n",
            " Layer (type)                Output Shape              Param #   \n",
            "=================================================================\n",
            " dense_40 (Dense)            (None, 10)                20        \n",
            "                                                                 \n",
            " dense_41 (Dense)            (None, 3)                 33        \n",
            "                                                                 \n",
            " dense_42 (Dense)            (None, 1)                 4         \n",
            "                                                                 \n",
            "=================================================================\n",
            "Total params: 57\n",
            "Trainable params: 57\n",
            "Non-trainable params: 0\n",
            "_________________________________________________________________\n"
          ]
        }
      ]
    },
    {
      "cell_type": "code",
      "source": [
        "# make predictions with loaded models\n",
        "yhat = model.predict(x_test)"
      ],
      "metadata": {
        "colab": {
          "base_uri": "https://localhost:8080/"
        },
        "id": "ZJbtMjh8rsjP",
        "outputId": "e2b70f1e-9924-4fef-abd2-e50480e9652a"
      },
      "execution_count": 303,
      "outputs": [
        {
          "output_type": "stream",
          "name": "stdout",
          "text": [
            "2/2 [==============================] - 0s 7ms/step\n"
          ]
        }
      ]
    },
    {
      "cell_type": "code",
      "source": [
        "# compare predictions of loaded model with predictions of model_2\n",
        "yhat == yhat_2"
      ],
      "metadata": {
        "colab": {
          "base_uri": "https://localhost:8080/"
        },
        "id": "0zx9Y7cRsSh3",
        "outputId": "62a4e756-2163-4730-8cc6-d35a020db14a"
      },
      "execution_count": 304,
      "outputs": [
        {
          "output_type": "execute_result",
          "data": {
            "text/plain": [
              "array([[ True],\n",
              "       [ True],\n",
              "       [ True],\n",
              "       [ True],\n",
              "       [ True],\n",
              "       [ True],\n",
              "       [ True],\n",
              "       [ True],\n",
              "       [ True],\n",
              "       [ True],\n",
              "       [ True],\n",
              "       [ True],\n",
              "       [ True],\n",
              "       [ True],\n",
              "       [ True],\n",
              "       [ True],\n",
              "       [ True],\n",
              "       [ True],\n",
              "       [ True],\n",
              "       [ True],\n",
              "       [ True],\n",
              "       [ True],\n",
              "       [ True],\n",
              "       [ True],\n",
              "       [ True],\n",
              "       [ True],\n",
              "       [ True],\n",
              "       [ True],\n",
              "       [ True],\n",
              "       [ True],\n",
              "       [ True],\n",
              "       [ True],\n",
              "       [ True],\n",
              "       [ True],\n",
              "       [ True],\n",
              "       [ True],\n",
              "       [ True],\n",
              "       [ True],\n",
              "       [ True],\n",
              "       [ True],\n",
              "       [ True],\n",
              "       [ True],\n",
              "       [ True],\n",
              "       [ True],\n",
              "       [ True],\n",
              "       [ True],\n",
              "       [ True],\n",
              "       [ True],\n",
              "       [ True],\n",
              "       [ True]])"
            ]
          },
          "metadata": {},
          "execution_count": 304
        }
      ]
    }
  ]
}