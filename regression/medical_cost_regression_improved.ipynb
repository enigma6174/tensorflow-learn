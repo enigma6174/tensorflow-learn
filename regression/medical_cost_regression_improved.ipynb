{
  "nbformat": 4,
  "nbformat_minor": 0,
  "metadata": {
    "colab": {
      "provenance": [],
      "authorship_tag": "ABX9TyMmKFd87kW4+Ou1jeI6tcD9",
      "include_colab_link": true
    },
    "kernelspec": {
      "name": "python3",
      "display_name": "Python 3"
    },
    "language_info": {
      "name": "python"
    }
  },
  "cells": [
    {
      "cell_type": "markdown",
      "metadata": {
        "id": "view-in-github",
        "colab_type": "text"
      },
      "source": [
        "<a href=\"https://colab.research.google.com/github/enigma6174/tensorflow-learn/blob/develop/regression/medical_cost_regression_improved.ipynb\" target=\"_parent\"><img src=\"https://colab.research.google.com/assets/colab-badge.svg\" alt=\"Open In Colab\"/></a>"
      ]
    },
    {
      "cell_type": "code",
      "execution_count": 3,
      "metadata": {
        "id": "a6DWsxBtATrE"
      },
      "outputs": [],
      "source": [
        "import numpy as np\n",
        "import pandas as pd\n",
        "import tensorflow as tf\n",
        "import matplotlib.pyplot as plt\n",
        "\n",
        "from sklearn.model_selection import train_test_split\n",
        "from sklearn.preprocessing import MinMaxScaler, OneHotEncoder\n",
        "from sklearn.compose import make_column_transformer"
      ]
    },
    {
      "cell_type": "code",
      "source": [
        "# load the dataset\n",
        "df = pd.read_csv(\"insurance.csv\")\n",
        "df.head()"
      ],
      "metadata": {
        "colab": {
          "base_uri": "https://localhost:8080/",
          "height": 206
        },
        "id": "YNy1TNyRAvR-",
        "outputId": "dcef65b8-10fe-4717-9b1f-51a6de13591a"
      },
      "execution_count": 2,
      "outputs": [
        {
          "output_type": "execute_result",
          "data": {
            "text/plain": [
              "   age     sex     bmi  children smoker     region      charges\n",
              "0   19  female  27.900         0    yes  southwest  16884.92400\n",
              "1   18    male  33.770         1     no  southeast   1725.55230\n",
              "2   28    male  33.000         3     no  southeast   4449.46200\n",
              "3   33    male  22.705         0     no  northwest  21984.47061\n",
              "4   32    male  28.880         0     no  northwest   3866.85520"
            ],
            "text/html": [
              "\n",
              "  <div id=\"df-ec8a67a5-857a-4d7d-8b47-8c0ce88282da\">\n",
              "    <div class=\"colab-df-container\">\n",
              "      <div>\n",
              "<style scoped>\n",
              "    .dataframe tbody tr th:only-of-type {\n",
              "        vertical-align: middle;\n",
              "    }\n",
              "\n",
              "    .dataframe tbody tr th {\n",
              "        vertical-align: top;\n",
              "    }\n",
              "\n",
              "    .dataframe thead th {\n",
              "        text-align: right;\n",
              "    }\n",
              "</style>\n",
              "<table border=\"1\" class=\"dataframe\">\n",
              "  <thead>\n",
              "    <tr style=\"text-align: right;\">\n",
              "      <th></th>\n",
              "      <th>age</th>\n",
              "      <th>sex</th>\n",
              "      <th>bmi</th>\n",
              "      <th>children</th>\n",
              "      <th>smoker</th>\n",
              "      <th>region</th>\n",
              "      <th>charges</th>\n",
              "    </tr>\n",
              "  </thead>\n",
              "  <tbody>\n",
              "    <tr>\n",
              "      <th>0</th>\n",
              "      <td>19</td>\n",
              "      <td>female</td>\n",
              "      <td>27.900</td>\n",
              "      <td>0</td>\n",
              "      <td>yes</td>\n",
              "      <td>southwest</td>\n",
              "      <td>16884.92400</td>\n",
              "    </tr>\n",
              "    <tr>\n",
              "      <th>1</th>\n",
              "      <td>18</td>\n",
              "      <td>male</td>\n",
              "      <td>33.770</td>\n",
              "      <td>1</td>\n",
              "      <td>no</td>\n",
              "      <td>southeast</td>\n",
              "      <td>1725.55230</td>\n",
              "    </tr>\n",
              "    <tr>\n",
              "      <th>2</th>\n",
              "      <td>28</td>\n",
              "      <td>male</td>\n",
              "      <td>33.000</td>\n",
              "      <td>3</td>\n",
              "      <td>no</td>\n",
              "      <td>southeast</td>\n",
              "      <td>4449.46200</td>\n",
              "    </tr>\n",
              "    <tr>\n",
              "      <th>3</th>\n",
              "      <td>33</td>\n",
              "      <td>male</td>\n",
              "      <td>22.705</td>\n",
              "      <td>0</td>\n",
              "      <td>no</td>\n",
              "      <td>northwest</td>\n",
              "      <td>21984.47061</td>\n",
              "    </tr>\n",
              "    <tr>\n",
              "      <th>4</th>\n",
              "      <td>32</td>\n",
              "      <td>male</td>\n",
              "      <td>28.880</td>\n",
              "      <td>0</td>\n",
              "      <td>no</td>\n",
              "      <td>northwest</td>\n",
              "      <td>3866.85520</td>\n",
              "    </tr>\n",
              "  </tbody>\n",
              "</table>\n",
              "</div>\n",
              "      <button class=\"colab-df-convert\" onclick=\"convertToInteractive('df-ec8a67a5-857a-4d7d-8b47-8c0ce88282da')\"\n",
              "              title=\"Convert this dataframe to an interactive table.\"\n",
              "              style=\"display:none;\">\n",
              "        \n",
              "  <svg xmlns=\"http://www.w3.org/2000/svg\" height=\"24px\"viewBox=\"0 0 24 24\"\n",
              "       width=\"24px\">\n",
              "    <path d=\"M0 0h24v24H0V0z\" fill=\"none\"/>\n",
              "    <path d=\"M18.56 5.44l.94 2.06.94-2.06 2.06-.94-2.06-.94-.94-2.06-.94 2.06-2.06.94zm-11 1L8.5 8.5l.94-2.06 2.06-.94-2.06-.94L8.5 2.5l-.94 2.06-2.06.94zm10 10l.94 2.06.94-2.06 2.06-.94-2.06-.94-.94-2.06-.94 2.06-2.06.94z\"/><path d=\"M17.41 7.96l-1.37-1.37c-.4-.4-.92-.59-1.43-.59-.52 0-1.04.2-1.43.59L10.3 9.45l-7.72 7.72c-.78.78-.78 2.05 0 2.83L4 21.41c.39.39.9.59 1.41.59.51 0 1.02-.2 1.41-.59l7.78-7.78 2.81-2.81c.8-.78.8-2.07 0-2.86zM5.41 20L4 18.59l7.72-7.72 1.47 1.35L5.41 20z\"/>\n",
              "  </svg>\n",
              "      </button>\n",
              "      \n",
              "  <style>\n",
              "    .colab-df-container {\n",
              "      display:flex;\n",
              "      flex-wrap:wrap;\n",
              "      gap: 12px;\n",
              "    }\n",
              "\n",
              "    .colab-df-convert {\n",
              "      background-color: #E8F0FE;\n",
              "      border: none;\n",
              "      border-radius: 50%;\n",
              "      cursor: pointer;\n",
              "      display: none;\n",
              "      fill: #1967D2;\n",
              "      height: 32px;\n",
              "      padding: 0 0 0 0;\n",
              "      width: 32px;\n",
              "    }\n",
              "\n",
              "    .colab-df-convert:hover {\n",
              "      background-color: #E2EBFA;\n",
              "      box-shadow: 0px 1px 2px rgba(60, 64, 67, 0.3), 0px 1px 3px 1px rgba(60, 64, 67, 0.15);\n",
              "      fill: #174EA6;\n",
              "    }\n",
              "\n",
              "    [theme=dark] .colab-df-convert {\n",
              "      background-color: #3B4455;\n",
              "      fill: #D2E3FC;\n",
              "    }\n",
              "\n",
              "    [theme=dark] .colab-df-convert:hover {\n",
              "      background-color: #434B5C;\n",
              "      box-shadow: 0px 1px 3px 1px rgba(0, 0, 0, 0.15);\n",
              "      filter: drop-shadow(0px 1px 2px rgba(0, 0, 0, 0.3));\n",
              "      fill: #FFFFFF;\n",
              "    }\n",
              "  </style>\n",
              "\n",
              "      <script>\n",
              "        const buttonEl =\n",
              "          document.querySelector('#df-ec8a67a5-857a-4d7d-8b47-8c0ce88282da button.colab-df-convert');\n",
              "        buttonEl.style.display =\n",
              "          google.colab.kernel.accessAllowed ? 'block' : 'none';\n",
              "\n",
              "        async function convertToInteractive(key) {\n",
              "          const element = document.querySelector('#df-ec8a67a5-857a-4d7d-8b47-8c0ce88282da');\n",
              "          const dataTable =\n",
              "            await google.colab.kernel.invokeFunction('convertToInteractive',\n",
              "                                                     [key], {});\n",
              "          if (!dataTable) return;\n",
              "\n",
              "          const docLinkHtml = 'Like what you see? Visit the ' +\n",
              "            '<a target=\"_blank\" href=https://colab.research.google.com/notebooks/data_table.ipynb>data table notebook</a>'\n",
              "            + ' to learn more about interactive tables.';\n",
              "          element.innerHTML = '';\n",
              "          dataTable['output_type'] = 'display_data';\n",
              "          await google.colab.output.renderOutput(dataTable, element);\n",
              "          const docLink = document.createElement('div');\n",
              "          docLink.innerHTML = docLinkHtml;\n",
              "          element.appendChild(docLink);\n",
              "        }\n",
              "      </script>\n",
              "    </div>\n",
              "  </div>\n",
              "  "
            ]
          },
          "metadata": {},
          "execution_count": 2
        }
      ]
    },
    {
      "cell_type": "code",
      "source": [
        "# make a column transformer to pre-process the data accordingly\n",
        "column_transformer = make_column_transformer(\n",
        "    (MinMaxScaler(), ['age', 'bmi', 'children']),\n",
        "    (OneHotEncoder(handle_unknown='ignore'), ['sex', 'smoker', 'region'])\n",
        ")"
      ],
      "metadata": {
        "id": "jVvzhE-rB-6a"
      },
      "execution_count": 4,
      "outputs": []
    },
    {
      "cell_type": "code",
      "source": [
        "# break the dataset into X and y\n",
        "X = df.drop('charges', axis=1)\n",
        "y = df['charges']\n",
        "\n",
        "# build the train and test sets\n",
        "X_train, X_test, y_train, y_test = train_test_split(X, y, test_size=0.2, random_state=42) "
      ],
      "metadata": {
        "id": "cWj0hAADBC4t"
      },
      "execution_count": 8,
      "outputs": []
    },
    {
      "cell_type": "code",
      "source": [
        "# fit the column transformer to the train data\n",
        "column_transformer.fit(X_train)"
      ],
      "metadata": {
        "colab": {
          "base_uri": "https://localhost:8080/"
        },
        "id": "LgvX7t5KDCla",
        "outputId": "d499c2f8-7f39-4ada-88bb-25fbbdf63da6"
      },
      "execution_count": 9,
      "outputs": [
        {
          "output_type": "execute_result",
          "data": {
            "text/plain": [
              "ColumnTransformer(transformers=[('minmaxscaler', MinMaxScaler(),\n",
              "                                 ['age', 'bmi', 'children']),\n",
              "                                ('onehotencoder',\n",
              "                                 OneHotEncoder(handle_unknown='ignore'),\n",
              "                                 ['sex', 'smoker', 'region'])])"
            ]
          },
          "metadata": {},
          "execution_count": 9
        }
      ]
    },
    {
      "cell_type": "code",
      "source": [
        "# transform the train and test data with normalization and one hot encoding\n",
        "X_train_normal = column_transformer.transform(X_train)\n",
        "X_test_normal = column_transformer.transform(X_test)"
      ],
      "metadata": {
        "id": "YMhnt33PDD1o"
      },
      "execution_count": 11,
      "outputs": []
    },
    {
      "cell_type": "code",
      "source": [
        "X_train.shape, X_train_normal.shape"
      ],
      "metadata": {
        "colab": {
          "base_uri": "https://localhost:8080/"
        },
        "id": "8P2W_mnqDFZd",
        "outputId": "5a3b169e-54f1-48cd-bcd1-1e9a9f943291"
      },
      "execution_count": 14,
      "outputs": [
        {
          "output_type": "execute_result",
          "data": {
            "text/plain": [
              "((1070, 6), (1070, 11))"
            ]
          },
          "metadata": {},
          "execution_count": 14
        }
      ]
    },
    {
      "cell_type": "code",
      "source": [
        "# build the neural network model\n",
        "model = tf.keras.Sequential([\n",
        "    tf.keras.layers.Dense(100, activation='relu'),\n",
        "    tf.keras.layers.Dense(50, activation='relu'),\n",
        "    tf.keras.layers.Dense(25, activation='relu'),\n",
        "    tf.keras.layers.Dense(10, activation='relu'),\n",
        "    tf.keras.layers.Dense(1)\n",
        "])\n",
        "\n",
        "# compile the model\n",
        "model.compile(loss=tf.keras.losses.mae,\n",
        "              optimizer=tf.keras.optimizers.Adam(learning_rate=1e-2),\n",
        "              metrics=['mae'])\n",
        "\n",
        "# train the model\n",
        "history = model.fit(X_train_normal, y_train, epochs=50)"
      ],
      "metadata": {
        "colab": {
          "base_uri": "https://localhost:8080/"
        },
        "id": "WMOMTUuyEmTt",
        "outputId": "ff287cae-ea80-48b9-c692-ad07c1016d5b"
      },
      "execution_count": 22,
      "outputs": [
        {
          "output_type": "stream",
          "name": "stdout",
          "text": [
            "Epoch 1/50\n",
            "34/34 [==============================] - 1s 3ms/step - loss: 13321.1797 - mae: 13321.1797\n",
            "Epoch 2/50\n",
            "34/34 [==============================] - 0s 3ms/step - loss: 10395.4883 - mae: 10395.4883\n",
            "Epoch 3/50\n",
            "34/34 [==============================] - 0s 2ms/step - loss: 7532.6162 - mae: 7532.6162\n",
            "Epoch 4/50\n",
            "34/34 [==============================] - 0s 2ms/step - loss: 6219.3647 - mae: 6219.3647\n",
            "Epoch 5/50\n",
            "34/34 [==============================] - 0s 2ms/step - loss: 4107.0308 - mae: 4107.0308\n",
            "Epoch 6/50\n",
            "34/34 [==============================] - 0s 3ms/step - loss: 3486.8289 - mae: 3486.8289\n",
            "Epoch 7/50\n",
            "34/34 [==============================] - 0s 3ms/step - loss: 3325.9146 - mae: 3325.9146\n",
            "Epoch 8/50\n",
            "34/34 [==============================] - 0s 4ms/step - loss: 3264.7380 - mae: 3264.7380\n",
            "Epoch 9/50\n",
            "34/34 [==============================] - 0s 4ms/step - loss: 3258.9019 - mae: 3258.9019\n",
            "Epoch 10/50\n",
            "34/34 [==============================] - 0s 4ms/step - loss: 3261.2703 - mae: 3261.2703\n",
            "Epoch 11/50\n",
            "34/34 [==============================] - 0s 4ms/step - loss: 3257.3650 - mae: 3257.3650\n",
            "Epoch 12/50\n",
            "34/34 [==============================] - 0s 4ms/step - loss: 3276.5186 - mae: 3276.5186\n",
            "Epoch 13/50\n",
            "34/34 [==============================] - 0s 4ms/step - loss: 3196.2581 - mae: 3196.2581\n",
            "Epoch 14/50\n",
            "34/34 [==============================] - 0s 3ms/step - loss: 3207.5168 - mae: 3207.5168\n",
            "Epoch 15/50\n",
            "34/34 [==============================] - 0s 3ms/step - loss: 3179.2578 - mae: 3179.2578\n",
            "Epoch 16/50\n",
            "34/34 [==============================] - 0s 3ms/step - loss: 3171.2375 - mae: 3171.2375\n",
            "Epoch 17/50\n",
            "34/34 [==============================] - 0s 3ms/step - loss: 3159.8264 - mae: 3159.8264\n",
            "Epoch 18/50\n",
            "34/34 [==============================] - 0s 2ms/step - loss: 3101.7966 - mae: 3101.7966\n",
            "Epoch 19/50\n",
            "34/34 [==============================] - 0s 2ms/step - loss: 3133.6418 - mae: 3133.6418\n",
            "Epoch 20/50\n",
            "34/34 [==============================] - 0s 3ms/step - loss: 3061.4624 - mae: 3061.4624\n",
            "Epoch 21/50\n",
            "34/34 [==============================] - 0s 3ms/step - loss: 3049.0923 - mae: 3049.0923\n",
            "Epoch 22/50\n",
            "34/34 [==============================] - 0s 2ms/step - loss: 3011.9883 - mae: 3011.9883\n",
            "Epoch 23/50\n",
            "34/34 [==============================] - 0s 3ms/step - loss: 3016.8342 - mae: 3016.8342\n",
            "Epoch 24/50\n",
            "34/34 [==============================] - 0s 2ms/step - loss: 2976.3408 - mae: 2976.3408\n",
            "Epoch 25/50\n",
            "34/34 [==============================] - 0s 3ms/step - loss: 2923.8948 - mae: 2923.8948\n",
            "Epoch 26/50\n",
            "34/34 [==============================] - 0s 3ms/step - loss: 2911.4365 - mae: 2911.4365\n",
            "Epoch 27/50\n",
            "34/34 [==============================] - 0s 3ms/step - loss: 2864.8411 - mae: 2864.8411\n",
            "Epoch 28/50\n",
            "34/34 [==============================] - 0s 3ms/step - loss: 2785.1228 - mae: 2785.1228\n",
            "Epoch 29/50\n",
            "34/34 [==============================] - 0s 2ms/step - loss: 2766.9075 - mae: 2766.9075\n",
            "Epoch 30/50\n",
            "34/34 [==============================] - 0s 2ms/step - loss: 2708.6926 - mae: 2708.6926\n",
            "Epoch 31/50\n",
            "34/34 [==============================] - 0s 2ms/step - loss: 2670.3376 - mae: 2670.3376\n",
            "Epoch 32/50\n",
            "34/34 [==============================] - 0s 2ms/step - loss: 2583.9314 - mae: 2583.9314\n",
            "Epoch 33/50\n",
            "34/34 [==============================] - 0s 2ms/step - loss: 2513.5015 - mae: 2513.5015\n",
            "Epoch 34/50\n",
            "34/34 [==============================] - 0s 3ms/step - loss: 2470.5994 - mae: 2470.5994\n",
            "Epoch 35/50\n",
            "34/34 [==============================] - 0s 2ms/step - loss: 2429.8000 - mae: 2429.8000\n",
            "Epoch 36/50\n",
            "34/34 [==============================] - 0s 4ms/step - loss: 2441.8740 - mae: 2441.8740\n",
            "Epoch 37/50\n",
            "34/34 [==============================] - 0s 3ms/step - loss: 2397.5862 - mae: 2397.5862\n",
            "Epoch 38/50\n",
            "34/34 [==============================] - 0s 4ms/step - loss: 2345.5706 - mae: 2345.5706\n",
            "Epoch 39/50\n",
            "34/34 [==============================] - 0s 3ms/step - loss: 2314.4133 - mae: 2314.4133\n",
            "Epoch 40/50\n",
            "34/34 [==============================] - 0s 4ms/step - loss: 2250.4458 - mae: 2250.4458\n",
            "Epoch 41/50\n",
            "34/34 [==============================] - 0s 4ms/step - loss: 2193.3472 - mae: 2193.3472\n",
            "Epoch 42/50\n",
            "34/34 [==============================] - 0s 4ms/step - loss: 2208.8865 - mae: 2208.8865\n",
            "Epoch 43/50\n",
            "34/34 [==============================] - 0s 3ms/step - loss: 2146.7812 - mae: 2146.7812\n",
            "Epoch 44/50\n",
            "34/34 [==============================] - 0s 2ms/step - loss: 2152.7544 - mae: 2152.7544\n",
            "Epoch 45/50\n",
            "34/34 [==============================] - 0s 2ms/step - loss: 2100.4651 - mae: 2100.4651\n",
            "Epoch 46/50\n",
            "34/34 [==============================] - 0s 3ms/step - loss: 2115.3892 - mae: 2115.3892\n",
            "Epoch 47/50\n",
            "34/34 [==============================] - 0s 3ms/step - loss: 2053.0115 - mae: 2053.0115\n",
            "Epoch 48/50\n",
            "34/34 [==============================] - 0s 2ms/step - loss: 2072.4622 - mae: 2072.4622\n",
            "Epoch 49/50\n",
            "34/34 [==============================] - 0s 2ms/step - loss: 2086.7690 - mae: 2086.7690\n",
            "Epoch 50/50\n",
            "34/34 [==============================] - 0s 2ms/step - loss: 2106.9509 - mae: 2106.9509\n"
          ]
        }
      ]
    },
    {
      "cell_type": "code",
      "source": [
        "# evaluate the model\n",
        "model.evaluate(X_test_normal, y_test)"
      ],
      "metadata": {
        "colab": {
          "base_uri": "https://localhost:8080/"
        },
        "id": "s7u3zzbXGLe5",
        "outputId": "f66a5c18-ae36-4545-fa69-5978510faad6"
      },
      "execution_count": 23,
      "outputs": [
        {
          "output_type": "stream",
          "name": "stdout",
          "text": [
            "9/9 [==============================] - 0s 3ms/step - loss: 1836.2808 - mae: 1836.2808\n"
          ]
        },
        {
          "output_type": "execute_result",
          "data": {
            "text/plain": [
              "[1836.28076171875, 1836.28076171875]"
            ]
          },
          "metadata": {},
          "execution_count": 23
        }
      ]
    },
    {
      "cell_type": "code",
      "source": [
        "# plot the training curve\n",
        "pd.DataFrame(history.history).plot()\n",
        "plt.xlabel('epochs')\n",
        "plt.ylabel('loss')"
      ],
      "metadata": {
        "colab": {
          "base_uri": "https://localhost:8080/",
          "height": 297
        },
        "id": "cCNj1WGOHwTE",
        "outputId": "f429f6ea-cf57-4b18-804e-16c7ae0b27fd"
      },
      "execution_count": 24,
      "outputs": [
        {
          "output_type": "execute_result",
          "data": {
            "text/plain": [
              "Text(0, 0.5, 'loss')"
            ]
          },
          "metadata": {},
          "execution_count": 24
        },
        {
          "output_type": "display_data",
          "data": {
            "text/plain": [
              "<Figure size 432x288 with 1 Axes>"
            ],
            "image/png": "[encoded data removed]"
          },
          "metadata": {
            "needs_background": "light"
          }
        }
      ]
    },
    {
      "cell_type": "code",
      "source": [],
      "metadata": {
        "id": "0NrZMpbRIBQS"
      },
      "execution_count": null,
      "outputs": []
    }
  ]
}