{
  "nbformat": 4,
  "nbformat_minor": 0,
  "metadata": {
    "colab": {
      "provenance": [],
      "authorship_tag": "ABX9TyNyRcD+Z6bJJjfWfP/ztfQk",
      "include_colab_link": true
    },
    "kernelspec": {
      "name": "python3",
      "display_name": "Python 3"
    },
    "language_info": {
      "name": "python"
    },
    "accelerator": "GPU",
    "gpuClass": "standard"
  },
  "cells": [
    {
      "cell_type": "markdown",
      "metadata": {
        "id": "view-in-github",
        "colab_type": "text"
      },
      "source": [
        "<a href=\"https://colab.research.google.com/github/enigma6174/tensorflow-learn/blob/develop/fundamentals/tensorflow_operations.ipynb\" target=\"_parent\"><img src=\"https://colab.research.google.com/assets/colab-badge.svg\" alt=\"Open In Colab\"/></a>"
      ]
    },
    {
      "cell_type": "markdown",
      "source": [
        "# Advanced Operations On Tensors\n",
        "\n",
        "- Changing The Datatype\n",
        "- Tensor Aggregation Functions\n",
        "- Squeezing A Tensor\n",
        "- One-hot Encoding\n",
        "- Tensor Mathematics\n",
        "- Numpy And Tensor Compatibility"
      ],
      "metadata": {
        "id": "sYwu4wJ_s3lw"
      }
    },
    {
      "cell_type": "code",
      "execution_count": 151,
      "metadata": {
        "id": "DtoqAvbdsclE"
      },
      "outputs": [],
      "source": [
        "import numpy as np\n",
        "import tensorflow as tf"
      ]
    },
    {
      "cell_type": "code",
      "source": [
        "tf.config.list_physical_devices()"
      ],
      "metadata": {
        "colab": {
          "base_uri": "https://localhost:8080/"
        },
        "id": "G_GOtYjnwLSZ",
        "outputId": "df1b37a6-b76f-4951-bd2f-6b18508a2bd5"
      },
      "execution_count": 227,
      "outputs": [
        {
          "output_type": "execute_result",
          "data": {
            "text/plain": [
              "[PhysicalDevice(name='/physical_device:CPU:0', device_type='CPU'),\n",
              " PhysicalDevice(name='/physical_device:GPU:0', device_type='GPU')]"
            ]
          },
          "metadata": {},
          "execution_count": 227
        }
      ]
    },
    {
      "cell_type": "code",
      "source": [
        "tf.config.list_physical_devices(\"GPU\")"
      ],
      "metadata": {
        "colab": {
          "base_uri": "https://localhost:8080/"
        },
        "id": "c9sMuBdDwMw-",
        "outputId": "b7e6b16b-0550-46ea-e712-cd2f8ebb7f7b"
      },
      "execution_count": 228,
      "outputs": [
        {
          "output_type": "execute_result",
          "data": {
            "text/plain": [
              "[PhysicalDevice(name='/physical_device:GPU:0', device_type='GPU')]"
            ]
          },
          "metadata": {},
          "execution_count": 228
        }
      ]
    },
    {
      "cell_type": "code",
      "source": [
        "!nvidia-smi"
      ],
      "metadata": {
        "colab": {
          "base_uri": "https://localhost:8080/"
        },
        "id": "lYL8KKsjwW2k",
        "outputId": "954a24a5-4ea5-4b31-eb09-4bef8c56af70"
      },
      "execution_count": 229,
      "outputs": [
        {
          "output_type": "stream",
          "name": "stdout",
          "text": [
            "Mon Dec 26 14:06:25 2022       \n",
            "+-----------------------------------------------------------------------------+\n",
            "| NVIDIA-SMI 460.32.03    Driver Version: 460.32.03    CUDA Version: 11.2     |\n",
            "|-------------------------------+----------------------+----------------------+\n",
            "| GPU  Name        Persistence-M| Bus-Id        Disp.A | Volatile Uncorr. ECC |\n",
            "| Fan  Temp  Perf  Pwr:Usage/Cap|         Memory-Usage | GPU-Util  Compute M. |\n",
            "|                               |                      |               MIG M. |\n",
            "|===============================+======================+======================|\n",
            "|   0  Tesla T4            Off  | 00000000:00:04.0 Off |                    0 |\n",
            "| N/A   76C    P0    31W /  70W |    314MiB / 15109MiB |      0%      Default |\n",
            "|                               |                      |                  N/A |\n",
            "+-------------------------------+----------------------+----------------------+\n",
            "                                                                               \n",
            "+-----------------------------------------------------------------------------+\n",
            "| Processes:                                                                  |\n",
            "|  GPU   GI   CI        PID   Type   Process name                  GPU Memory |\n",
            "|        ID   ID                                                   Usage      |\n",
            "|=============================================================================|\n",
            "+-----------------------------------------------------------------------------+\n"
          ]
        }
      ]
    },
    {
      "cell_type": "code",
      "source": [
        "# helper function to generate a tensor of required shape\n",
        "def generate_tensor(size, seed=42):\n",
        "  return tf.cast(tf.math.multiply(tf.random.Generator.from_seed(seed).normal(shape=size), 100), dtype=tf.int32)"
      ],
      "metadata": {
        "id": "7Ct2Jgl4-jgv"
      },
      "execution_count": 137,
      "outputs": []
    },
    {
      "cell_type": "markdown",
      "source": [
        "## [1] Changing The Datatype Of A Tensor\n",
        "\n",
        "The datatype of a tensor can be changed with `tf.cast()`"
      ],
      "metadata": {
        "id": "2DIMBnWF03am"
      }
    },
    {
      "cell_type": "code",
      "source": [
        "tensor = tf.constant([\n",
        "    [10, 20, 30],\n",
        "    [11, 13, 17]\n",
        "])\n",
        "tensor.dtype"
      ],
      "metadata": {
        "colab": {
          "base_uri": "https://localhost:8080/"
        },
        "id": "dNjwyeT8s2E3",
        "outputId": "d80da7bd-557f-4a9c-f6ce-048dac71cc35"
      },
      "execution_count": null,
      "outputs": [
        {
          "output_type": "execute_result",
          "data": {
            "text/plain": [
              "tf.int32"
            ]
          },
          "metadata": {},
          "execution_count": 3
        }
      ]
    },
    {
      "cell_type": "code",
      "source": [
        "# cahnge the datatype to float32\n",
        "tensor = tf.cast(tensor, dtype=tf.float32)\n",
        "tensor"
      ],
      "metadata": {
        "id": "FpFFn0oJ02Ki",
        "colab": {
          "base_uri": "https://localhost:8080/"
        },
        "outputId": "86518c5d-acce-4af9-9afa-7209a124e88a"
      },
      "execution_count": 4,
      "outputs": [
        {
          "output_type": "execute_result",
          "data": {
            "text/plain": [
              "<tf.Tensor: shape=(2, 3), dtype=float32, numpy=\n",
              "array([[10., 20., 30.],\n",
              "       [11., 13., 17.]], dtype=float32)>"
            ]
          },
          "metadata": {},
          "execution_count": 4
        }
      ]
    },
    {
      "cell_type": "code",
      "source": [
        "# change the datatype from float32 to float16 (reduced precision)\n",
        "tensor = tf.cast(tensor, dtype=tf.float16)\n",
        "tensor"
      ],
      "metadata": {
        "colab": {
          "base_uri": "https://localhost:8080/"
        },
        "id": "zoz-vrBa2Nyn",
        "outputId": "e965a073-da0e-4684-fc97-89362bdb0f43"
      },
      "execution_count": 5,
      "outputs": [
        {
          "output_type": "execute_result",
          "data": {
            "text/plain": [
              "<tf.Tensor: shape=(2, 3), dtype=float16, numpy=\n",
              "array([[10., 20., 30.],\n",
              "       [11., 13., 17.]], dtype=float16)>"
            ]
          },
          "metadata": {},
          "execution_count": 5
        }
      ]
    },
    {
      "cell_type": "code",
      "source": [
        "# change the datatype from float16 to int64\n",
        "tensor = tf.cast(tensor, dtype=tf.int64)\n",
        "tensor"
      ],
      "metadata": {
        "colab": {
          "base_uri": "https://localhost:8080/"
        },
        "id": "lgTs5Fq12awi",
        "outputId": "562300d2-6e38-4cf0-deab-bca0ae17b892"
      },
      "execution_count": 6,
      "outputs": [
        {
          "output_type": "execute_result",
          "data": {
            "text/plain": [
              "<tf.Tensor: shape=(2, 3), dtype=int64, numpy=\n",
              "array([[10, 20, 30],\n",
              "       [11, 13, 17]])>"
            ]
          },
          "metadata": {},
          "execution_count": 6
        }
      ]
    },
    {
      "cell_type": "markdown",
      "source": [
        "## [2] Tensor Aggregation Functions\n",
        "\n",
        "> Condensing tensors from multiple values down to a smaller amount of values"
      ],
      "metadata": {
        "id": "iSHEq3CO3iLS"
      }
    },
    {
      "cell_type": "code",
      "source": [
        "# tensor of shape (4, 3) intialized with random values\n",
        "tensor = generate_tensor((4, 3))\n",
        "tensor"
      ],
      "metadata": {
        "colab": {
          "base_uri": "https://localhost:8080/"
        },
        "id": "-TMDnf0J3epz",
        "outputId": "8d0bad77-f860-44d2-964e-4759ca7e3060"
      },
      "execution_count": 24,
      "outputs": [
        {
          "output_type": "execute_result",
          "data": {
            "text/plain": [
              "<tf.Tensor: shape=(4, 3), dtype=int32, numpy=\n",
              "array([[ -75,   -6,    7],\n",
              "       [-125,  -23, -181],\n",
              "       [   9,  -50,  -75],\n",
              "       [ -57,   14,  -23]], dtype=int32)>"
            ]
          },
          "metadata": {},
          "execution_count": 24
        }
      ]
    },
    {
      "cell_type": "code",
      "source": [
        "# get the absolute values of the tensor\n",
        "tf.math.abs(tensor)"
      ],
      "metadata": {
        "colab": {
          "base_uri": "https://localhost:8080/"
        },
        "id": "gMKoDOCG9cNc",
        "outputId": "7bc3c9e2-deae-454f-8252-d429f0138b5b"
      },
      "execution_count": 25,
      "outputs": [
        {
          "output_type": "execute_result",
          "data": {
            "text/plain": [
              "<tf.Tensor: shape=(4, 3), dtype=int32, numpy=\n",
              "array([[ 75,   6,   7],\n",
              "       [125,  23, 181],\n",
              "       [  9,  50,  75],\n",
              "       [ 57,  14,  23]], dtype=int32)>"
            ]
          },
          "metadata": {},
          "execution_count": 25
        }
      ]
    },
    {
      "cell_type": "markdown",
      "source": [
        "### [2.a] Calculating The Mean\n",
        "\n",
        "The mean of a tensor along any axis can be calculated using `tf.math.reduce_mean(tensor, axis)`. If the axis is not mentioned then by default, the entire tensor is reduced to a single mean"
      ],
      "metadata": {
        "id": "QbuRvlAZiecc"
      }
    },
    {
      "cell_type": "code",
      "source": [
        "# calculate the mean of the tensor\n",
        "tf.math.reduce_mean(tensor)"
      ],
      "metadata": {
        "colab": {
          "base_uri": "https://localhost:8080/"
        },
        "id": "uL6YdwxY9n7b",
        "outputId": "cd379971-1fde-4747-bf92-067896060f77"
      },
      "execution_count": 26,
      "outputs": [
        {
          "output_type": "execute_result",
          "data": {
            "text/plain": [
              "<tf.Tensor: shape=(), dtype=int32, numpy=-48>"
            ]
          },
          "metadata": {},
          "execution_count": 26
        }
      ]
    },
    {
      "cell_type": "code",
      "source": [
        "# calculate the mean along axis 0\n",
        "tf.math.reduce_mean(tensor, axis=0)"
      ],
      "metadata": {
        "colab": {
          "base_uri": "https://localhost:8080/"
        },
        "id": "WzQZQgfT_iyt",
        "outputId": "e34033d4-ba63-4d29-8ed5-db6bc275f83a"
      },
      "execution_count": 28,
      "outputs": [
        {
          "output_type": "execute_result",
          "data": {
            "text/plain": [
              "<tf.Tensor: shape=(3,), dtype=int32, numpy=array([-62, -16, -68], dtype=int32)>"
            ]
          },
          "metadata": {},
          "execution_count": 28
        }
      ]
    },
    {
      "cell_type": "code",
      "source": [
        "# calculate the mean along axis 1\n",
        "tf.math.reduce_mean(tensor, axis=1)"
      ],
      "metadata": {
        "colab": {
          "base_uri": "https://localhost:8080/"
        },
        "id": "6eKOzZ1IAQ5Z",
        "outputId": "477be321-74c4-4f09-a976-0a1b5310e302"
      },
      "execution_count": 18,
      "outputs": [
        {
          "output_type": "execute_result",
          "data": {
            "text/plain": [
              "<tf.Tensor: shape=(4,), dtype=int32, numpy=array([ -24, -109,  -38,  -22], dtype=int32)>"
            ]
          },
          "metadata": {},
          "execution_count": 18
        }
      ]
    },
    {
      "cell_type": "code",
      "source": [
        "# tensor of shape (3, 2, 3)\n",
        "tensor = generate_tensor((3, 2, 3))\n",
        "tensor"
      ],
      "metadata": {
        "colab": {
          "base_uri": "https://localhost:8080/"
        },
        "id": "rfPd2-7aA-TO",
        "outputId": "64c08baa-b9b4-40c5-aaaa-08744688f1c3"
      },
      "execution_count": 29,
      "outputs": [
        {
          "output_type": "execute_result",
          "data": {
            "text/plain": [
              "<tf.Tensor: shape=(3, 2, 3), dtype=int32, numpy=\n",
              "array([[[ -75,   -6,    7],\n",
              "        [-125,  -23, -181]],\n",
              "\n",
              "       [[   9,  -50,  -75],\n",
              "        [ -57,   14,  -23]],\n",
              "\n",
              "       [[ -35,   40, -105],\n",
              "        [ 120,  168,  -44]]], dtype=int32)>"
            ]
          },
          "metadata": {},
          "execution_count": 29
        }
      ]
    },
    {
      "cell_type": "code",
      "source": [
        "# mean of the tensor (all dimensions reduced)\n",
        "tf.math.reduce_mean(tensor)"
      ],
      "metadata": {
        "colab": {
          "base_uri": "https://localhost:8080/"
        },
        "id": "fJo59JPXBaDS",
        "outputId": "a6c1543e-feb0-4b67-f618-fc439760480b"
      },
      "execution_count": 30,
      "outputs": [
        {
          "output_type": "execute_result",
          "data": {
            "text/plain": [
              "<tf.Tensor: shape=(), dtype=int32, numpy=-24>"
            ]
          },
          "metadata": {},
          "execution_count": 30
        }
      ]
    },
    {
      "cell_type": "code",
      "source": [
        "# mean of the tensor along axis 0 \n",
        "tf.math.reduce_mean(tensor, axis=0)"
      ],
      "metadata": {
        "colab": {
          "base_uri": "https://localhost:8080/"
        },
        "id": "6m5oLGf6BjIJ",
        "outputId": "94668414-dcae-4ae3-e7fa-b0d9b243b823"
      },
      "execution_count": 31,
      "outputs": [
        {
          "output_type": "execute_result",
          "data": {
            "text/plain": [
              "<tf.Tensor: shape=(2, 3), dtype=int32, numpy=\n",
              "array([[-33,  -5, -57],\n",
              "       [-20,  53, -82]], dtype=int32)>"
            ]
          },
          "metadata": {},
          "execution_count": 31
        }
      ]
    },
    {
      "cell_type": "code",
      "source": [
        "# mean of the tensor along axis 1\n",
        "tf.math.reduce_mean(tensor, axis=1)"
      ],
      "metadata": {
        "colab": {
          "base_uri": "https://localhost:8080/"
        },
        "id": "geOgfagvBr4o",
        "outputId": "da6eb4ff-e347-4b44-bc6e-bd2630c663b0"
      },
      "execution_count": 32,
      "outputs": [
        {
          "output_type": "execute_result",
          "data": {
            "text/plain": [
              "<tf.Tensor: shape=(3, 3), dtype=int32, numpy=\n",
              "array([[-100,  -14,  -87],\n",
              "       [ -24,  -18,  -49],\n",
              "       [  42,  104,  -74]], dtype=int32)>"
            ]
          },
          "metadata": {},
          "execution_count": 32
        }
      ]
    },
    {
      "cell_type": "code",
      "source": [
        "# mean of the tensor along axis 2\n",
        "tf.math.reduce_mean(tensor, axis=2)"
      ],
      "metadata": {
        "colab": {
          "base_uri": "https://localhost:8080/"
        },
        "id": "pH2PsCXHB4kX",
        "outputId": "2a4fd718-f8f4-4b11-f161-00c50a6a4e6a"
      },
      "execution_count": 33,
      "outputs": [
        {
          "output_type": "execute_result",
          "data": {
            "text/plain": [
              "<tf.Tensor: shape=(3, 2), dtype=int32, numpy=\n",
              "array([[ -24, -109],\n",
              "       [ -38,  -22],\n",
              "       [ -33,   81]], dtype=int32)>"
            ]
          },
          "metadata": {},
          "execution_count": 33
        }
      ]
    },
    {
      "cell_type": "markdown",
      "source": [
        "#### Implementation Of Mean Reduction Along 0-Axis\n",
        "\n",
        "Consider the input tensor:  \n",
        "\n",
        "```python\n",
        "<tf.Tensor: shape=(3, 2, 3), dtype=int32, numpy=\n",
        "array([[[ -75,   -6,    7],\n",
        "        [-125,  -23, -181]],\n",
        "\n",
        "       [[   9,  -50,  -75],\n",
        "        [ -57,   14,  -23]],\n",
        "\n",
        "       [[ -35,   40, -105],\n",
        "        [ 120,  168,  -44]]], dtype=int32)>\n",
        "```  \n",
        "\n",
        "The output for `tf.math.reduce_mean(tensor, axis=0)` is:  \n",
        "\n",
        "```python\n",
        "<tf.Tensor: shape=(2, 3), dtype=int32, numpy=\n",
        "array([[-33,  -5, -57],\n",
        "       [-20,  53, -82]], dtype=int32)>\n",
        "```"
      ],
      "metadata": {
        "id": "yIRSs6uSccia"
      }
    },
    {
      "cell_type": "code",
      "source": [
        "# reate the initial tensor for tracking sum\n",
        "t = tf.zeros(shape=(2, 3), dtype=tf.int32)\n",
        "\n",
        "# add the tensors\n",
        "for i in range(tensor.shape[0]):\n",
        "  t = tf.math.add_n([t, tensor[i]])\n",
        "\n",
        "# divide the tensor sums to get the mean \n",
        "tensor_0 = tf.cast(tf.math.divide(t, 3), dtype=tf.int32)\n",
        "print(tensor_0)"
      ],
      "metadata": {
        "colab": {
          "base_uri": "https://localhost:8080/"
        },
        "id": "vBxjLhIuasgY",
        "outputId": "2fe1dd39-dda9-4673-cdfc-91ae3d60779d"
      },
      "execution_count": 98,
      "outputs": [
        {
          "output_type": "stream",
          "name": "stdout",
          "text": [
            "tf.Tensor(\n",
            "[[-33  -5 -57]\n",
            " [-20  53 -82]], shape=(2, 3), dtype=int32)\n"
          ]
        }
      ]
    },
    {
      "cell_type": "markdown",
      "source": [
        "#### Implementation Of Mean Reduction Along 1-Axis\n",
        "\n",
        "Consider the input tensor:  \n",
        "\n",
        "```python\n",
        "<tf.Tensor: shape=(3, 2, 3), dtype=int32, numpy=\n",
        "array([[[ -75,   -6,    7],\n",
        "        [-125,  -23, -181]],\n",
        "\n",
        "       [[   9,  -50,  -75],\n",
        "        [ -57,   14,  -23]],\n",
        "\n",
        "       [[ -35,   40, -105],\n",
        "        [ 120,  168,  -44]]], dtype=int32)>\n",
        "```  \n",
        "\n",
        "The output for `tf.math.reduce_mean(tensor, axis=1)` is:  \n",
        "\n",
        "```python\n",
        "<tf.Tensor: shape=(3, 3), dtype=int32, numpy=\n",
        "array([[-100,  -14,  -87],\n",
        "       [ -24,  -18,  -49],\n",
        "       [  42,  104,  -74]], dtype=int32)>\n",
        "```"
      ],
      "metadata": {
        "id": "KVLJ8SxXdUeM"
      }
    },
    {
      "cell_type": "code",
      "source": [
        "# implementation of reduce_mean along axis=1\n",
        "tensor_1 = tf.zeros(shape=(1, 3), dtype=tf.int32)\n",
        "\n",
        "for i in range(tensor.shape[0]):\n",
        "  t = tf.zeros(shape=(3,), dtype=tf.int32)\n",
        "\n",
        "  for j in range(tensor[i].shape[0]):\n",
        "    t = tf.math.add_n([t, tensor[i, j, :]])\n",
        "\n",
        "  # calculate the mean and reshape\n",
        "  t_divided = tf.cast(tf.math.divide(t, tensor.shape[1]), dtype=tf.int32)\n",
        "  t_reshape = tf.reshape(t_divided, [1, 3])\n",
        "\n",
        "  # when i = 0 add the resultant tensor to initial tensor\n",
        "  # otherwise concatenate resultant tensor\n",
        "  if i == 0:\n",
        "    tensor_1 = tf.math.add_n([tensor_1, t_reshape])\n",
        "  else:  \n",
        "    tensor_1 = tf.concat([tensor_1, t_reshape], axis=0)\n",
        "\n",
        "print(tensor_1)"
      ],
      "metadata": {
        "colab": {
          "base_uri": "https://localhost:8080/"
        },
        "id": "j6KtMT1WLCi2",
        "outputId": "33f87e4c-51a6-46ce-bca1-39fb28bdf478"
      },
      "execution_count": 100,
      "outputs": [
        {
          "output_type": "stream",
          "name": "stdout",
          "text": [
            "tf.Tensor(\n",
            "[[-100  -14  -87]\n",
            " [ -24  -18  -49]\n",
            " [  42  104  -74]], shape=(3, 3), dtype=int32)\n"
          ]
        }
      ]
    },
    {
      "cell_type": "markdown",
      "source": [
        "#### Implementation Of Mean Reduction Along 2-Axis\n",
        "\n",
        "Consider the input tensor:  \n",
        "\n",
        "```python\n",
        "<tf.Tensor: shape=(3, 2, 3), dtype=int32, numpy=\n",
        "array([[[ -75,   -6,    7],\n",
        "        [-125,  -23, -181]],\n",
        "\n",
        "       [[   9,  -50,  -75],\n",
        "        [ -57,   14,  -23]],\n",
        "\n",
        "       [[ -35,   40, -105],\n",
        "        [ 120,  168,  -44]]], dtype=int32)>\n",
        "```  \n",
        "\n",
        "The output for `tf.math.reduce_mean(tensor, axis=2)` is:  \n",
        "\n",
        "```python\n",
        "<tf.Tensor: shape=(3, 2), dtype=int32, numpy=\n",
        "array([[ -24, -109],\n",
        "       [ -38,  -22],\n",
        "       [ -33,   81]], dtype=int32)>\n",
        "```"
      ],
      "metadata": {
        "id": "OuRDJTtLdkf9"
      }
    },
    {
      "cell_type": "code",
      "source": [
        "# implementation of reduce_mean along axis=2\n",
        "tensor_2 = tf.zeros(shape=(1, 2), dtype=tf.int32)\n",
        "\n",
        "for i in range(tensor.shape[0]):\n",
        "  t = tf.zeros(shape=(2,), dtype=tf.int32)\n",
        "\n",
        "  for j in range(tensor[i].shape[1]):\n",
        "    t = tf.math.add_n([t, tensor[i, :, j]])\n",
        "\n",
        "  # calculate the mean and reshape\n",
        "  t_divided = tf.cast(tf.math.divide(t, tensor.shape[2]), dtype=tf.int32)\n",
        "  t_reshape = tf.reshape(t_divided, [1, 2])\n",
        "\n",
        "  # if i = 0 add resultant tensor to initial tensor\n",
        "  # otherwise concatenate resultant tensor\n",
        "  if i == 0:\n",
        "    tensor_2 = tf.math.add_n([tensor_2, t_reshape])\n",
        "  else:\n",
        "    tensor_2 = tf.concat([tensor_2, t_reshape], axis=0)\n",
        "\n",
        "print(tensor_2)"
      ],
      "metadata": {
        "colab": {
          "base_uri": "https://localhost:8080/"
        },
        "id": "yO9bTR73LMm6",
        "outputId": "3d2ae867-a988-4317-c2a2-9bde2ef83371"
      },
      "execution_count": 110,
      "outputs": [
        {
          "output_type": "stream",
          "name": "stdout",
          "text": [
            "tf.Tensor(\n",
            "[[ -24 -109]\n",
            " [ -38  -22]\n",
            " [ -33   81]], shape=(3, 2), dtype=int32)\n"
          ]
        }
      ]
    },
    {
      "cell_type": "markdown",
      "source": [
        "### [2.b] Calculating The Sum\n",
        "\n",
        "The sum of a tensor along any axis can be calculated using `tf.math.reduce_sum(tensor, axis)`. If the axis is not specified, by default the entire tensor is reduced to a single sum"
      ],
      "metadata": {
        "id": "V5IVwUeNin9r"
      }
    },
    {
      "cell_type": "code",
      "source": [
        "# tensor of shape (4, 3) generated using random values\n",
        "tensor = generate_tensor((4,3))\n",
        "tensor"
      ],
      "metadata": {
        "colab": {
          "base_uri": "https://localhost:8080/"
        },
        "id": "0aYSQt3GYnLy",
        "outputId": "38e8c9b8-c761-4db2-87c0-5aa724700425"
      },
      "execution_count": 111,
      "outputs": [
        {
          "output_type": "execute_result",
          "data": {
            "text/plain": [
              "<tf.Tensor: shape=(4, 3), dtype=int32, numpy=\n",
              "array([[ -75,   -6,    7],\n",
              "       [-125,  -23, -181],\n",
              "       [   9,  -50,  -75],\n",
              "       [ -57,   14,  -23]], dtype=int32)>"
            ]
          },
          "metadata": {},
          "execution_count": 111
        }
      ]
    },
    {
      "cell_type": "code",
      "source": [
        "# calculate the sum\n",
        "tf.math.reduce_sum(tensor)"
      ],
      "metadata": {
        "colab": {
          "base_uri": "https://localhost:8080/"
        },
        "id": "MKXwxEahx46V",
        "outputId": "d8c3a7b4-a738-4689-ca88-572b77e003e0"
      },
      "execution_count": 112,
      "outputs": [
        {
          "output_type": "execute_result",
          "data": {
            "text/plain": [
              "<tf.Tensor: shape=(), dtype=int32, numpy=-585>"
            ]
          },
          "metadata": {},
          "execution_count": 112
        }
      ]
    },
    {
      "cell_type": "code",
      "source": [
        "# calculate the sum along axis 0\n",
        "tf.math.reduce_sum(tensor, axis=0)"
      ],
      "metadata": {
        "colab": {
          "base_uri": "https://localhost:8080/"
        },
        "id": "8rsC2L4Wx_aK",
        "outputId": "a949a7cc-480c-4898-c04f-9edfeba400f5"
      },
      "execution_count": 113,
      "outputs": [
        {
          "output_type": "execute_result",
          "data": {
            "text/plain": [
              "<tf.Tensor: shape=(3,), dtype=int32, numpy=array([-248,  -65, -272], dtype=int32)>"
            ]
          },
          "metadata": {},
          "execution_count": 113
        }
      ]
    },
    {
      "cell_type": "code",
      "source": [
        "# calcuate the sum along axis 1\n",
        "tf.math.reduce_sum(tensor, axis=1)"
      ],
      "metadata": {
        "colab": {
          "base_uri": "https://localhost:8080/"
        },
        "id": "dmLbBNA-yJHz",
        "outputId": "0dad8e42-0810-4a6d-900c-4de748371a62"
      },
      "execution_count": 114,
      "outputs": [
        {
          "output_type": "execute_result",
          "data": {
            "text/plain": [
              "<tf.Tensor: shape=(4,), dtype=int32, numpy=array([ -74, -329, -116,  -66], dtype=int32)>"
            ]
          },
          "metadata": {},
          "execution_count": 114
        }
      ]
    },
    {
      "cell_type": "code",
      "source": [
        "# tensor of shape (3, 2, 3) generated using random values\n",
        "tensor = generate_tensor((3, 2, 3))\n",
        "tensor"
      ],
      "metadata": {
        "colab": {
          "base_uri": "https://localhost:8080/"
        },
        "id": "mN4ZG9hYyZ8M",
        "outputId": "88eb1566-06e1-4793-b649-742cd6f6e35a"
      },
      "execution_count": 115,
      "outputs": [
        {
          "output_type": "execute_result",
          "data": {
            "text/plain": [
              "<tf.Tensor: shape=(3, 2, 3), dtype=int32, numpy=\n",
              "array([[[ -75,   -6,    7],\n",
              "        [-125,  -23, -181]],\n",
              "\n",
              "       [[   9,  -50,  -75],\n",
              "        [ -57,   14,  -23]],\n",
              "\n",
              "       [[ -35,   40, -105],\n",
              "        [ 120,  168,  -44]]], dtype=int32)>"
            ]
          },
          "metadata": {},
          "execution_count": 115
        }
      ]
    },
    {
      "cell_type": "code",
      "source": [
        "# calculate the sum along axis 0\n",
        "tf.math.reduce_sum(tensor, axis=0)"
      ],
      "metadata": {
        "colab": {
          "base_uri": "https://localhost:8080/"
        },
        "id": "-gPRnjjNylc_",
        "outputId": "9d564668-bb05-4f70-f5b3-5e5b5ac56833"
      },
      "execution_count": 116,
      "outputs": [
        {
          "output_type": "execute_result",
          "data": {
            "text/plain": [
              "<tf.Tensor: shape=(2, 3), dtype=int32, numpy=\n",
              "array([[-101,  -16, -173],\n",
              "       [ -62,  159, -248]], dtype=int32)>"
            ]
          },
          "metadata": {},
          "execution_count": 116
        }
      ]
    },
    {
      "cell_type": "code",
      "source": [
        "# calculate the sum along axis 1\n",
        "tf.math.reduce_sum(tensor, axis=1)"
      ],
      "metadata": {
        "colab": {
          "base_uri": "https://localhost:8080/"
        },
        "id": "kuSveuU-1FJo",
        "outputId": "81f49e74-77c1-42ec-852a-874928d9354a"
      },
      "execution_count": 117,
      "outputs": [
        {
          "output_type": "execute_result",
          "data": {
            "text/plain": [
              "<tf.Tensor: shape=(3, 3), dtype=int32, numpy=\n",
              "array([[-200,  -29, -174],\n",
              "       [ -48,  -36,  -98],\n",
              "       [  85,  208, -149]], dtype=int32)>"
            ]
          },
          "metadata": {},
          "execution_count": 117
        }
      ]
    },
    {
      "cell_type": "code",
      "source": [
        "# calculate the sum along axis 2\n",
        "tf.math.reduce_sum(tensor, axis=2)"
      ],
      "metadata": {
        "colab": {
          "base_uri": "https://localhost:8080/"
        },
        "id": "PL9f4yfM1Mmj",
        "outputId": "ab944bd7-7d1d-4bcf-9c5a-81dbfc333d02"
      },
      "execution_count": 118,
      "outputs": [
        {
          "output_type": "execute_result",
          "data": {
            "text/plain": [
              "<tf.Tensor: shape=(3, 2), dtype=int32, numpy=\n",
              "array([[ -74, -329],\n",
              "       [-116,  -66],\n",
              "       [-100,  244]], dtype=int32)>"
            ]
          },
          "metadata": {},
          "execution_count": 118
        }
      ]
    },
    {
      "cell_type": "markdown",
      "source": [
        "### [2.c] Calculate The Maximum & Minumum\n",
        "\n",
        "The maximum value of a tensor along any axis can be calculated using `tf.math.reduce_max(tensor, axis)`. Similarly, the minimum value of a tensor along any axis can be calculated using `tf.math.reduce_min(tensor, axis)`   \n",
        "\n",
        "If the axis is not mentioned, the maximum across all dimensions is returned"
      ],
      "metadata": {
        "id": "2jeKnkyN1b_S"
      }
    },
    {
      "cell_type": "code",
      "source": [
        "# tensor of shape (4, 3) generated using random values\n",
        "tensor = generate_tensor((4, 3))\n",
        "tensor"
      ],
      "metadata": {
        "colab": {
          "base_uri": "https://localhost:8080/"
        },
        "id": "Zq2vcWWv1Udb",
        "outputId": "9a333077-9cfe-4efc-ee02-4f63cc6cc883"
      },
      "execution_count": 119,
      "outputs": [
        {
          "output_type": "execute_result",
          "data": {
            "text/plain": [
              "<tf.Tensor: shape=(4, 3), dtype=int32, numpy=\n",
              "array([[ -75,   -6,    7],\n",
              "       [-125,  -23, -181],\n",
              "       [   9,  -50,  -75],\n",
              "       [ -57,   14,  -23]], dtype=int32)>"
            ]
          },
          "metadata": {},
          "execution_count": 119
        }
      ]
    },
    {
      "cell_type": "code",
      "source": [
        "# maximum across all dimensions\n",
        "tf.math.reduce_max(tensor)"
      ],
      "metadata": {
        "colab": {
          "base_uri": "https://localhost:8080/"
        },
        "id": "PRU01rmj18SF",
        "outputId": "ffe4a0f8-75e0-49c7-c8f4-2ff90152cfc0"
      },
      "execution_count": 122,
      "outputs": [
        {
          "output_type": "execute_result",
          "data": {
            "text/plain": [
              "<tf.Tensor: shape=(), dtype=int32, numpy=14>"
            ]
          },
          "metadata": {},
          "execution_count": 122
        }
      ]
    },
    {
      "cell_type": "code",
      "source": [
        "# maximum across axis 0\n",
        "tf.math.reduce_max(tensor, axis=0)"
      ],
      "metadata": {
        "colab": {
          "base_uri": "https://localhost:8080/"
        },
        "id": "Upw2YtEY2FSZ",
        "outputId": "b5c65701-8952-49e3-832a-141433d5ff26"
      },
      "execution_count": 123,
      "outputs": [
        {
          "output_type": "execute_result",
          "data": {
            "text/plain": [
              "<tf.Tensor: shape=(3,), dtype=int32, numpy=array([ 9, 14,  7], dtype=int32)>"
            ]
          },
          "metadata": {},
          "execution_count": 123
        }
      ]
    },
    {
      "cell_type": "code",
      "source": [
        "# maximum across axis 1\n",
        "tf.math.reduce_max(tensor, axis=1)"
      ],
      "metadata": {
        "colab": {
          "base_uri": "https://localhost:8080/"
        },
        "id": "cep966ai2bMt",
        "outputId": "aaa36043-632c-41f3-f6e5-c58a95b5befd"
      },
      "execution_count": 124,
      "outputs": [
        {
          "output_type": "execute_result",
          "data": {
            "text/plain": [
              "<tf.Tensor: shape=(4,), dtype=int32, numpy=array([  7, -23,   9,  14], dtype=int32)>"
            ]
          },
          "metadata": {},
          "execution_count": 124
        }
      ]
    },
    {
      "cell_type": "code",
      "source": [
        "# tensor of shape (3, 2, 3) generated using random values\n",
        "tensor = generate_tensor((3, 2, 3))\n",
        "tensor"
      ],
      "metadata": {
        "colab": {
          "base_uri": "https://localhost:8080/"
        },
        "id": "IJFiYE7f2kSf",
        "outputId": "1ebba03b-57cf-4ae8-daf3-2a6755147f75"
      },
      "execution_count": 125,
      "outputs": [
        {
          "output_type": "execute_result",
          "data": {
            "text/plain": [
              "<tf.Tensor: shape=(3, 2, 3), dtype=int32, numpy=\n",
              "array([[[ -75,   -6,    7],\n",
              "        [-125,  -23, -181]],\n",
              "\n",
              "       [[   9,  -50,  -75],\n",
              "        [ -57,   14,  -23]],\n",
              "\n",
              "       [[ -35,   40, -105],\n",
              "        [ 120,  168,  -44]]], dtype=int32)>"
            ]
          },
          "metadata": {},
          "execution_count": 125
        }
      ]
    },
    {
      "cell_type": "code",
      "source": [
        "# calculate the minimum across all axes\n",
        "tf.math.reduce_min(tensor)"
      ],
      "metadata": {
        "colab": {
          "base_uri": "https://localhost:8080/"
        },
        "id": "FXQSLGow4IhI",
        "outputId": "2f0e833d-725a-49bd-d5a6-575e55e5ec3c"
      },
      "execution_count": 126,
      "outputs": [
        {
          "output_type": "execute_result",
          "data": {
            "text/plain": [
              "<tf.Tensor: shape=(), dtype=int32, numpy=-181>"
            ]
          },
          "metadata": {},
          "execution_count": 126
        }
      ]
    },
    {
      "cell_type": "code",
      "source": [
        "# calculate the minimum across axis 0\n",
        "tf.math.reduce_min(tensor, axis=0)"
      ],
      "metadata": {
        "colab": {
          "base_uri": "https://localhost:8080/"
        },
        "id": "M_fGXw1E4P8A",
        "outputId": "7b519028-e4ab-4dc7-8750-b865619e2000"
      },
      "execution_count": 127,
      "outputs": [
        {
          "output_type": "execute_result",
          "data": {
            "text/plain": [
              "<tf.Tensor: shape=(2, 3), dtype=int32, numpy=\n",
              "array([[ -75,  -50, -105],\n",
              "       [-125,  -23, -181]], dtype=int32)>"
            ]
          },
          "metadata": {},
          "execution_count": 127
        }
      ]
    },
    {
      "cell_type": "code",
      "source": [
        "# calcualte the minimum across axis 1\n",
        "tf.math.reduce_min(tensor, axis=1)"
      ],
      "metadata": {
        "colab": {
          "base_uri": "https://localhost:8080/"
        },
        "id": "gtzbkNbS4WwM",
        "outputId": "9186f919-c160-4a2b-ba95-5c7662e76d7a"
      },
      "execution_count": 128,
      "outputs": [
        {
          "output_type": "execute_result",
          "data": {
            "text/plain": [
              "<tf.Tensor: shape=(3, 3), dtype=int32, numpy=\n",
              "array([[-125,  -23, -181],\n",
              "       [ -57,  -50,  -75],\n",
              "       [ -35,   40, -105]], dtype=int32)>"
            ]
          },
          "metadata": {},
          "execution_count": 128
        }
      ]
    },
    {
      "cell_type": "code",
      "source": [
        "# calculate the minimum across axis 2\n",
        "tf.math.reduce_min(tensor, axis=2)"
      ],
      "metadata": {
        "colab": {
          "base_uri": "https://localhost:8080/"
        },
        "id": "KckN_Xrn4kKm",
        "outputId": "023857eb-e298-4e33-dc87-5cc836738de2"
      },
      "execution_count": 130,
      "outputs": [
        {
          "output_type": "execute_result",
          "data": {
            "text/plain": [
              "<tf.Tensor: shape=(3, 2), dtype=int32, numpy=\n",
              "array([[ -75, -181],\n",
              "       [ -75,  -57],\n",
              "       [-105,  -44]], dtype=int32)>"
            ]
          },
          "metadata": {},
          "execution_count": 130
        }
      ]
    },
    {
      "cell_type": "markdown",
      "source": [
        "### [2.d] Calculating The Index Of Maximum And Minimum\n",
        "\n",
        "To index of the maximum value across any axis of the tensor can be calculated using `tf.math.argmax(tensor, axis)` and the index of the minimum value across any axis of the tensor can be calculated using `tf.math.argmin(tensor, axis)` "
      ],
      "metadata": {
        "id": "9BQglr4C5TlI"
      }
    },
    {
      "cell_type": "code",
      "source": [
        "tensor = generate_tensor((4,3))\n",
        "tensor"
      ],
      "metadata": {
        "colab": {
          "base_uri": "https://localhost:8080/"
        },
        "id": "bpRhBl4G4v2f",
        "outputId": "beb00bdd-0c7d-45a7-a4cf-895f88365cb6"
      },
      "execution_count": 131,
      "outputs": [
        {
          "output_type": "execute_result",
          "data": {
            "text/plain": [
              "<tf.Tensor: shape=(4, 3), dtype=int32, numpy=\n",
              "array([[ -75,   -6,    7],\n",
              "       [-125,  -23, -181],\n",
              "       [   9,  -50,  -75],\n",
              "       [ -57,   14,  -23]], dtype=int32)>"
            ]
          },
          "metadata": {},
          "execution_count": 131
        }
      ]
    },
    {
      "cell_type": "code",
      "source": [
        "# max value index\n",
        "tf.math.argmax(tensor)"
      ],
      "metadata": {
        "colab": {
          "base_uri": "https://localhost:8080/"
        },
        "id": "d5uDU7pA54g_",
        "outputId": "ec2b7f9b-3390-40e8-f4ef-72b43e9d1bce"
      },
      "execution_count": 132,
      "outputs": [
        {
          "output_type": "execute_result",
          "data": {
            "text/plain": [
              "<tf.Tensor: shape=(3,), dtype=int64, numpy=array([2, 3, 0])>"
            ]
          },
          "metadata": {},
          "execution_count": 132
        }
      ]
    },
    {
      "cell_type": "code",
      "source": [
        "# max value index along axis 0\n",
        "tf.math.argmax(tensor, axis=0)"
      ],
      "metadata": {
        "colab": {
          "base_uri": "https://localhost:8080/"
        },
        "id": "a8NyFCxV59yU",
        "outputId": "d7be8205-e5f5-4c9d-e822-db4ec65903d9"
      },
      "execution_count": 133,
      "outputs": [
        {
          "output_type": "execute_result",
          "data": {
            "text/plain": [
              "<tf.Tensor: shape=(3,), dtype=int64, numpy=array([2, 3, 0])>"
            ]
          },
          "metadata": {},
          "execution_count": 133
        }
      ]
    },
    {
      "cell_type": "code",
      "source": [
        "# max value index along axis 1\n",
        "tf.math.argmax(tensor, axis=1)"
      ],
      "metadata": {
        "colab": {
          "base_uri": "https://localhost:8080/"
        },
        "id": "SHY2-hlL6Dwn",
        "outputId": "56a26a60-5c19-407f-f84e-3ae759993d3c"
      },
      "execution_count": 134,
      "outputs": [
        {
          "output_type": "execute_result",
          "data": {
            "text/plain": [
              "<tf.Tensor: shape=(4,), dtype=int64, numpy=array([2, 1, 0, 1])>"
            ]
          },
          "metadata": {},
          "execution_count": 134
        }
      ]
    },
    {
      "cell_type": "code",
      "source": [
        "tensor = generate_tensor((3,2,3))\n",
        "tensor"
      ],
      "metadata": {
        "colab": {
          "base_uri": "https://localhost:8080/"
        },
        "id": "Wd_4mxhZ6JGe",
        "outputId": "ffda762e-5873-4ccf-c3bb-f772e5896dea"
      },
      "execution_count": 138,
      "outputs": [
        {
          "output_type": "execute_result",
          "data": {
            "text/plain": [
              "<tf.Tensor: shape=(3, 2, 3), dtype=int32, numpy=\n",
              "array([[[ -75,   -6,    7],\n",
              "        [-125,  -23, -181]],\n",
              "\n",
              "       [[   9,  -50,  -75],\n",
              "        [ -57,   14,  -23]],\n",
              "\n",
              "       [[ -35,   40, -105],\n",
              "        [ 120,  168,  -44]]], dtype=int32)>"
            ]
          },
          "metadata": {},
          "execution_count": 138
        }
      ]
    },
    {
      "cell_type": "code",
      "source": [
        "# min value index across axis 0\n",
        "tf.math.argmin(tensor, axis=0)"
      ],
      "metadata": {
        "colab": {
          "base_uri": "https://localhost:8080/"
        },
        "id": "giEyoMTn_qw7",
        "outputId": "3d6d9994-b255-4f7b-f3e0-428ebc0ff2f2"
      },
      "execution_count": 141,
      "outputs": [
        {
          "output_type": "execute_result",
          "data": {
            "text/plain": [
              "<tf.Tensor: shape=(2, 3), dtype=int64, numpy=\n",
              "array([[0, 1, 2],\n",
              "       [0, 0, 0]])>"
            ]
          },
          "metadata": {},
          "execution_count": 141
        }
      ]
    },
    {
      "cell_type": "code",
      "source": [
        "# max value index across axis 0\n",
        "tf.math.argmax(tensor, axis=0)"
      ],
      "metadata": {
        "colab": {
          "base_uri": "https://localhost:8080/"
        },
        "id": "J2xRcE3lAEbw",
        "outputId": "3380f28a-34c5-4259-e218-aa4693bc97a8"
      },
      "execution_count": 142,
      "outputs": [
        {
          "output_type": "execute_result",
          "data": {
            "text/plain": [
              "<tf.Tensor: shape=(2, 3), dtype=int64, numpy=\n",
              "array([[1, 2, 0],\n",
              "       [2, 2, 1]])>"
            ]
          },
          "metadata": {},
          "execution_count": 142
        }
      ]
    },
    {
      "cell_type": "code",
      "source": [
        "# min value index across axis 1\n",
        "tf.math.argmin(tensor, axis=1)"
      ],
      "metadata": {
        "colab": {
          "base_uri": "https://localhost:8080/"
        },
        "id": "8dY2uG6JApO-",
        "outputId": "11e9a444-c49d-4e5d-d0e3-bc6000269ef0"
      },
      "execution_count": 143,
      "outputs": [
        {
          "output_type": "execute_result",
          "data": {
            "text/plain": [
              "<tf.Tensor: shape=(3, 3), dtype=int64, numpy=\n",
              "array([[1, 1, 1],\n",
              "       [1, 0, 0],\n",
              "       [0, 0, 0]])>"
            ]
          },
          "metadata": {},
          "execution_count": 143
        }
      ]
    },
    {
      "cell_type": "code",
      "source": [
        "# max value index across axis 1\n",
        "tf.math.argmax(tensor, axis=1)"
      ],
      "metadata": {
        "colab": {
          "base_uri": "https://localhost:8080/"
        },
        "id": "OzScT8RoA0aM",
        "outputId": "bcf33696-565b-49ee-c6af-bd078869695c"
      },
      "execution_count": 144,
      "outputs": [
        {
          "output_type": "execute_result",
          "data": {
            "text/plain": [
              "<tf.Tensor: shape=(3, 3), dtype=int64, numpy=\n",
              "array([[0, 0, 0],\n",
              "       [0, 1, 1],\n",
              "       [1, 1, 1]])>"
            ]
          },
          "metadata": {},
          "execution_count": 144
        }
      ]
    },
    {
      "cell_type": "code",
      "source": [
        "# min value across axis 2\n",
        "tf.math.argmin(tensor, axis=2)"
      ],
      "metadata": {
        "colab": {
          "base_uri": "https://localhost:8080/"
        },
        "id": "CzWvtjaEBG8h",
        "outputId": "160c21b9-130f-4a63-8e9f-12e36e98483c"
      },
      "execution_count": 147,
      "outputs": [
        {
          "output_type": "execute_result",
          "data": {
            "text/plain": [
              "<tf.Tensor: shape=(3, 2), dtype=int64, numpy=\n",
              "array([[0, 2],\n",
              "       [2, 0],\n",
              "       [2, 2]])>"
            ]
          },
          "metadata": {},
          "execution_count": 147
        }
      ]
    },
    {
      "cell_type": "code",
      "source": [
        "# max value across axis 2\n",
        "tf.math.argmax(tensor, axis=2)"
      ],
      "metadata": {
        "colab": {
          "base_uri": "https://localhost:8080/"
        },
        "id": "NBRlmONvBiV5",
        "outputId": "37250394-a976-4171-a6d1-9c740a966f0d"
      },
      "execution_count": 146,
      "outputs": [
        {
          "output_type": "execute_result",
          "data": {
            "text/plain": [
              "<tf.Tensor: shape=(3, 2), dtype=int64, numpy=\n",
              "array([[2, 1],\n",
              "       [0, 1],\n",
              "       [1, 1]])>"
            ]
          },
          "metadata": {},
          "execution_count": 146
        }
      ]
    },
    {
      "cell_type": "markdown",
      "source": [
        "### [2.e] Calculating The Variance And Standard Deviation\n",
        "\n",
        "The variance of a tensor across the axes can be calculated by `tf.math.reduce_variance()` and the standard deviation of a tensor across the axes can be calculated by `tf.math.reduce_std()`  \n",
        "\n",
        "If the axis is not mentioned, it will calculate across all the axes"
      ],
      "metadata": {
        "id": "tmaTifNADc8g"
      }
    },
    {
      "cell_type": "code",
      "source": [
        "# generate tensor with numpy random\n",
        "tensor = tf.cast(tf.constant(np.random.randint(0, 100, size=50)), dtype=tf.float32)\n",
        "tensor"
      ],
      "metadata": {
        "colab": {
          "base_uri": "https://localhost:8080/"
        },
        "id": "u6z74MM5Bomu",
        "outputId": "19152ba6-52ab-4ba5-e44c-919daa69a761"
      },
      "execution_count": 154,
      "outputs": [
        {
          "output_type": "execute_result",
          "data": {
            "text/plain": [
              "<tf.Tensor: shape=(50,), dtype=float32, numpy=\n",
              "array([ 9., 38.,  1., 83., 29., 37., 87., 93., 81., 91., 39., 10., 75.,\n",
              "       64., 15.,  2., 12., 79., 52., 89., 73., 53., 45., 33., 35., 42.,\n",
              "       99., 47., 89., 34., 25.,  7., 11., 12., 56.,  0., 93.,  2., 62.,\n",
              "       71., 97., 74.,  3., 35., 10., 68., 20., 50., 34., 93.],\n",
              "      dtype=float32)>"
            ]
          },
          "metadata": {},
          "execution_count": 154
        }
      ]
    },
    {
      "cell_type": "code",
      "source": [
        "# calculate the variance\n",
        "tf.math.reduce_variance(tensor)"
      ],
      "metadata": {
        "colab": {
          "base_uri": "https://localhost:8080/"
        },
        "id": "GgFXx663EWWg",
        "outputId": "f38fe840-c289-4e38-f4c0-77febaf1b097"
      },
      "execution_count": 155,
      "outputs": [
        {
          "output_type": "execute_result",
          "data": {
            "text/plain": [
              "<tf.Tensor: shape=(), dtype=float32, numpy=989.14764>"
            ]
          },
          "metadata": {},
          "execution_count": 155
        }
      ]
    },
    {
      "cell_type": "code",
      "source": [
        "# calculate the standard deviation\n",
        "tf.math.reduce_std(tensor)"
      ],
      "metadata": {
        "colab": {
          "base_uri": "https://localhost:8080/"
        },
        "id": "oclq2H26Emqj",
        "outputId": "b1f1b47d-c9f4-4fe7-9380-ed4de21dfc0d"
      },
      "execution_count": 156,
      "outputs": [
        {
          "output_type": "execute_result",
          "data": {
            "text/plain": [
              "<tf.Tensor: shape=(), dtype=float32, numpy=31.450718>"
            ]
          },
          "metadata": {},
          "execution_count": 156
        }
      ]
    },
    {
      "cell_type": "code",
      "source": [
        "tensor = tf.cast(generate_tensor((4,3)), dtype=tf.float32)\n",
        "tensor"
      ],
      "metadata": {
        "colab": {
          "base_uri": "https://localhost:8080/"
        },
        "id": "ygXh0QKSF3bh",
        "outputId": "da1ea6af-b372-4a87-968c-acc2ce0a9226"
      },
      "execution_count": 157,
      "outputs": [
        {
          "output_type": "execute_result",
          "data": {
            "text/plain": [
              "<tf.Tensor: shape=(4, 3), dtype=float32, numpy=\n",
              "array([[ -75.,   -6.,    7.],\n",
              "       [-125.,  -23., -181.],\n",
              "       [   9.,  -50.,  -75.],\n",
              "       [ -57.,   14.,  -23.]], dtype=float32)>"
            ]
          },
          "metadata": {},
          "execution_count": 157
        }
      ]
    },
    {
      "cell_type": "code",
      "source": [
        "# variance and standard deviation across axis 0\n",
        "tf.math.reduce_variance(tensor, axis=0), tf.math.reduce_std(tensor, axis=0)"
      ],
      "metadata": {
        "colab": {
          "base_uri": "https://localhost:8080/"
        },
        "id": "WS0xc5jIGA2d",
        "outputId": "cb58fe97-92d9-44f2-88f7-5ba606990828"
      },
      "execution_count": 158,
      "outputs": [
        {
          "output_type": "execute_result",
          "data": {
            "text/plain": [
              "(<tf.Tensor: shape=(3,), dtype=float32, numpy=array([2301.    ,  551.1875, 5117.    ], dtype=float32)>,\n",
              " <tf.Tensor: shape=(3,), dtype=float32, numpy=array([47.968742, 23.477383, 71.53321 ], dtype=float32)>)"
            ]
          },
          "metadata": {},
          "execution_count": 158
        }
      ]
    },
    {
      "cell_type": "code",
      "source": [
        "# variance and standard deviation across axis 1\n",
        "tf.math.reduce_variance(tensor, axis=1), tf.math.reduce_std(tensor, axis=1)"
      ],
      "metadata": {
        "colab": {
          "base_uri": "https://localhost:8080/"
        },
        "id": "P3bjh7MXGO-K",
        "outputId": "92bc5c04-6246-48db-f779-2c0efb4e9dee"
      },
      "execution_count": 159,
      "outputs": [
        {
          "output_type": "execute_result",
          "data": {
            "text/plain": [
              "(<tf.Tensor: shape=(4,), dtype=float32, numpy=array([1294.8888, 4278.222 , 1240.2222,  840.6667], dtype=float32)>,\n",
              " <tf.Tensor: shape=(4,), dtype=float32, numpy=array([35.984562, 65.40812 , 35.21679 , 28.994253], dtype=float32)>)"
            ]
          },
          "metadata": {},
          "execution_count": 159
        }
      ]
    },
    {
      "cell_type": "markdown",
      "source": [
        "## [3] Squeezing A Tensor\n",
        "\n",
        "Squeezing means to remove all dimensions of size 1 from a tensor"
      ],
      "metadata": {
        "id": "ajtHq20vIi9B"
      }
    },
    {
      "cell_type": "code",
      "source": [
        "tensor = tf.constant(tf.random.uniform(shape=[1, 2, 3]))\n",
        "tensor"
      ],
      "metadata": {
        "colab": {
          "base_uri": "https://localhost:8080/"
        },
        "id": "fjxd4OZwG1Rw",
        "outputId": "d2c952ba-82cd-4bf8-c569-b3b17422ab11"
      },
      "execution_count": 162,
      "outputs": [
        {
          "output_type": "execute_result",
          "data": {
            "text/plain": [
              "<tf.Tensor: shape=(1, 2, 3), dtype=float32, numpy=\n",
              "array([[[0.31604695, 0.46567738, 0.40111053],\n",
              "        [0.97965074, 0.44442737, 0.07780004]]], dtype=float32)>"
            ]
          },
          "metadata": {},
          "execution_count": 162
        }
      ]
    },
    {
      "cell_type": "code",
      "source": [
        "# squeeze the tensor\n",
        "tf.squeeze(tensor)"
      ],
      "metadata": {
        "colab": {
          "base_uri": "https://localhost:8080/"
        },
        "id": "qoCfBOszJorW",
        "outputId": "360ad19a-16bf-456e-a0a9-69f0de27dca7"
      },
      "execution_count": 163,
      "outputs": [
        {
          "output_type": "execute_result",
          "data": {
            "text/plain": [
              "<tf.Tensor: shape=(2, 3), dtype=float32, numpy=\n",
              "array([[0.31604695, 0.46567738, 0.40111053],\n",
              "       [0.97965074, 0.44442737, 0.07780004]], dtype=float32)>"
            ]
          },
          "metadata": {},
          "execution_count": 163
        }
      ]
    },
    {
      "cell_type": "code",
      "source": [
        "tensor = generate_tensor((3,1,3))\n",
        "tensor"
      ],
      "metadata": {
        "colab": {
          "base_uri": "https://localhost:8080/"
        },
        "id": "2SJKplW0J8cq",
        "outputId": "3a471c7e-39d2-4473-f38c-a2561e8565df"
      },
      "execution_count": 165,
      "outputs": [
        {
          "output_type": "execute_result",
          "data": {
            "text/plain": [
              "<tf.Tensor: shape=(3, 1, 3), dtype=int32, numpy=\n",
              "array([[[ -75,   -6,    7]],\n",
              "\n",
              "       [[-125,  -23, -181]],\n",
              "\n",
              "       [[   9,  -50,  -75]]], dtype=int32)>"
            ]
          },
          "metadata": {},
          "execution_count": 165
        }
      ]
    },
    {
      "cell_type": "code",
      "source": [
        "# squeeze the tensor\n",
        "tf.squeeze(tensor)"
      ],
      "metadata": {
        "colab": {
          "base_uri": "https://localhost:8080/"
        },
        "id": "kQSEXYEhKN7_",
        "outputId": "ffbf544f-cb55-4e34-858c-302d5c6d4ea3"
      },
      "execution_count": 167,
      "outputs": [
        {
          "output_type": "execute_result",
          "data": {
            "text/plain": [
              "<tf.Tensor: shape=(3, 3), dtype=int32, numpy=\n",
              "array([[ -75,   -6,    7],\n",
              "       [-125,  -23, -181],\n",
              "       [   9,  -50,  -75]], dtype=int32)>"
            ]
          },
          "metadata": {},
          "execution_count": 167
        }
      ]
    },
    {
      "cell_type": "markdown",
      "source": [
        "## [4] One Hot Encoding\n",
        "\n",
        "It is a form of representing categorical data with no mutual relationship among themeselves. A binary value is used to represent the categorical data. The value **1** represents the presence of said item and the value **0** represents the absence."
      ],
      "metadata": {
        "id": "lcd-sH8uYcJi"
      }
    },
    {
      "cell_type": "code",
      "source": [
        "tensor = tf.constant(np.random.randint(0, 5, size=10))\n",
        "tensor"
      ],
      "metadata": {
        "colab": {
          "base_uri": "https://localhost:8080/"
        },
        "id": "Lvd1GbOpKbY2",
        "outputId": "919432c2-a1dc-4dc9-83cf-cffecd431529"
      },
      "execution_count": 169,
      "outputs": [
        {
          "output_type": "execute_result",
          "data": {
            "text/plain": [
              "<tf.Tensor: shape=(10,), dtype=int64, numpy=array([3, 1, 4, 0, 2, 0, 0, 4, 2, 1])>"
            ]
          },
          "metadata": {},
          "execution_count": 169
        }
      ]
    },
    {
      "cell_type": "code",
      "source": [
        "tf.one_hot(tensor, depth=5)"
      ],
      "metadata": {
        "colab": {
          "base_uri": "https://localhost:8080/"
        },
        "id": "GZavMgfCbadN",
        "outputId": "9a746b6b-8278-45fd-b47b-d271e9f1aa2e"
      },
      "execution_count": 173,
      "outputs": [
        {
          "output_type": "execute_result",
          "data": {
            "text/plain": [
              "<tf.Tensor: shape=(10, 5), dtype=float32, numpy=\n",
              "array([[0., 0., 0., 1., 0.],\n",
              "       [0., 1., 0., 0., 0.],\n",
              "       [0., 0., 0., 0., 1.],\n",
              "       [1., 0., 0., 0., 0.],\n",
              "       [0., 0., 1., 0., 0.],\n",
              "       [1., 0., 0., 0., 0.],\n",
              "       [1., 0., 0., 0., 0.],\n",
              "       [0., 0., 0., 0., 1.],\n",
              "       [0., 0., 1., 0., 0.],\n",
              "       [0., 1., 0., 0., 0.]], dtype=float32)>"
            ]
          },
          "metadata": {},
          "execution_count": 173
        }
      ]
    },
    {
      "cell_type": "markdown",
      "source": [
        "### [4.a] One Hot Encoding Of Labels\n",
        "\n",
        "When the labels are not indices, some pre-processing is required to convert the labels to indices to be able to one-hot encode them"
      ],
      "metadata": {
        "id": "2dZg_07hpx-k"
      }
    },
    {
      "cell_type": "code",
      "source": [
        "# array of labels\n",
        "labels = np.array(['cat', 'dog', 'elephant', 'crocodile', 'dog', 'cat', 'dog', 'crocodile', 'elephant', 'dog', 'crocodile'])\n",
        "\n",
        "# get unique value from labels\n",
        "categories = np.unique(labels)\n",
        "\n",
        "# convert the labels to integer representations\n",
        "indices = tf.constant([i[0] for j in enumerate(labels) for i in enumerate(categories) if i[1] == j[1]])\n",
        "indices"
      ],
      "metadata": {
        "colab": {
          "base_uri": "https://localhost:8080/"
        },
        "id": "B-3eoMVrbpGy",
        "outputId": "04779cfa-dbc9-413f-f985-2a39c6c5dd98"
      },
      "execution_count": 206,
      "outputs": [
        {
          "output_type": "execute_result",
          "data": {
            "text/plain": [
              "<tf.Tensor: shape=(11,), dtype=int32, numpy=array([0, 2, 3, 1, 2, 0, 2, 1, 3, 2, 1], dtype=int32)>"
            ]
          },
          "metadata": {},
          "execution_count": 206
        }
      ]
    },
    {
      "cell_type": "code",
      "source": [
        "categories"
      ],
      "metadata": {
        "colab": {
          "base_uri": "https://localhost:8080/"
        },
        "id": "fqq92Y5AqyPR",
        "outputId": "acffb2d1-835b-4a32-fe3c-08612e3f2eff"
      },
      "execution_count": 208,
      "outputs": [
        {
          "output_type": "execute_result",
          "data": {
            "text/plain": [
              "array(['cat', 'crocodile', 'dog', 'elephant'], dtype='<U9')"
            ]
          },
          "metadata": {},
          "execution_count": 208
        }
      ]
    },
    {
      "cell_type": "code",
      "source": [
        "# one hot encoding of the \n",
        "tf.one_hot(indices, depth=4)"
      ],
      "metadata": {
        "colab": {
          "base_uri": "https://localhost:8080/"
        },
        "id": "zQE5ZY8Hhmx3",
        "outputId": "41075e0e-3151-407e-a656-508ef43c3bb2"
      },
      "execution_count": 207,
      "outputs": [
        {
          "output_type": "execute_result",
          "data": {
            "text/plain": [
              "<tf.Tensor: shape=(11, 4), dtype=float32, numpy=\n",
              "array([[1., 0., 0., 0.],\n",
              "       [0., 0., 1., 0.],\n",
              "       [0., 0., 0., 1.],\n",
              "       [0., 1., 0., 0.],\n",
              "       [0., 0., 1., 0.],\n",
              "       [1., 0., 0., 0.],\n",
              "       [0., 0., 1., 0.],\n",
              "       [0., 1., 0., 0.],\n",
              "       [0., 0., 0., 1.],\n",
              "       [0., 0., 1., 0.],\n",
              "       [0., 1., 0., 0.]], dtype=float32)>"
            ]
          },
          "metadata": {},
          "execution_count": 207
        }
      ]
    },
    {
      "cell_type": "markdown",
      "source": [
        "## [5] Mathematical Operations On Tensor\n",
        "\n",
        "A quick look at more mathematical operations that can be performed on a tensor"
      ],
      "metadata": {
        "id": "ZL4P-DGvq8xi"
      }
    },
    {
      "cell_type": "code",
      "source": [
        "# create a tensor using tf.range()\n",
        "t = tf.range(5, 31, delta=5, dtype=tf.float32)\n",
        "t"
      ],
      "metadata": {
        "colab": {
          "base_uri": "https://localhost:8080/"
        },
        "id": "tjzyW7VQq8A8",
        "outputId": "7fae54be-e923-447b-83c9-abeb875919f7"
      },
      "execution_count": 210,
      "outputs": [
        {
          "output_type": "execute_result",
          "data": {
            "text/plain": [
              "<tf.Tensor: shape=(6,), dtype=float32, numpy=array([ 5., 10., 15., 20., 25., 30.], dtype=float32)>"
            ]
          },
          "metadata": {},
          "execution_count": 210
        }
      ]
    },
    {
      "cell_type": "code",
      "source": [
        "# square of tensor\n",
        "tf.math.square(t)"
      ],
      "metadata": {
        "colab": {
          "base_uri": "https://localhost:8080/"
        },
        "id": "x5GGHNhmmF__",
        "outputId": "b55ece3a-bf92-4f90-bf68-9ff127f02ba5"
      },
      "execution_count": 212,
      "outputs": [
        {
          "output_type": "execute_result",
          "data": {
            "text/plain": [
              "<tf.Tensor: shape=(6,), dtype=float32, numpy=array([ 25., 100., 225., 400., 625., 900.], dtype=float32)>"
            ]
          },
          "metadata": {},
          "execution_count": 212
        }
      ]
    },
    {
      "cell_type": "code",
      "source": [
        "# squre root of tensor\n",
        "tf.math.sqrt(t)"
      ],
      "metadata": {
        "colab": {
          "base_uri": "https://localhost:8080/"
        },
        "id": "reaaRXvMrlMB",
        "outputId": "f3473137-9a71-4b1b-fe9d-c95f1ec50769"
      },
      "execution_count": 213,
      "outputs": [
        {
          "output_type": "execute_result",
          "data": {
            "text/plain": [
              "<tf.Tensor: shape=(6,), dtype=float32, numpy=\n",
              "array([2.2360678, 3.1622777, 3.8729832, 4.4721355, 5.       , 5.4772253],\n",
              "      dtype=float32)>"
            ]
          },
          "metadata": {},
          "execution_count": 213
        }
      ]
    },
    {
      "cell_type": "code",
      "source": [
        "# square root of tensor\n",
        "tf.math.sqrt(tf.math.square(t))"
      ],
      "metadata": {
        "colab": {
          "base_uri": "https://localhost:8080/"
        },
        "id": "O5NnTMzkr0eJ",
        "outputId": "160daefc-1be3-45f0-978b-82880f7cf91e"
      },
      "execution_count": 214,
      "outputs": [
        {
          "output_type": "execute_result",
          "data": {
            "text/plain": [
              "<tf.Tensor: shape=(6,), dtype=float32, numpy=array([ 5., 10., 15., 20., 25., 30.], dtype=float32)>"
            ]
          },
          "metadata": {},
          "execution_count": 214
        }
      ]
    },
    {
      "cell_type": "code",
      "source": [
        "# natural logarithm (ln x) of tensor\n",
        "tf.math.log(t)"
      ],
      "metadata": {
        "colab": {
          "base_uri": "https://localhost:8080/"
        },
        "id": "PM-VdApRr6rg",
        "outputId": "c2f3d942-42a0-433a-d18d-aeda5857985d"
      },
      "execution_count": 215,
      "outputs": [
        {
          "output_type": "execute_result",
          "data": {
            "text/plain": [
              "<tf.Tensor: shape=(6,), dtype=float32, numpy=\n",
              "array([1.609438 , 2.3025851, 2.7080503, 2.9957323, 3.218876 , 3.4011974],\n",
              "      dtype=float32)>"
            ]
          },
          "metadata": {},
          "execution_count": 215
        }
      ]
    },
    {
      "cell_type": "markdown",
      "source": [
        "## [6] Tensors And Numpy\n",
        "\n",
        "The entire numpy library is based around **arrays** whereas the entire TensorFlow library is based around the concept of **tensors**. The key difference between a **numpy array** and a **tensor** is that tensors can run on a GPU whereas numpy arrays cannot.  \n",
        "\n",
        "There is a high degree of compatibility between numpy arrays and tensors"
      ],
      "metadata": {
        "id": "ykPZ7idlsoMB"
      }
    },
    {
      "cell_type": "code",
      "source": [
        "# create a tensor from numpy array\n",
        "tensor = tf.constant(np.random.randint(0, 20, size=5))\n",
        "tensor"
      ],
      "metadata": {
        "colab": {
          "base_uri": "https://localhost:8080/"
        },
        "id": "evUikC5VsUZP",
        "outputId": "b232d19e-405f-49cd-cac8-6b9eba685394"
      },
      "execution_count": 217,
      "outputs": [
        {
          "output_type": "execute_result",
          "data": {
            "text/plain": [
              "<tf.Tensor: shape=(5,), dtype=int64, numpy=array([10,  8, 14,  1,  7])>"
            ]
          },
          "metadata": {},
          "execution_count": 217
        }
      ]
    },
    {
      "cell_type": "code",
      "source": [
        "# convert tensor to numpy array\n",
        "array = np.array(tensor)\n",
        "array, type(array)"
      ],
      "metadata": {
        "colab": {
          "base_uri": "https://localhost:8080/"
        },
        "id": "5poR2ZoNtg01",
        "outputId": "a54e08ca-f3cb-4f2d-f8af-b8ccb854fb28"
      },
      "execution_count": 219,
      "outputs": [
        {
          "output_type": "execute_result",
          "data": {
            "text/plain": [
              "(array([10,  8, 14,  1,  7]), numpy.ndarray)"
            ]
          },
          "metadata": {},
          "execution_count": 219
        }
      ]
    }
  ]
}