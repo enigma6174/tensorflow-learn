{
  "nbformat": 4,
  "nbformat_minor": 0,
  "metadata": {
    "colab": {
      "provenance": [],
      "authorship_tag": "ABX9TyN1ZsI61V7Oc5AEeTSPDfem",
      "include_colab_link": true
    },
    "kernelspec": {
      "name": "python3",
      "display_name": "Python 3"
    },
    "language_info": {
      "name": "python"
    },
    "accelerator": "GPU",
    "gpuClass": "standard"
  },
  "cells": [
    {
      "cell_type": "markdown",
      "metadata": {
        "id": "view-in-github",
        "colab_type": "text"
      },
      "source": [
        "<a href=\"https://colab.research.google.com/github/enigma6174/tensorflow-learn/blob/develop/fundamentals/matrix_multiplication.ipynb\" target=\"_parent\"><img src=\"https://colab.research.google.com/assets/colab-badge.svg\" alt=\"Open In Colab\"/></a>"
      ]
    },
    {
      "cell_type": "code",
      "execution_count": 1,
      "metadata": {
        "id": "_6rljXniGrTg"
      },
      "outputs": [],
      "source": [
        "import tensorflow as tf\n",
        "import numpy as np"
      ]
    },
    {
      "cell_type": "code",
      "source": [
        "# tensor of shape (2, 2)\n",
        "tensor_1 = tf.constant([\n",
        "    [10, 14],\n",
        "    [12, 9]\n",
        "])\n",
        "\n",
        "# tensor of shape (2, 2)\n",
        "tensor_2 = tf.constant([\n",
        "    [6, 7],\n",
        "    [2, 3]\n",
        "])\n",
        "\n",
        "tensor_1, tensor_2"
      ],
      "metadata": {
        "colab": {
          "base_uri": "https://localhost:8080/"
        },
        "id": "NQbk5wTBIWgM",
        "outputId": "1166d3ae-7ce3-4d9d-9aa9-2f68bc5fd3c8"
      },
      "execution_count": 12,
      "outputs": [
        {
          "output_type": "execute_result",
          "data": {
            "text/plain": [
              "(<tf.Tensor: shape=(2, 2), dtype=int32, numpy=\n",
              " array([[10, 14],\n",
              "        [12,  9]], dtype=int32)>, <tf.Tensor: shape=(2, 2), dtype=int32, numpy=\n",
              " array([[6, 7],\n",
              "        [2, 3]], dtype=int32)>)"
            ]
          },
          "metadata": {},
          "execution_count": 12
        }
      ]
    },
    {
      "cell_type": "markdown",
      "source": [
        "# Dot Product Multiplication\n",
        "\n",
        "The dot product of a matrix **A** and shape **(i, j)** with a matrix **B** and shape **(j, k)** is a matrix with shape **(i, k)**.  \n",
        "\n",
        "There are two methods available two perform the dot product of two matrices:\n",
        "\n",
        "- `tf.linalg.matmul()`\n",
        "- `tf.tensordot()`"
      ],
      "metadata": {
        "id": "Z8vEOqO4LtI5"
      }
    },
    {
      "cell_type": "markdown",
      "source": [
        "## [1] Multiplication With `tf.linalg.matmul()`"
      ],
      "metadata": {
        "id": "yOSEpjlCwwl2"
      }
    },
    {
      "cell_type": "code",
      "source": [
        "# matrix multiplication - resulting shape is (2, 2)\n",
        "tf.linalg.matmul(tensor_1, tensor_2)"
      ],
      "metadata": {
        "colab": {
          "base_uri": "https://localhost:8080/"
        },
        "id": "pMdbvilJLnpv",
        "outputId": "84bd561e-9d19-4fd7-e806-4b244c088178"
      },
      "execution_count": 13,
      "outputs": [
        {
          "output_type": "execute_result",
          "data": {
            "text/plain": [
              "<tf.Tensor: shape=(2, 2), dtype=int32, numpy=\n",
              "array([[ 88, 112],\n",
              "       [ 90, 111]], dtype=int32)>"
            ]
          },
          "metadata": {},
          "execution_count": 13
        }
      ]
    },
    {
      "cell_type": "code",
      "source": [
        "# tensor of shape (2, 3)\n",
        "tensor_1 = tf.constant([\n",
        "    [1, 2, 3],\n",
        "    [4, 5, 6]\n",
        "])\n",
        "\n",
        "# tensor of shape (3, 2)\n",
        "tensor_2 = tf.constant([\n",
        "    [10, 1],\n",
        "    [20, 2],\n",
        "    [30, 3]\n",
        "])\n",
        "\n",
        "tensor_1, tensor_2"
      ],
      "metadata": {
        "colab": {
          "base_uri": "https://localhost:8080/"
        },
        "id": "d2QQfOJkMaPZ",
        "outputId": "afd1f730-dee7-4fde-cadf-2bc044faaddf"
      },
      "execution_count": 14,
      "outputs": [
        {
          "output_type": "execute_result",
          "data": {
            "text/plain": [
              "(<tf.Tensor: shape=(2, 3), dtype=int32, numpy=\n",
              " array([[1, 2, 3],\n",
              "        [4, 5, 6]], dtype=int32)>,\n",
              " <tf.Tensor: shape=(3, 2), dtype=int32, numpy=\n",
              " array([[10,  1],\n",
              "        [20,  2],\n",
              "        [30,  3]], dtype=int32)>)"
            ]
          },
          "metadata": {},
          "execution_count": 14
        }
      ]
    },
    {
      "cell_type": "code",
      "source": [
        "# matric multiplication - resulting shape is (2, 2)\n",
        "tf.linalg.matmul(tensor_1, tensor_2)"
      ],
      "metadata": {
        "colab": {
          "base_uri": "https://localhost:8080/"
        },
        "id": "A2OhkBi8Mz04",
        "outputId": "0ebec088-c3be-4784-e430-5152e5197564"
      },
      "execution_count": 15,
      "outputs": [
        {
          "output_type": "execute_result",
          "data": {
            "text/plain": [
              "<tf.Tensor: shape=(2, 2), dtype=int32, numpy=\n",
              "array([[140,  14],\n",
              "       [320,  32]], dtype=int32)>"
            ]
          },
          "metadata": {},
          "execution_count": 15
        }
      ]
    },
    {
      "cell_type": "code",
      "source": [
        "# tensor of shape (3, 1)\n",
        "tensor_1 = tf.constant([\n",
        "    [1],\n",
        "    [2],\n",
        "    [3]\n",
        "])\n",
        "\n",
        "# tensor of shape (1, 3)\n",
        "tensor_2 = tf.constant([\n",
        "    [10, 20, 30]\n",
        "])\n",
        "\n",
        "tensor_1, tensor_2"
      ],
      "metadata": {
        "colab": {
          "base_uri": "https://localhost:8080/"
        },
        "id": "MJGKTrJrM_pD",
        "outputId": "7c4d27e1-e4b6-4da8-d5b5-4c7342fb939d"
      },
      "execution_count": 16,
      "outputs": [
        {
          "output_type": "execute_result",
          "data": {
            "text/plain": [
              "(<tf.Tensor: shape=(3, 1), dtype=int32, numpy=\n",
              " array([[1],\n",
              "        [2],\n",
              "        [3]], dtype=int32)>,\n",
              " <tf.Tensor: shape=(1, 3), dtype=int32, numpy=array([[10, 20, 30]], dtype=int32)>)"
            ]
          },
          "metadata": {},
          "execution_count": 16
        }
      ]
    },
    {
      "cell_type": "code",
      "source": [
        "# matrix multiplication - resulting shape is (3, 3)\n",
        "tf.linalg.matmul(tensor_1, tensor_2)"
      ],
      "metadata": {
        "colab": {
          "base_uri": "https://localhost:8080/"
        },
        "id": "bSZ92dHiNds8",
        "outputId": "8871bef1-a34f-4e57-d17b-c06bc4ed3508"
      },
      "execution_count": 17,
      "outputs": [
        {
          "output_type": "execute_result",
          "data": {
            "text/plain": [
              "<tf.Tensor: shape=(3, 3), dtype=int32, numpy=\n",
              "array([[10, 20, 30],\n",
              "       [20, 40, 60],\n",
              "       [30, 60, 90]], dtype=int32)>"
            ]
          },
          "metadata": {},
          "execution_count": 17
        }
      ]
    },
    {
      "cell_type": "code",
      "source": [
        "# tensor of shape (3, 2)\n",
        "tensor_1 = tf.constant([\n",
        "    [1, 3],\n",
        "    [2, 2],\n",
        "    [3, 1]\n",
        "])\n",
        "\n",
        "# tensor of shape (2, 3)\n",
        "tensor_2 = tf.constant([\n",
        "    [10, 20, 30],\n",
        "    [1, 2, 3]\n",
        "])\n",
        "\n",
        "tensor_1, tensor_2"
      ],
      "metadata": {
        "colab": {
          "base_uri": "https://localhost:8080/"
        },
        "id": "URgOCM6ENwWG",
        "outputId": "a8a53852-2436-485d-e4b3-ec06414789eb"
      },
      "execution_count": 18,
      "outputs": [
        {
          "output_type": "execute_result",
          "data": {
            "text/plain": [
              "(<tf.Tensor: shape=(3, 2), dtype=int32, numpy=\n",
              " array([[1, 3],\n",
              "        [2, 2],\n",
              "        [3, 1]], dtype=int32)>, <tf.Tensor: shape=(2, 3), dtype=int32, numpy=\n",
              " array([[10, 20, 30],\n",
              "        [ 1,  2,  3]], dtype=int32)>)"
            ]
          },
          "metadata": {},
          "execution_count": 18
        }
      ]
    },
    {
      "cell_type": "code",
      "source": [
        "# matrix multiplication - resulting shape is (3, 3)\n",
        "tf.linalg.matmul(tensor_1, tensor_2)"
      ],
      "metadata": {
        "colab": {
          "base_uri": "https://localhost:8080/"
        },
        "id": "S2l6g4FpOCyb",
        "outputId": "d074e417-411f-47d4-d1eb-605cdd9f26d9"
      },
      "execution_count": 19,
      "outputs": [
        {
          "output_type": "execute_result",
          "data": {
            "text/plain": [
              "<tf.Tensor: shape=(3, 3), dtype=int32, numpy=\n",
              "array([[13, 26, 39],\n",
              "       [22, 44, 66],\n",
              "       [31, 62, 93]], dtype=int32)>"
            ]
          },
          "metadata": {},
          "execution_count": 19
        }
      ]
    },
    {
      "cell_type": "code",
      "source": [
        "# tensor of shape (2, 3)\n",
        "tensor_1 = tf.constant([\n",
        "    [1, 2, 3],\n",
        "    [3, 2, 1]\n",
        "])\n",
        "\n",
        "# tensor of shape (2, 3)\n",
        "tensor_2 = tf.constant([\n",
        "    [10, 20, 30],\n",
        "    [1, 2, 3]\n",
        "])\n",
        "\n",
        "tensor_1, tensor_2"
      ],
      "metadata": {
        "colab": {
          "base_uri": "https://localhost:8080/"
        },
        "id": "CbclLq7VONp_",
        "outputId": "5635f10f-2efc-464c-a218-e0116c0e906d"
      },
      "execution_count": 20,
      "outputs": [
        {
          "output_type": "execute_result",
          "data": {
            "text/plain": [
              "(<tf.Tensor: shape=(2, 3), dtype=int32, numpy=\n",
              " array([[1, 2, 3],\n",
              "        [3, 2, 1]], dtype=int32)>,\n",
              " <tf.Tensor: shape=(2, 3), dtype=int32, numpy=\n",
              " array([[10, 20, 30],\n",
              "        [ 1,  2,  3]], dtype=int32)>)"
            ]
          },
          "metadata": {},
          "execution_count": 20
        }
      ]
    },
    {
      "cell_type": "code",
      "source": [
        "# matrix multiplication of two tensors of same shape not possible\n",
        "try:\n",
        "  tf.linalg.matmul(tensor_1, tensor_2)\n",
        "except Exception as e:\n",
        "  print(e)"
      ],
      "metadata": {
        "colab": {
          "base_uri": "https://localhost:8080/"
        },
        "id": "ux9JT1eTVium",
        "outputId": "f689d4e8-097d-485f-a953-d98c0001a4b4"
      },
      "execution_count": 21,
      "outputs": [
        {
          "output_type": "stream",
          "name": "stdout",
          "text": [
            "Matrix size-incompatible: In[0]: [2,3], In[1]: [2,3] [Op:MatMul]\n"
          ]
        }
      ]
    },
    {
      "cell_type": "markdown",
      "source": [
        "## Multiplication With `tf.tensordot()`"
      ],
      "metadata": {
        "id": "nTSBUUzzw5ix"
      }
    },
    {
      "cell_type": "code",
      "source": [
        "tensor_1 = tf.constant([\n",
        "    [1, 2, 3],\n",
        "    [4, 5, 6],\n",
        "])\n",
        "\n",
        "tensor_2 = tf.constant([\n",
        "    [11, 12],\n",
        "    [13, 14],\n",
        "    [15, 16]\n",
        "])\n",
        "\n",
        "tensor_1, tensor_2"
      ],
      "metadata": {
        "colab": {
          "base_uri": "https://localhost:8080/"
        },
        "id": "50Bizo1NyJ70",
        "outputId": "e0d73e81-3754-413f-f7ac-d8f11d2cc32b"
      },
      "execution_count": 70,
      "outputs": [
        {
          "output_type": "execute_result",
          "data": {
            "text/plain": [
              "(<tf.Tensor: shape=(2, 3), dtype=int32, numpy=\n",
              " array([[1, 2, 3],\n",
              "        [4, 5, 6]], dtype=int32)>,\n",
              " <tf.Tensor: shape=(3, 2), dtype=int32, numpy=\n",
              " array([[11, 12],\n",
              "        [13, 14],\n",
              "        [15, 16]], dtype=int32)>)"
            ]
          },
          "metadata": {},
          "execution_count": 70
        }
      ]
    },
    {
      "cell_type": "code",
      "source": [
        "# tensor multiplication with tf.tensordot() and axes=1\n",
        "tf.tensordot(tensor_1, tensor_2, axes=1)"
      ],
      "metadata": {
        "colab": {
          "base_uri": "https://localhost:8080/"
        },
        "id": "UGhFaffaybbO",
        "outputId": "d2e78c3e-0196-4db7-f1e1-6f079aa1fa5c"
      },
      "execution_count": 74,
      "outputs": [
        {
          "output_type": "execute_result",
          "data": {
            "text/plain": [
              "<tf.Tensor: shape=(2, 2), dtype=int32, numpy=\n",
              "array([[ 82,  88],\n",
              "       [199, 214]], dtype=int32)>"
            ]
          },
          "metadata": {},
          "execution_count": 74
        }
      ]
    },
    {
      "cell_type": "code",
      "source": [
        "# tensor multiplication with tf.tensordot() and axes=0\n",
        "tf.tensordot(tensor_1, tensor_2, axes=0)"
      ],
      "metadata": {
        "colab": {
          "base_uri": "https://localhost:8080/"
        },
        "id": "6luveShnybhN",
        "outputId": "717320d0-b450-4b44-dc38-ceb20de64f9b"
      },
      "execution_count": 76,
      "outputs": [
        {
          "output_type": "execute_result",
          "data": {
            "text/plain": [
              "<tf.Tensor: shape=(2, 3, 3, 2), dtype=int32, numpy=\n",
              "array([[[[11, 12],\n",
              "         [13, 14],\n",
              "         [15, 16]],\n",
              "\n",
              "        [[22, 24],\n",
              "         [26, 28],\n",
              "         [30, 32]],\n",
              "\n",
              "        [[33, 36],\n",
              "         [39, 42],\n",
              "         [45, 48]]],\n",
              "\n",
              "\n",
              "       [[[44, 48],\n",
              "         [52, 56],\n",
              "         [60, 64]],\n",
              "\n",
              "        [[55, 60],\n",
              "         [65, 70],\n",
              "         [75, 80]],\n",
              "\n",
              "        [[66, 72],\n",
              "         [78, 84],\n",
              "         [90, 96]]]], dtype=int32)>"
            ]
          },
          "metadata": {},
          "execution_count": 76
        }
      ]
    },
    {
      "cell_type": "markdown",
      "source": [
        "# Altering The Shape Of A Tensor With `tf.reshape()`\n",
        "\n",
        "`tf.reshape()` allows us to reshape the structure of the tensor to any shape. It must be noted that the size of the tensor before and after the reshape must remain the same, i.e. if the initial shape of the tensor is **(i, j, k)** and the final shape of the tensor is **(x, y, z)** then $(i*j*k) = (x*y*z)$"
      ],
      "metadata": {
        "id": "CW5xNvUzXwpP"
      }
    },
    {
      "cell_type": "code",
      "source": [
        "# tensor of shape (2, 3)\n",
        "tensor = tf.constant([\n",
        "    [11, 23, 37],\n",
        "    [19, 67, 83]\n",
        "])\n",
        "tensor"
      ],
      "metadata": {
        "colab": {
          "base_uri": "https://localhost:8080/"
        },
        "id": "vLq3vUIDmvxx",
        "outputId": "8b83801f-f3e1-4808-d332-245e8c9ceb3f"
      },
      "execution_count": 48,
      "outputs": [
        {
          "output_type": "execute_result",
          "data": {
            "text/plain": [
              "<tf.Tensor: shape=(2, 3), dtype=int32, numpy=\n",
              "array([[11, 23, 37],\n",
              "       [19, 67, 83]], dtype=int32)>"
            ]
          },
          "metadata": {},
          "execution_count": 48
        }
      ]
    },
    {
      "cell_type": "code",
      "source": [
        "# change the shape of tensor to (3, 2)\n",
        "tf.reshape(tensor, [3, 2])"
      ],
      "metadata": {
        "colab": {
          "base_uri": "https://localhost:8080/"
        },
        "id": "VDvNyMzUV81f",
        "outputId": "a3171ff8-f649-4271-9ec0-55f223b8323b"
      },
      "execution_count": 49,
      "outputs": [
        {
          "output_type": "execute_result",
          "data": {
            "text/plain": [
              "<tf.Tensor: shape=(3, 2), dtype=int32, numpy=\n",
              "array([[11, 23],\n",
              "       [37, 19],\n",
              "       [67, 83]], dtype=int32)>"
            ]
          },
          "metadata": {},
          "execution_count": 49
        }
      ]
    },
    {
      "cell_type": "code",
      "source": [
        "# change the shape of tensor to (6, 1)\n",
        "tf.reshape(tensor, [6, 1])"
      ],
      "metadata": {
        "colab": {
          "base_uri": "https://localhost:8080/"
        },
        "id": "Dc-ETv87WGpL",
        "outputId": "09d5b298-a205-4541-d44f-9069d32cf492"
      },
      "execution_count": 50,
      "outputs": [
        {
          "output_type": "execute_result",
          "data": {
            "text/plain": [
              "<tf.Tensor: shape=(6, 1), dtype=int32, numpy=\n",
              "array([[11],\n",
              "       [23],\n",
              "       [37],\n",
              "       [19],\n",
              "       [67],\n",
              "       [83]], dtype=int32)>"
            ]
          },
          "metadata": {},
          "execution_count": 50
        }
      ]
    },
    {
      "cell_type": "code",
      "source": [
        "# change the shape of tensor to (1, 6)\n",
        "tf.reshape(tensor, [1, 6])"
      ],
      "metadata": {
        "colab": {
          "base_uri": "https://localhost:8080/"
        },
        "id": "jr99MafkWzWk",
        "outputId": "3ed9e3bc-452f-46dc-ada5-73858e1a0101"
      },
      "execution_count": 51,
      "outputs": [
        {
          "output_type": "execute_result",
          "data": {
            "text/plain": [
              "<tf.Tensor: shape=(1, 6), dtype=int32, numpy=array([[11, 23, 37, 19, 67, 83]], dtype=int32)>"
            ]
          },
          "metadata": {},
          "execution_count": 51
        }
      ]
    },
    {
      "cell_type": "code",
      "source": [
        "# tensor of shape (4, 3) initialized with random numbers\n",
        "tensor = tf.math.round(tf.math.multiply(tf.random.Generator.from_seed(42).normal(shape=(4, 3)), 100))\n",
        "tensor"
      ],
      "metadata": {
        "colab": {
          "base_uri": "https://localhost:8080/"
        },
        "id": "AYSCH7PeXkwF",
        "outputId": "72bfea75-8d98-4602-bd3e-36026000a658"
      },
      "execution_count": 56,
      "outputs": [
        {
          "output_type": "execute_result",
          "data": {
            "text/plain": [
              "<tf.Tensor: shape=(4, 3), dtype=float32, numpy=\n",
              "array([[ -76.,   -7.,    8.],\n",
              "       [-126.,  -23., -181.],\n",
              "       [  10.,  -51.,  -75.],\n",
              "       [ -57.,   15.,  -23.]], dtype=float32)>"
            ]
          },
          "metadata": {},
          "execution_count": 56
        }
      ]
    },
    {
      "cell_type": "code",
      "source": [
        "# reshape the tensor to (3, 2, 2)\n",
        "tf.reshape(tensor, [3, 2, 2])"
      ],
      "metadata": {
        "colab": {
          "base_uri": "https://localhost:8080/"
        },
        "id": "b5tAmQXhoksb",
        "outputId": "b52eaa59-9c43-4936-9e1f-fba29b186a73"
      },
      "execution_count": 57,
      "outputs": [
        {
          "output_type": "execute_result",
          "data": {
            "text/plain": [
              "<tf.Tensor: shape=(3, 2, 2), dtype=float32, numpy=\n",
              "array([[[ -76.,   -7.],\n",
              "        [   8., -126.]],\n",
              "\n",
              "       [[ -23., -181.],\n",
              "        [  10.,  -51.]],\n",
              "\n",
              "       [[ -75.,  -57.],\n",
              "        [  15.,  -23.]]], dtype=float32)>"
            ]
          },
          "metadata": {},
          "execution_count": 57
        }
      ]
    },
    {
      "cell_type": "code",
      "source": [
        "# reshape the tensor to (6, 2)\n",
        "tf.reshape(tensor, [6, 2])"
      ],
      "metadata": {
        "colab": {
          "base_uri": "https://localhost:8080/"
        },
        "id": "7nRyEqcxpfLO",
        "outputId": "c6fd6c87-809c-4ce4-de7f-cc5e3f44ef71"
      },
      "execution_count": 58,
      "outputs": [
        {
          "output_type": "execute_result",
          "data": {
            "text/plain": [
              "<tf.Tensor: shape=(6, 2), dtype=float32, numpy=\n",
              "array([[ -76.,   -7.],\n",
              "       [   8., -126.],\n",
              "       [ -23., -181.],\n",
              "       [  10.,  -51.],\n",
              "       [ -75.,  -57.],\n",
              "       [  15.,  -23.]], dtype=float32)>"
            ]
          },
          "metadata": {},
          "execution_count": 58
        }
      ]
    },
    {
      "cell_type": "code",
      "source": [
        "# reshape the tensor to (2, 6, 1)\n",
        "tf.reshape(tensor, [2, 6, 1])"
      ],
      "metadata": {
        "colab": {
          "base_uri": "https://localhost:8080/"
        },
        "id": "u6ue5nmnrCE5",
        "outputId": "ed92a716-4e45-4613-ddb7-8f7a24f7f054"
      },
      "execution_count": 59,
      "outputs": [
        {
          "output_type": "execute_result",
          "data": {
            "text/plain": [
              "<tf.Tensor: shape=(2, 6, 1), dtype=float32, numpy=\n",
              "array([[[ -76.],\n",
              "        [  -7.],\n",
              "        [   8.],\n",
              "        [-126.],\n",
              "        [ -23.],\n",
              "        [-181.]],\n",
              "\n",
              "       [[  10.],\n",
              "        [ -51.],\n",
              "        [ -75.],\n",
              "        [ -57.],\n",
              "        [  15.],\n",
              "        [ -23.]]], dtype=float32)>"
            ]
          },
          "metadata": {},
          "execution_count": 59
        }
      ]
    },
    {
      "cell_type": "markdown",
      "source": [
        "# Altering The Shape Of A Tensor With `tf.transpose()`\n",
        "\n",
        "Transposing a tensor means to flip it's dimensions. For example if the shape of a tensor is **(3, 2)** then after transpose, the shape of the tensor will be **(2, 3)**. "
      ],
      "metadata": {
        "id": "maAf43n4s2Ai"
      }
    },
    {
      "cell_type": "code",
      "source": [
        "# tensor of shape (2, 3) initialized with random numbers\n",
        "tensor = tf.math.round(tf.math.multiply(tf.random.Generator.from_seed(42).normal(shape=(2, 3)), 100))\n",
        "tensor"
      ],
      "metadata": {
        "colab": {
          "base_uri": "https://localhost:8080/"
        },
        "id": "rBlCga2rrcuw",
        "outputId": "74e4d465-4d16-4662-9d25-80546846439e"
      },
      "execution_count": 65,
      "outputs": [
        {
          "output_type": "execute_result",
          "data": {
            "text/plain": [
              "<tf.Tensor: shape=(2, 3), dtype=float32, numpy=\n",
              "array([[ -76.,   -7.,    8.],\n",
              "       [-126.,  -23., -181.]], dtype=float32)>"
            ]
          },
          "metadata": {},
          "execution_count": 65
        }
      ]
    },
    {
      "cell_type": "code",
      "source": [
        "# transpose the tensor\n",
        "tf.transpose(tensor)"
      ],
      "metadata": {
        "colab": {
          "base_uri": "https://localhost:8080/"
        },
        "id": "aY5cY8ERtnlI",
        "outputId": "23b493ba-ed1d-425f-f09a-af38382d5cb9"
      },
      "execution_count": 66,
      "outputs": [
        {
          "output_type": "execute_result",
          "data": {
            "text/plain": [
              "<tf.Tensor: shape=(3, 2), dtype=float32, numpy=\n",
              "array([[ -76., -126.],\n",
              "       [  -7.,  -23.],\n",
              "       [   8., -181.]], dtype=float32)>"
            ]
          },
          "metadata": {},
          "execution_count": 66
        }
      ]
    },
    {
      "cell_type": "code",
      "source": [
        "# tensor of shape (2, 3, 2)\n",
        "tensor = tf.constant([\n",
        "    [\n",
        "      [3, 5],\n",
        "      [7, 11],\n",
        "      [13, 19]\n",
        "    ],\n",
        "    [\n",
        "      [47, 53],\n",
        "      [57, 59],\n",
        "      [61, 67]\n",
        "    ]\n",
        "])\n",
        "tensor"
      ],
      "metadata": {
        "colab": {
          "base_uri": "https://localhost:8080/"
        },
        "id": "PKt8PVT7uWax",
        "outputId": "f5167481-fac5-42bf-dfc7-cb56f6eaa805"
      },
      "execution_count": 67,
      "outputs": [
        {
          "output_type": "execute_result",
          "data": {
            "text/plain": [
              "<tf.Tensor: shape=(2, 3, 2), dtype=int32, numpy=\n",
              "array([[[ 3,  5],\n",
              "        [ 7, 11],\n",
              "        [13, 19]],\n",
              "\n",
              "       [[47, 53],\n",
              "        [57, 59],\n",
              "        [61, 67]]], dtype=int32)>"
            ]
          },
          "metadata": {},
          "execution_count": 67
        }
      ]
    },
    {
      "cell_type": "code",
      "source": [
        "# transpose the tensor\n",
        "tf.transpose(tensor)"
      ],
      "metadata": {
        "colab": {
          "base_uri": "https://localhost:8080/"
        },
        "id": "uBWW5zaavx_d",
        "outputId": "b34a277a-470f-40be-ad0b-23820cd6e722"
      },
      "execution_count": 68,
      "outputs": [
        {
          "output_type": "execute_result",
          "data": {
            "text/plain": [
              "<tf.Tensor: shape=(2, 3, 2), dtype=int32, numpy=\n",
              "array([[[ 3, 47],\n",
              "        [ 7, 57],\n",
              "        [13, 61]],\n",
              "\n",
              "       [[ 5, 53],\n",
              "        [11, 59],\n",
              "        [19, 67]]], dtype=int32)>"
            ]
          },
          "metadata": {},
          "execution_count": 68
        }
      ]
    }
  ]
}