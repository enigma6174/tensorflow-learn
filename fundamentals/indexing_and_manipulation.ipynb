{
  "nbformat": 4,
  "nbformat_minor": 0,
  "metadata": {
    "colab": {
      "provenance": [],
      "authorship_tag": "ABX9TyOONb2LA49lQCQxJdLRX9DQ",
      "include_colab_link": true
    },
    "kernelspec": {
      "name": "python3",
      "display_name": "Python 3"
    },
    "language_info": {
      "name": "python"
    },
    "accelerator": "GPU",
    "gpuClass": "standard"
  },
  "cells": [
    {
      "cell_type": "markdown",
      "metadata": {
        "id": "view-in-github",
        "colab_type": "text"
      },
      "source": [
        "<a href=\"https://colab.research.google.com/github/enigma6174/tensorflow-learn/blob/develop/fundamentals/indexing_and_manipulation.ipynb\" target=\"_parent\"><img src=\"https://colab.research.google.com/assets/colab-badge.svg\" alt=\"Open In Colab\"/></a>"
      ]
    },
    {
      "cell_type": "code",
      "execution_count": 1,
      "metadata": {
        "id": "C7eer9QKxfp6"
      },
      "outputs": [],
      "source": [
        "import tensorflow as tf\n",
        "import numpy as np"
      ]
    },
    {
      "cell_type": "markdown",
      "source": [
        "# Working With Tensors\n",
        "\n",
        "\n",
        "\n",
        "*   Indexing And Expanding \n",
        "*   Manipulating With Basic Operations\n",
        "\n",
        "\n"
      ],
      "metadata": {
        "id": "okLKR6Gu1jkN"
      }
    },
    {
      "cell_type": "markdown",
      "source": [
        "## [1] Indexing And Expanding"
      ],
      "metadata": {
        "id": "PMqX8T5o3Vy1"
      }
    },
    {
      "cell_type": "code",
      "source": [
        "tensor = tf.constant([\n",
        "    [\n",
        "      [1, 2, 3],\n",
        "      [5, 6, 7],\n",
        "      [9, 10, 11],\n",
        "      [-1, -2, -3]\n",
        "    ],\n",
        "    [\n",
        "      [10, 20, 30],\n",
        "      [50, 60, 70],\n",
        "      [19, 110, 111],\n",
        "      [-1, -2, -3]\n",
        "    ],\n",
        "    [\n",
        "      [105, 207, 390],\n",
        "      [5034, 608, 7560],\n",
        "      [1569, 11230, 1711],\n",
        "      [-1, -20, -3]\n",
        "    ]\n",
        "], dtype=tf.int32)\n",
        "tensor"
      ],
      "metadata": {
        "colab": {
          "base_uri": "https://localhost:8080/"
        },
        "id": "EYa5eVlJzx_3",
        "outputId": "3adcfd5f-fb9a-44ca-db40-8bb67729b02c"
      },
      "execution_count": 2,
      "outputs": [
        {
          "output_type": "execute_result",
          "data": {
            "text/plain": [
              "<tf.Tensor: shape=(3, 4, 3), dtype=int32, numpy=\n",
              "array([[[    1,     2,     3],\n",
              "        [    5,     6,     7],\n",
              "        [    9,    10,    11],\n",
              "        [   -1,    -2,    -3]],\n",
              "\n",
              "       [[   10,    20,    30],\n",
              "        [   50,    60,    70],\n",
              "        [   19,   110,   111],\n",
              "        [   -1,    -2,    -3]],\n",
              "\n",
              "       [[  105,   207,   390],\n",
              "        [ 5034,   608,  7560],\n",
              "        [ 1569, 11230,  1711],\n",
              "        [   -1,   -20,    -3]]], dtype=int32)>"
            ]
          },
          "metadata": {},
          "execution_count": 2
        }
      ]
    },
    {
      "cell_type": "code",
      "source": [
        "# get the first two elements from axis 0 \n",
        "tensor[:2]"
      ],
      "metadata": {
        "colab": {
          "base_uri": "https://localhost:8080/"
        },
        "id": "6H6VoCKa3kFS",
        "outputId": "b18058b2-1f8f-484f-92ab-c2c4fa4f59d7"
      },
      "execution_count": 3,
      "outputs": [
        {
          "output_type": "execute_result",
          "data": {
            "text/plain": [
              "<tf.Tensor: shape=(2, 4, 3), dtype=int32, numpy=\n",
              "array([[[  1,   2,   3],\n",
              "        [  5,   6,   7],\n",
              "        [  9,  10,  11],\n",
              "        [ -1,  -2,  -3]],\n",
              "\n",
              "       [[ 10,  20,  30],\n",
              "        [ 50,  60,  70],\n",
              "        [ 19, 110, 111],\n",
              "        [ -1,  -2,  -3]]], dtype=int32)>"
            ]
          },
          "metadata": {},
          "execution_count": 3
        }
      ]
    },
    {
      "cell_type": "code",
      "source": [
        "# get the first two elements from axis 0 and axis 1\n",
        "tensor[:2, :2]"
      ],
      "metadata": {
        "colab": {
          "base_uri": "https://localhost:8080/"
        },
        "id": "sA6SBxnH3uKx",
        "outputId": "4d9f6560-4287-481f-ec2c-8716e1b702c7"
      },
      "execution_count": 4,
      "outputs": [
        {
          "output_type": "execute_result",
          "data": {
            "text/plain": [
              "<tf.Tensor: shape=(2, 2, 3), dtype=int32, numpy=\n",
              "array([[[ 1,  2,  3],\n",
              "        [ 5,  6,  7]],\n",
              "\n",
              "       [[10, 20, 30],\n",
              "        [50, 60, 70]]], dtype=int32)>"
            ]
          },
          "metadata": {},
          "execution_count": 4
        }
      ]
    },
    {
      "cell_type": "code",
      "source": [
        "# get the first two elements from axis 1 for all items in axis 0\n",
        "tensor[:3, :2]"
      ],
      "metadata": {
        "colab": {
          "base_uri": "https://localhost:8080/"
        },
        "id": "JNmiIeDzhR0q",
        "outputId": "919ca995-82b7-499d-f7f3-7b8f87b085a8"
      },
      "execution_count": 5,
      "outputs": [
        {
          "output_type": "execute_result",
          "data": {
            "text/plain": [
              "<tf.Tensor: shape=(3, 2, 3), dtype=int32, numpy=\n",
              "array([[[   1,    2,    3],\n",
              "        [   5,    6,    7]],\n",
              "\n",
              "       [[  10,   20,   30],\n",
              "        [  50,   60,   70]],\n",
              "\n",
              "       [[ 105,  207,  390],\n",
              "        [5034,  608, 7560]]], dtype=int32)>"
            ]
          },
          "metadata": {},
          "execution_count": 5
        }
      ]
    },
    {
      "cell_type": "code",
      "source": [
        "# get the first three elements from axis 2\n",
        "# corresponding to second element of axis 1 and second element of axis 0\n",
        "tensor[1, 1, :3]"
      ],
      "metadata": {
        "colab": {
          "base_uri": "https://localhost:8080/"
        },
        "id": "b4-M8jaVhif3",
        "outputId": "14ca64f9-d78a-4239-da02-4b702da50cae"
      },
      "execution_count": 6,
      "outputs": [
        {
          "output_type": "execute_result",
          "data": {
            "text/plain": [
              "<tf.Tensor: shape=(3,), dtype=int32, numpy=array([50, 60, 70], dtype=int32)>"
            ]
          },
          "metadata": {},
          "execution_count": 6
        }
      ]
    },
    {
      "cell_type": "code",
      "source": [
        "# get the last two elements from axis 2\n",
        "# corresponding to second element of axis 1 and third element of axis 0\n",
        "tensor[2, 1, 1:]"
      ],
      "metadata": {
        "colab": {
          "base_uri": "https://localhost:8080/"
        },
        "id": "ctY4DDspiKhP",
        "outputId": "5547a197-a780-4657-e4aa-843c522b30a4"
      },
      "execution_count": 7,
      "outputs": [
        {
          "output_type": "execute_result",
          "data": {
            "text/plain": [
              "<tf.Tensor: shape=(2,), dtype=int32, numpy=array([ 608, 7560], dtype=int32)>"
            ]
          },
          "metadata": {},
          "execution_count": 7
        }
      ]
    },
    {
      "cell_type": "code",
      "source": [
        "# get the last two elements from axis 2\n",
        "# corresponding to all elements of axis 1 starting from the second element\n",
        "# corresponding to the third element of axis 0\n",
        "tensor[2, 1:, 1:]"
      ],
      "metadata": {
        "colab": {
          "base_uri": "https://localhost:8080/"
        },
        "id": "UBQ4KNXAi6NH",
        "outputId": "c0f8c265-feb9-4e51-9c92-aec91e72bed3"
      },
      "execution_count": 8,
      "outputs": [
        {
          "output_type": "execute_result",
          "data": {
            "text/plain": [
              "<tf.Tensor: shape=(3, 2), dtype=int32, numpy=\n",
              "array([[  608,  7560],\n",
              "       [11230,  1711],\n",
              "       [  -20,    -3]], dtype=int32)>"
            ]
          },
          "metadata": {},
          "execution_count": 8
        }
      ]
    },
    {
      "cell_type": "code",
      "source": [
        "# get the first 2 elements from axis 2\n",
        "# corresponding to last 3 elements of every element of axis 1\n",
        "# corresponding to every element of axis 0\n",
        "tensor[:3, 1:, :2]"
      ],
      "metadata": {
        "colab": {
          "base_uri": "https://localhost:8080/"
        },
        "id": "hFUfxZ5OjmKj",
        "outputId": "fc6f1c26-d359-421f-92be-c0016d0ab0b8"
      },
      "execution_count": 9,
      "outputs": [
        {
          "output_type": "execute_result",
          "data": {
            "text/plain": [
              "<tf.Tensor: shape=(3, 3, 2), dtype=int32, numpy=\n",
              "array([[[    5,     6],\n",
              "        [    9,    10],\n",
              "        [   -1,    -2]],\n",
              "\n",
              "       [[   50,    60],\n",
              "        [   19,   110],\n",
              "        [   -1,    -2]],\n",
              "\n",
              "       [[ 5034,   608],\n",
              "        [ 1569, 11230],\n",
              "        [   -1,   -20]]], dtype=int32)>"
            ]
          },
          "metadata": {},
          "execution_count": 9
        }
      ]
    },
    {
      "cell_type": "code",
      "source": [
        "# get the first two elements of each dimension\n",
        "tensor[:2, :2, :2]"
      ],
      "metadata": {
        "colab": {
          "base_uri": "https://localhost:8080/"
        },
        "id": "qHKm-sQaljKo",
        "outputId": "be68b7c6-f85b-43b3-a487-df0e65427810"
      },
      "execution_count": 10,
      "outputs": [
        {
          "output_type": "execute_result",
          "data": {
            "text/plain": [
              "<tf.Tensor: shape=(2, 2, 2), dtype=int32, numpy=\n",
              "array([[[ 1,  2],\n",
              "        [ 5,  6]],\n",
              "\n",
              "       [[10, 20],\n",
              "        [50, 60]]], dtype=int32)>"
            ]
          },
          "metadata": {},
          "execution_count": 10
        }
      ]
    },
    {
      "cell_type": "code",
      "source": [
        "# get all the first columns\n",
        "tensor[:, :, 0]"
      ],
      "metadata": {
        "colab": {
          "base_uri": "https://localhost:8080/"
        },
        "id": "HrtANfNZnkKL",
        "outputId": "92ae39fd-5911-4c23-a766-04a78df3fcf9"
      },
      "execution_count": 11,
      "outputs": [
        {
          "output_type": "execute_result",
          "data": {
            "text/plain": [
              "<tf.Tensor: shape=(3, 4), dtype=int32, numpy=\n",
              "array([[   1,    5,    9,   -1],\n",
              "       [  10,   50,   19,   -1],\n",
              "       [ 105, 5034, 1569,   -1]], dtype=int32)>"
            ]
          },
          "metadata": {},
          "execution_count": 11
        }
      ]
    },
    {
      "cell_type": "code",
      "source": [
        "# get all the first rows\n",
        "tensor[:, 0, :]"
      ],
      "metadata": {
        "colab": {
          "base_uri": "https://localhost:8080/"
        },
        "id": "K2Cd5Etpn1oB",
        "outputId": "59ddf085-269b-4a5e-c83d-70a73bc8c05d"
      },
      "execution_count": 12,
      "outputs": [
        {
          "output_type": "execute_result",
          "data": {
            "text/plain": [
              "<tf.Tensor: shape=(3, 3), dtype=int32, numpy=\n",
              "array([[  1,   2,   3],\n",
              "       [ 10,  20,  30],\n",
              "       [105, 207, 390]], dtype=int32)>"
            ]
          },
          "metadata": {},
          "execution_count": 12
        }
      ]
    },
    {
      "cell_type": "code",
      "source": [
        "rank_2_tensor = tf.constant([\n",
        "    [11, 13],\n",
        "    [23, 29]\n",
        "])\n",
        "rank_2_tensor.shape, rank_2_tensor.ndim"
      ],
      "metadata": {
        "colab": {
          "base_uri": "https://localhost:8080/"
        },
        "id": "tdeGgoc7oCyA",
        "outputId": "c3fd9ae2-1a23-4c8c-ea03-e2af17429712"
      },
      "execution_count": 13,
      "outputs": [
        {
          "output_type": "execute_result",
          "data": {
            "text/plain": [
              "(TensorShape([2, 2]), 2)"
            ]
          },
          "metadata": {},
          "execution_count": 13
        }
      ]
    },
    {
      "cell_type": "code",
      "source": [
        "rank_2_tensor"
      ],
      "metadata": {
        "colab": {
          "base_uri": "https://localhost:8080/"
        },
        "id": "lWb__gqCtf9s",
        "outputId": "3c86cccd-a8da-44aa-b0f5-2ee040717051"
      },
      "execution_count": 14,
      "outputs": [
        {
          "output_type": "execute_result",
          "data": {
            "text/plain": [
              "<tf.Tensor: shape=(2, 2), dtype=int32, numpy=\n",
              "array([[11, 13],\n",
              "       [23, 29]], dtype=int32)>"
            ]
          },
          "metadata": {},
          "execution_count": 14
        }
      ]
    },
    {
      "cell_type": "code",
      "source": [
        "# get the last item of each axis\n",
        "rank_2_tensor[:, -1]"
      ],
      "metadata": {
        "colab": {
          "base_uri": "https://localhost:8080/"
        },
        "id": "Q4AweUIJspxH",
        "outputId": "3bfa5e00-2545-41ab-991b-b1e897d8d48a"
      },
      "execution_count": 15,
      "outputs": [
        {
          "output_type": "execute_result",
          "data": {
            "text/plain": [
              "<tf.Tensor: shape=(2,), dtype=int32, numpy=array([13, 29], dtype=int32)>"
            ]
          },
          "metadata": {},
          "execution_count": 15
        }
      ]
    },
    {
      "cell_type": "code",
      "source": [
        "# add an extra dimension with tf.newaxis\n",
        "rank_3_tensor = rank_2_tensor[..., tf.newaxis]\n",
        "rank_3_tensor.shape, rank_3_tensor.ndim"
      ],
      "metadata": {
        "colab": {
          "base_uri": "https://localhost:8080/"
        },
        "id": "1Apu2rYCs96p",
        "outputId": "7a1fed2c-a66c-4dc6-ecd4-bdbf6e9def00"
      },
      "execution_count": 16,
      "outputs": [
        {
          "output_type": "execute_result",
          "data": {
            "text/plain": [
              "(TensorShape([2, 2, 1]), 3)"
            ]
          },
          "metadata": {},
          "execution_count": 16
        }
      ]
    },
    {
      "cell_type": "code",
      "source": [
        "rank_3_tensor"
      ],
      "metadata": {
        "colab": {
          "base_uri": "https://localhost:8080/"
        },
        "id": "aUH9LUWGtaW-",
        "outputId": "1cb8c5b0-4d54-4f52-e700-b4d21ba33f96"
      },
      "execution_count": 17,
      "outputs": [
        {
          "output_type": "execute_result",
          "data": {
            "text/plain": [
              "<tf.Tensor: shape=(2, 2, 1), dtype=int32, numpy=\n",
              "array([[[11],\n",
              "        [13]],\n",
              "\n",
              "       [[23],\n",
              "        [29]]], dtype=int32)>"
            ]
          },
          "metadata": {},
          "execution_count": 17
        }
      ]
    },
    {
      "cell_type": "code",
      "source": [
        "some_tensor = tf.constant([\n",
        "    [1, 2, 3, 4],\n",
        "    [5, 6, 7, 8],\n",
        "    [9, 10, 11, 12]\n",
        "])\n",
        "some_tensor.shape, some_tensor.ndim"
      ],
      "metadata": {
        "colab": {
          "base_uri": "https://localhost:8080/"
        },
        "id": "rgWX4LpitdQA",
        "outputId": "70c98026-7c02-40b3-ba4d-124f1cd37cfb"
      },
      "execution_count": 18,
      "outputs": [
        {
          "output_type": "execute_result",
          "data": {
            "text/plain": [
              "(TensorShape([3, 4]), 2)"
            ]
          },
          "metadata": {},
          "execution_count": 18
        }
      ]
    },
    {
      "cell_type": "code",
      "source": [
        "some_tensor"
      ],
      "metadata": {
        "colab": {
          "base_uri": "https://localhost:8080/"
        },
        "id": "jqGL0upOvGfy",
        "outputId": "fcd5d1d6-dbbe-44c7-bfc6-164bdf7784ef"
      },
      "execution_count": 19,
      "outputs": [
        {
          "output_type": "execute_result",
          "data": {
            "text/plain": [
              "<tf.Tensor: shape=(3, 4), dtype=int32, numpy=\n",
              "array([[ 1,  2,  3,  4],\n",
              "       [ 5,  6,  7,  8],\n",
              "       [ 9, 10, 11, 12]], dtype=int32)>"
            ]
          },
          "metadata": {},
          "execution_count": 19
        }
      ]
    },
    {
      "cell_type": "code",
      "source": [
        "another_tensor = some_tensor[..., tf.newaxis]\n",
        "another_tensor.shape, another_tensor.ndim"
      ],
      "metadata": {
        "colab": {
          "base_uri": "https://localhost:8080/"
        },
        "id": "XjjoDjWKvJbM",
        "outputId": "0014aafc-61bd-4d4a-983e-6c112a5d0a3d"
      },
      "execution_count": 20,
      "outputs": [
        {
          "output_type": "execute_result",
          "data": {
            "text/plain": [
              "(TensorShape([3, 4, 1]), 3)"
            ]
          },
          "metadata": {},
          "execution_count": 20
        }
      ]
    },
    {
      "cell_type": "code",
      "source": [
        "another_tensor"
      ],
      "metadata": {
        "colab": {
          "base_uri": "https://localhost:8080/"
        },
        "id": "WBxUnPulvTVd",
        "outputId": "4546ffca-b065-4301-a906-6b967e7b36d0"
      },
      "execution_count": 21,
      "outputs": [
        {
          "output_type": "execute_result",
          "data": {
            "text/plain": [
              "<tf.Tensor: shape=(3, 4, 1), dtype=int32, numpy=\n",
              "array([[[ 1],\n",
              "        [ 2],\n",
              "        [ 3],\n",
              "        [ 4]],\n",
              "\n",
              "       [[ 5],\n",
              "        [ 6],\n",
              "        [ 7],\n",
              "        [ 8]],\n",
              "\n",
              "       [[ 9],\n",
              "        [10],\n",
              "        [11],\n",
              "        [12]]], dtype=int32)>"
            ]
          },
          "metadata": {},
          "execution_count": 21
        }
      ]
    },
    {
      "cell_type": "code",
      "source": [
        "rank_2_tensor"
      ],
      "metadata": {
        "colab": {
          "base_uri": "https://localhost:8080/"
        },
        "id": "3anaj7sGvVf3",
        "outputId": "85c16b60-3cfd-477d-d2f2-b84051d6980c"
      },
      "execution_count": 22,
      "outputs": [
        {
          "output_type": "execute_result",
          "data": {
            "text/plain": [
              "<tf.Tensor: shape=(2, 2), dtype=int32, numpy=\n",
              "array([[11, 13],\n",
              "       [23, 29]], dtype=int32)>"
            ]
          },
          "metadata": {},
          "execution_count": 22
        }
      ]
    },
    {
      "cell_type": "code",
      "source": [
        "# tf.expand_dims() is an alternative to tf.newaxis\n",
        "rank_3_tensor = tf.expand_dims(rank_2_tensor, axis=-1)\n",
        "rank_3_tensor.shape, rank_3_tensor.ndim"
      ],
      "metadata": {
        "colab": {
          "base_uri": "https://localhost:8080/"
        },
        "id": "tU2Lea5QwmEp",
        "outputId": "76dc616f-6ea8-4e5b-8ff7-5ab07190c46c"
      },
      "execution_count": 23,
      "outputs": [
        {
          "output_type": "execute_result",
          "data": {
            "text/plain": [
              "(TensorShape([2, 2, 1]), 3)"
            ]
          },
          "metadata": {},
          "execution_count": 23
        }
      ]
    },
    {
      "cell_type": "code",
      "source": [
        "# we can expand the dim along any axis\n",
        "rank_3_tensor = tf.expand_dims(rank_2_tensor, axis=0)\n",
        "rank_3_tensor.shape, rank_3_tensor.ndim"
      ],
      "metadata": {
        "colab": {
          "base_uri": "https://localhost:8080/"
        },
        "id": "JFrjPwScwpta",
        "outputId": "3377e133-0e11-4f16-84f0-1f6daad9ea62"
      },
      "execution_count": 24,
      "outputs": [
        {
          "output_type": "execute_result",
          "data": {
            "text/plain": [
              "(TensorShape([1, 2, 2]), 3)"
            ]
          },
          "metadata": {},
          "execution_count": 24
        }
      ]
    },
    {
      "cell_type": "code",
      "source": [
        "rank_3_tensor"
      ],
      "metadata": {
        "colab": {
          "base_uri": "https://localhost:8080/"
        },
        "id": "Y9wv0jP_w4O9",
        "outputId": "04ef2688-e8a6-454a-ca35-a1deeaa25dc4"
      },
      "execution_count": 25,
      "outputs": [
        {
          "output_type": "execute_result",
          "data": {
            "text/plain": [
              "<tf.Tensor: shape=(1, 2, 2), dtype=int32, numpy=\n",
              "array([[[11, 13],\n",
              "        [23, 29]]], dtype=int32)>"
            ]
          },
          "metadata": {},
          "execution_count": 25
        }
      ]
    },
    {
      "cell_type": "markdown",
      "source": [
        "## [2] Manipulating Tensors With Basic Operations\n",
        "\n",
        "Prefer in-built tensorflow libraries over operator use for manipulation operations because the tensorflow libraries are GPU optimised"
      ],
      "metadata": {
        "id": "_saooaWFyq3p"
      }
    },
    {
      "cell_type": "code",
      "source": [
        "tensor = tf.constant([\n",
        "    [11, 13, 17],\n",
        "    [19, 23, 29],\n",
        "])\n",
        "tensor"
      ],
      "metadata": {
        "id": "KwmDqB3jxEbS",
        "colab": {
          "base_uri": "https://localhost:8080/"
        },
        "outputId": "815ba83e-032f-44ab-b062-d1951af4d752"
      },
      "execution_count": 26,
      "outputs": [
        {
          "output_type": "execute_result",
          "data": {
            "text/plain": [
              "<tf.Tensor: shape=(2, 3), dtype=int32, numpy=\n",
              "array([[11, 13, 17],\n",
              "       [19, 23, 29]], dtype=int32)>"
            ]
          },
          "metadata": {},
          "execution_count": 26
        }
      ]
    },
    {
      "cell_type": "code",
      "source": [
        "# add value to tensor\n",
        "tensor + 100"
      ],
      "metadata": {
        "colab": {
          "base_uri": "https://localhost:8080/"
        },
        "id": "yX5kfPZuEIaG",
        "outputId": "2bc61ed9-3b35-4728-989b-fd5daece9b0b"
      },
      "execution_count": 27,
      "outputs": [
        {
          "output_type": "execute_result",
          "data": {
            "text/plain": [
              "<tf.Tensor: shape=(2, 3), dtype=int32, numpy=\n",
              "array([[111, 113, 117],\n",
              "       [119, 123, 129]], dtype=int32)>"
            ]
          },
          "metadata": {},
          "execution_count": 27
        }
      ]
    },
    {
      "cell_type": "code",
      "source": [
        "# subract vale from tensor\n",
        "tensor - 10"
      ],
      "metadata": {
        "colab": {
          "base_uri": "https://localhost:8080/"
        },
        "id": "448TIlzxERRQ",
        "outputId": "2f322994-e00b-4955-99b3-c860b93aab1f"
      },
      "execution_count": 28,
      "outputs": [
        {
          "output_type": "execute_result",
          "data": {
            "text/plain": [
              "<tf.Tensor: shape=(2, 3), dtype=int32, numpy=\n",
              "array([[ 1,  3,  7],\n",
              "       [ 9, 13, 19]], dtype=int32)>"
            ]
          },
          "metadata": {},
          "execution_count": 28
        }
      ]
    },
    {
      "cell_type": "code",
      "source": [
        "# multiply tensor by value\n",
        "tensor * 0"
      ],
      "metadata": {
        "colab": {
          "base_uri": "https://localhost:8080/"
        },
        "id": "S6Z4IjDZEZEg",
        "outputId": "8a89300c-43d5-47d0-8ddc-126a39fa71af"
      },
      "execution_count": 29,
      "outputs": [
        {
          "output_type": "execute_result",
          "data": {
            "text/plain": [
              "<tf.Tensor: shape=(2, 3), dtype=int32, numpy=\n",
              "array([[0, 0, 0],\n",
              "       [0, 0, 0]], dtype=int32)>"
            ]
          },
          "metadata": {},
          "execution_count": 29
        }
      ]
    },
    {
      "cell_type": "code",
      "source": [
        "# divide tensor by value\n",
        "tensor / 2"
      ],
      "metadata": {
        "colab": {
          "base_uri": "https://localhost:8080/"
        },
        "id": "Dei2j34mEjfE",
        "outputId": "6ea23f36-df40-4aeb-f7c6-748eefe628f8"
      },
      "execution_count": 30,
      "outputs": [
        {
          "output_type": "execute_result",
          "data": {
            "text/plain": [
              "<tf.Tensor: shape=(2, 3), dtype=float64, numpy=\n",
              "array([[ 5.5,  6.5,  8.5],\n",
              "       [ 9.5, 11.5, 14.5]])>"
            ]
          },
          "metadata": {},
          "execution_count": 30
        }
      ]
    },
    {
      "cell_type": "code",
      "source": [
        "tensor1 = tf.constant([\n",
        "    [10, 20],\n",
        "    [30, 40]\n",
        "])\n",
        "\n",
        "tensor2 = tf.constant([\n",
        "    [1, 2],\n",
        "    [3, 4]\n",
        "])\n",
        "\n",
        "tensor1, tensor2"
      ],
      "metadata": {
        "colab": {
          "base_uri": "https://localhost:8080/"
        },
        "id": "s8bBSUvgEyuM",
        "outputId": "d5f0c0b0-2451-4a04-d04a-bcb02e3d5d08"
      },
      "execution_count": 31,
      "outputs": [
        {
          "output_type": "execute_result",
          "data": {
            "text/plain": [
              "(<tf.Tensor: shape=(2, 2), dtype=int32, numpy=\n",
              " array([[10, 20],\n",
              "        [30, 40]], dtype=int32)>, <tf.Tensor: shape=(2, 2), dtype=int32, numpy=\n",
              " array([[1, 2],\n",
              "        [3, 4]], dtype=int32)>)"
            ]
          },
          "metadata": {},
          "execution_count": 31
        }
      ]
    },
    {
      "cell_type": "code",
      "source": [
        "# add two tensors\n",
        "tensor1 + tensor2"
      ],
      "metadata": {
        "colab": {
          "base_uri": "https://localhost:8080/"
        },
        "id": "oMMLK9L4E9ks",
        "outputId": "23202282-6902-44b5-fc6a-7ffbf63edffa"
      },
      "execution_count": 32,
      "outputs": [
        {
          "output_type": "execute_result",
          "data": {
            "text/plain": [
              "<tf.Tensor: shape=(2, 2), dtype=int32, numpy=\n",
              "array([[11, 22],\n",
              "       [33, 44]], dtype=int32)>"
            ]
          },
          "metadata": {},
          "execution_count": 32
        }
      ]
    },
    {
      "cell_type": "code",
      "source": [
        "# subtract two tensors\n",
        "tensor1 - tensor2"
      ],
      "metadata": {
        "colab": {
          "base_uri": "https://localhost:8080/"
        },
        "id": "sH2xj5gzFFny",
        "outputId": "5405bed3-cf3f-48b7-9140-60832eaa8e23"
      },
      "execution_count": 33,
      "outputs": [
        {
          "output_type": "execute_result",
          "data": {
            "text/plain": [
              "<tf.Tensor: shape=(2, 2), dtype=int32, numpy=\n",
              "array([[ 9, 18],\n",
              "       [27, 36]], dtype=int32)>"
            ]
          },
          "metadata": {},
          "execution_count": 33
        }
      ]
    },
    {
      "cell_type": "code",
      "source": [
        "# elementwise multiplication of tensors\n",
        "tensor1 * tensor2"
      ],
      "metadata": {
        "colab": {
          "base_uri": "https://localhost:8080/"
        },
        "id": "2fQ-Pvj8FJ6m",
        "outputId": "b6692a54-31d1-4783-c064-46ef9124af5d"
      },
      "execution_count": 34,
      "outputs": [
        {
          "output_type": "execute_result",
          "data": {
            "text/plain": [
              "<tf.Tensor: shape=(2, 2), dtype=int32, numpy=\n",
              "array([[ 10,  40],\n",
              "       [ 90, 160]], dtype=int32)>"
            ]
          },
          "metadata": {},
          "execution_count": 34
        }
      ]
    },
    {
      "cell_type": "code",
      "source": [
        "# elementwise division of tensors\n",
        "tensor1 / tensor2"
      ],
      "metadata": {
        "colab": {
          "base_uri": "https://localhost:8080/"
        },
        "id": "sOO4goeBFQDo",
        "outputId": "87184846-794b-4c0e-d7f4-180478790f2f"
      },
      "execution_count": 35,
      "outputs": [
        {
          "output_type": "execute_result",
          "data": {
            "text/plain": [
              "<tf.Tensor: shape=(2, 2), dtype=float64, numpy=\n",
              "array([[10., 10.],\n",
              "       [10., 10.]])>"
            ]
          },
          "metadata": {},
          "execution_count": 35
        }
      ]
    },
    {
      "cell_type": "code",
      "source": [
        "tensor1, tensor2"
      ],
      "metadata": {
        "colab": {
          "base_uri": "https://localhost:8080/"
        },
        "id": "WWQX_uwWFs6C",
        "outputId": "0e8bebfe-6e4e-4f73-d52c-1898c79b5536"
      },
      "execution_count": 37,
      "outputs": [
        {
          "output_type": "execute_result",
          "data": {
            "text/plain": [
              "(<tf.Tensor: shape=(2, 2), dtype=int32, numpy=\n",
              " array([[10, 20],\n",
              "        [30, 40]], dtype=int32)>, <tf.Tensor: shape=(2, 2), dtype=int32, numpy=\n",
              " array([[1, 2],\n",
              "        [3, 4]], dtype=int32)>)"
            ]
          },
          "metadata": {},
          "execution_count": 37
        }
      ]
    },
    {
      "cell_type": "code",
      "source": [
        "# add two tensors with tf.math.add()\n",
        "tf.math.add(tensor1, tensor2)"
      ],
      "metadata": {
        "colab": {
          "base_uri": "https://localhost:8080/"
        },
        "id": "aUQ03B_gFWJj",
        "outputId": "b7d770b2-7bc9-4a0d-d1a4-8431a6379399"
      },
      "execution_count": 36,
      "outputs": [
        {
          "output_type": "execute_result",
          "data": {
            "text/plain": [
              "<tf.Tensor: shape=(2, 2), dtype=int32, numpy=\n",
              "array([[11, 22],\n",
              "       [33, 44]], dtype=int32)>"
            ]
          },
          "metadata": {},
          "execution_count": 36
        }
      ]
    },
    {
      "cell_type": "code",
      "source": [
        "# subtract second tensor from first tensor with tf.math.subtract()\n",
        "tf.math.subtract(tensor1, tensor2)"
      ],
      "metadata": {
        "colab": {
          "base_uri": "https://localhost:8080/"
        },
        "id": "CWNQgUVUFrbx",
        "outputId": "84fdd2ae-b6ae-4fa2-af37-8b6877e92d6b"
      },
      "execution_count": 38,
      "outputs": [
        {
          "output_type": "execute_result",
          "data": {
            "text/plain": [
              "<tf.Tensor: shape=(2, 2), dtype=int32, numpy=\n",
              "array([[ 9, 18],\n",
              "       [27, 36]], dtype=int32)>"
            ]
          },
          "metadata": {},
          "execution_count": 38
        }
      ]
    },
    {
      "cell_type": "code",
      "source": [
        "# elementwise matrix multiplication with tf.math.multiply()\n",
        "tf.math.multiply(tensor1, tensor2)"
      ],
      "metadata": {
        "colab": {
          "base_uri": "https://localhost:8080/"
        },
        "id": "cMLnDptUF5ks",
        "outputId": "da000c38-ba3b-4160-96f1-9113646ad5c0"
      },
      "execution_count": 39,
      "outputs": [
        {
          "output_type": "execute_result",
          "data": {
            "text/plain": [
              "<tf.Tensor: shape=(2, 2), dtype=int32, numpy=\n",
              "array([[ 10,  40],\n",
              "       [ 90, 160]], dtype=int32)>"
            ]
          },
          "metadata": {},
          "execution_count": 39
        }
      ]
    },
    {
      "cell_type": "code",
      "source": [
        "# elementwise matrix division with tf.math.divide()\n",
        "tf.math.divide(tensor1, tensor2)"
      ],
      "metadata": {
        "colab": {
          "base_uri": "https://localhost:8080/"
        },
        "id": "F7xj13eaGGIC",
        "outputId": "451e6eb0-2aa6-4afe-c216-7b20fdf7aba3"
      },
      "execution_count": 40,
      "outputs": [
        {
          "output_type": "execute_result",
          "data": {
            "text/plain": [
              "<tf.Tensor: shape=(2, 2), dtype=float64, numpy=\n",
              "array([[10., 10.],\n",
              "       [10., 10.]])>"
            ]
          },
          "metadata": {},
          "execution_count": 40
        }
      ]
    }
  ]
}